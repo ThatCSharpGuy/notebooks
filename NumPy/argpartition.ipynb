{
 "cells": [
  {
   "cell_type": "code",
   "execution_count": 67,
   "metadata": {},
   "outputs": [
    {
     "name": "stdout",
     "output_type": "stream",
     "text": [
      "[ 1 14  7 12  9  3 13  8  6  2 11  5  4 10]\n"
     ]
    }
   ],
   "source": [
    "import numpy as np\n",
    "array = np.array([1,14,7,12,9,3,13,8,6,2,11,5,4,10])\n",
    "print(array)"
   ]
  },
  {
   "cell_type": "code",
   "execution_count": 69,
   "metadata": {},
   "outputs": [
    {
     "name": "stdout",
     "output_type": "stream",
     "text": [
      "Values:    1   2   3   4   5   6   7   8   9  10  11  12  13  14\n",
      "Index:     0   9   5  12  11   8   2   7   4  13  10   3   6   1\n",
      "k:         0   1   2   3   4   5   6   7   8   9  10  11  12  13\n",
      "\n",
      "Values:    1   2   7  12   9   3  13   8   6  14  11   5   4  10\n",
      "Index:     0   9   2   3   4   5   6   7   8   1  10  11  12  13\n",
      "k:         0   1   2   3   4   5   6   7   8   9  10  11  12  13\n",
      "\n"
     ]
    }
   ],
   "source": [
    "def display_array(indexes, array):\n",
    "    print(\"Values:\", ''.join([\"%4d\" % d for d in array[indexes]]))\n",
    "    print(\"Index: \", ''.join([\"%4d\" % d for d in indexes]))\n",
    "    print(\"k:     \", ''.join([\"%4d\" % d for d in range(len(indexes))]))\n",
    "    print()\n",
    "    \n",
    "display_array(np.argsort(array), array)\n",
    "display_array(np.argpartition(array, 1), array)"
   ]
  },
  {
   "cell_type": "code",
   "execution_count": null,
   "metadata": {},
   "outputs": [],
   "source": []
  }
 ],
 "metadata": {
  "kernelspec": {
   "display_name": "Python 3",
   "language": "python",
   "name": "python3"
  },
  "language_info": {
   "codemirror_mode": {
    "name": "ipython",
    "version": 3
   },
   "file_extension": ".py",
   "mimetype": "text/x-python",
   "name": "python",
   "nbconvert_exporter": "python",
   "pygments_lexer": "ipython3",
   "version": "3.6.5"
  }
 },
 "nbformat": 4,
 "nbformat_minor": 2
}
