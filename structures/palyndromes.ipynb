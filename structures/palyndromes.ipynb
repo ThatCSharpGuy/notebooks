{
 "cells": [
  {
   "cell_type": "code",
   "execution_count": 42,
   "metadata": {},
   "outputs": [
    {
     "name": "stdout",
     "output_type": "stream",
     "text": [
      "9 geekskeeg\n"
     ]
    }
   ],
   "source": [
    "string = \"forgeeksskeegfor\"\n",
    "\n",
    "def isP(string):\n",
    "    i = 0\n",
    "    j = len(string)-1\n",
    "    while(i<=j):\n",
    "        if string[i] != string[j]:\n",
    "            return False\n",
    "        i+=1\n",
    "        j-=1\n",
    "    return True\n",
    "\n",
    "\n",
    "longest = 0\n",
    "indexes = (0,0)\n",
    "\n",
    "for i in range(len(string)+1):\n",
    "    for j in range(2, len(string)+1):\n",
    "        if i + j > len(string): continue\n",
    "        if isP(string[i:j+i]):\n",
    "            if longest < j:\n",
    "                longest = j\n",
    "                indexes = (i, j + i)\n",
    "print(longest, string[indexes[0]: indexes[1]])"
   ]
  },
  {
   "cell_type": "code",
   "execution_count": 46,
   "metadata": {},
   "outputs": [
    {
     "name": "stdout",
     "output_type": "stream",
     "text": [
      "9 geekskeeg\n"
     ]
    }
   ],
   "source": [
    "string = \"forgeekskeegfor\"\n",
    "\n",
    "longest = 0\n",
    "indexes = (0,0)\n",
    "\n",
    "# even:\n",
    "for i in range(len(string)):\n",
    "    j = i+1\n",
    "    \n",
    "    counter = 0\n",
    "    while (i-counter) >= 0 and (j + counter) < len(string):\n",
    "        if string[i-counter] == string[j+counter]:\n",
    "            if longest < counter * 2 + 2:\n",
    "                longest = counter * 2 + 2\n",
    "                indexes = (i-counter, j+counter+1)\n",
    "            counter += 1\n",
    "        else:\n",
    "            break\n",
    "\n",
    "# odd:\n",
    "for i in range(len(string)):\n",
    "    j = i\n",
    "    \n",
    "    counter = 0\n",
    "    while (i-counter) >= 0 and (j + counter) < len(string):\n",
    "        if string[i-counter] == string[j+counter]:\n",
    "            if longest < counter * 2 + 1:\n",
    "                longest = counter * 2 + 1\n",
    "                indexes = (i-counter, j+counter+1)\n",
    "            counter += 1\n",
    "        else:\n",
    "            break\n",
    "\n",
    "\n",
    "print(longest, string[indexes[0]: indexes[1]])\n"
   ]
  },
  {
   "cell_type": "code",
   "execution_count": null,
   "metadata": {},
   "outputs": [],
   "source": []
  }
 ],
 "metadata": {
  "kernelspec": {
   "display_name": "Python 3",
   "language": "python",
   "name": "python3"
  },
  "language_info": {
   "codemirror_mode": {
    "name": "ipython",
    "version": 3
   },
   "file_extension": ".py",
   "mimetype": "text/x-python",
   "name": "python",
   "nbconvert_exporter": "python",
   "pygments_lexer": "ipython3",
   "version": "3.6.4"
  }
 },
 "nbformat": 4,
 "nbformat_minor": 2
}
