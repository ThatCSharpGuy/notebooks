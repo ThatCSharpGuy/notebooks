{
 "cells": [
  {
   "cell_type": "code",
   "execution_count": 71,
   "metadata": {},
   "outputs": [
    {
     "name": "stdout",
     "output_type": "stream",
     "text": [
      "16\n",
      "[0, 0, 0, 0, 0, 0, 0, 0, 0, 0, 0, 0, 0, 0, 0, 0, 0]\n",
      "[0, 1, 1, 0, 1, 0, 0, 0, 1, 0, 0, 0, 0, 0, 0, 0, 1]\n",
      "[0, 1, 2, 0, 2, 0, 0, 0, 2, 0, 0, 0, 0, 0, 0, 0, 2]\n",
      "[0, 1, 2, 1, 3, 0, 0, 0, 3, 0, 0, 0, 0, 0, 0, 0, 3]\n",
      "[0, 1, 2, 1, 4, 0, 0, 0, 4, 0, 0, 0, 0, 0, 0, 0, 4]\n",
      "[0, 1, 2, 1, 4, 1, 1, 0, 5, 0, 0, 0, 0, 0, 0, 0, 5]\n",
      "[0, 1, 2, 1, 4, 1, 2, 0, 6, 0, 0, 0, 0, 0, 0, 0, 6]\n",
      "[0, 1, 2, 1, 4, 1, 2, 1, 7, 0, 0, 0, 0, 0, 0, 0, 7]\n",
      "[0, 1, 2, 1, 4, 1, 2, 1, 8, 0, 0, 0, 0, 0, 0, 0, 8]\n",
      "[0, 1, 2, 1, 4, 1, 2, 1, 8, 1, 1, 0, 1, 0, 0, 0, 9]\n",
      "[0, 1, 2, 1, 4, 1, 2, 1, 8, 1, 2, 0, 2, 0, 0, 0, 10]\n",
      "[0, 1, 2, 1, 4, 1, 2, 1, 8, 1, 2, 1, 3, 0, 0, 0, 11]\n",
      "[0, 1, 2, 1, 4, 1, 2, 1, 8, 1, 2, 1, 4, 0, 0, 0, 12]\n",
      "[0, 1, 2, 1, 4, 1, 2, 1, 8, 1, 2, 1, 4, 1, 1, 0, 13]\n",
      "[0, 1, 2, 1, 4, 1, 2, 1, 8, 1, 2, 1, 4, 1, 2, 0, 14]\n",
      "[0, 1, 2, 1, 4, 1, 2, 1, 8, 1, 2, 1, 4, 1, 2, 1, 15]\n",
      "[0, 1, 2, 1, 4, 1, 2, 1, 8, 1, 2, 1, 4, 1, 2, 1, 24]\n",
      "Visiting 15\n",
      "Visiting 14\n",
      "Visiting 12\n",
      "Visiting 8\n",
      "15\n"
     ]
    }
   ],
   "source": [
    "import numpy as np\n",
    "input_array = [1,1,1,1,1,1,1,1,1,1,1,1,1,1,1,9]\n",
    "numbers = len(input_array)\n",
    "print(numbers)\n",
    "BIT = [0 for i in range(numbers +1)]\n",
    "\n",
    "def lsb(i, debug=False):\n",
    "    result = i & -i\n",
    "    if debug:\n",
    "        print(np.binary_repr(i, 32))\n",
    "        print(np.binary_repr(-i, 32))\n",
    "        print(np.binary_repr(result, 32))\n",
    "    return i & -i\n",
    "\n",
    "\n",
    "\n",
    "def update(ix, val, debug=False):\n",
    "    nv = val;\n",
    "    if debug:\n",
    "        print(ix)\n",
    "    while ix < len(BIT):\n",
    "        BIT[ix] += val;\n",
    "        if debug:\n",
    "            print(\"Visiting %d\" % ix)\n",
    "        ix += (ix & -ix)\n",
    "\n",
    "def query(ix, debug=False):\n",
    "    r = 0;\n",
    "    while(ix):\n",
    "        r += BIT[ix];\n",
    "        if debug:\n",
    "            print(\"Visiting %d\" % ix)\n",
    "        ix -= (ix & -ix);\n",
    "    return r;\n",
    "\n",
    "print(BIT)\n",
    "for n in range(len(input_array)):\n",
    "    update(n+1, input_array[n])\n",
    "    print(BIT)\n",
    "print(query(15, True))"
   ]
  },
  {
   "cell_type": "code",
   "execution_count": 75,
   "metadata": {},
   "outputs": [
    {
     "name": "stdout",
     "output_type": "stream",
     "text": [
      "0 0\n",
      "1 1\n",
      "2 2\n",
      "3 1\n",
      "4 4\n",
      "5 1\n",
      "6 2\n",
      "7 1\n",
      "8 8\n",
      "9 1\n"
     ]
    }
   ],
   "source": [
    "for i in range(10):\n",
    "    print(i, i & -i)"
   ]
  },
  {
   "cell_type": "code",
   "execution_count": null,
   "metadata": {},
   "outputs": [],
   "source": []
  }
 ],
 "metadata": {
  "kernelspec": {
   "display_name": "Python 3",
   "language": "python",
   "name": "python3"
  },
  "language_info": {
   "codemirror_mode": {
    "name": "ipython",
    "version": 3
   },
   "file_extension": ".py",
   "mimetype": "text/x-python",
   "name": "python",
   "nbconvert_exporter": "python",
   "pygments_lexer": "ipython3",
   "version": "3.6.4"
  }
 },
 "nbformat": 4,
 "nbformat_minor": 2
}
