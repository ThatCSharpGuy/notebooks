{
 "cells": [
  {
   "cell_type": "code",
   "execution_count": 36,
   "metadata": {},
   "outputs": [
    {
     "name": "stdout",
     "output_type": "stream",
     "text": [
      "Received catodocat\n",
      "cat\n",
      "Received odocat\n",
      "odo\n",
      "Received cat\n",
      "cat\n",
      "Received \n"
     ]
    },
    {
     "data": {
      "text/plain": [
       "True"
      ]
     },
     "execution_count": 36,
     "metadata": {},
     "output_type": "execute_result"
    }
   ],
   "source": [
    "valid = set(['cat', 'dog', 'bag','odo'])\n",
    "\n",
    "s = 'catodocat'\n",
    "\n",
    "def match(string):\n",
    "    print(\"Received\", string)\n",
    "    if not string:\n",
    "        return True\n",
    "    \n",
    "    pointer = 1\n",
    "    valid_ = False\n",
    "    while pointer < len(string)+1:\n",
    "        if string[:pointer] in valid:\n",
    "            print(string[:pointer])\n",
    "            valid_ = match(string[pointer:])\n",
    "        pointer += 1\n",
    "    if string in valid:\n",
    "        return True\n",
    "    if valid_:\n",
    "        return True\n",
    "    return False\n",
    "\n",
    "match(s)"
   ]
  },
  {
   "cell_type": "code",
   "execution_count": null,
   "metadata": {},
   "outputs": [],
   "source": []
  }
 ],
 "metadata": {
  "kernelspec": {
   "display_name": "Python 3",
   "language": "python",
   "name": "python3"
  },
  "language_info": {
   "codemirror_mode": {
    "name": "ipython",
    "version": 3
   },
   "file_extension": ".py",
   "mimetype": "text/x-python",
   "name": "python",
   "nbconvert_exporter": "python",
   "pygments_lexer": "ipython3",
   "version": "3.6.4"
  }
 },
 "nbformat": 4,
 "nbformat_minor": 2
}
