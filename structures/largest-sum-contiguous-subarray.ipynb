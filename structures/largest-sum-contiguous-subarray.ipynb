{
 "cells": [
  {
   "cell_type": "code",
   "execution_count": 28,
   "metadata": {},
   "outputs": [
    {
     "name": "stdout",
     "output_type": "stream",
     "text": [
      "7 [4, -1, -2, 1, 5] [2, 6]\n"
     ]
    }
   ],
   "source": [
    "arr = [-2, -3, 4, -1, -2, 1, 5, -3]\n",
    "\n",
    "curr = 0\n",
    "global_max = 0\n",
    "indexes = [0,0]\n",
    "\n",
    "\n",
    "\n",
    "for i in range(0,len(arr)):\n",
    "    m = 0\n",
    "    for j in range(i, len(arr)):\n",
    "        m += arr[j]\n",
    "        if global_max < m:\n",
    "            indexes = [i, j]\n",
    "            global_max = m\n",
    "print(global_max, arr[indexes[0]:indexes[1]+1], indexes)\n",
    "    "
   ]
  },
  {
   "cell_type": "code",
   "execution_count": 64,
   "metadata": {},
   "outputs": [
    {
     "name": "stdout",
     "output_type": "stream",
     "text": [
      "Position 1 current max -3 global max 0 current -3\n",
      "Position 2 current max 4 global max 0 current 4\n",
      "Position 3 current max 3 global max 4 current -1\n",
      "Position 4 current max 1 global max 4 current -2\n",
      "Position 5 current max 2 global max 4 current 1\n",
      "Position 6 current max 7 global max 4 current 5\n",
      "Position 7 current max 4 global max 7 current -3\n",
      "7 [4, -1, -2, 1, 5] [2, 6]\n"
     ]
    }
   ],
   "source": [
    "arr = [-2, -3, 4, -1, -2, 1, 5, -3]\n",
    "\n",
    "current_max = 0\n",
    "global_max = 0\n",
    "indexes = [0,0]\n",
    "\n",
    "current_max = arr[0]\n",
    "for i in range(1,len(arr)):\n",
    "    current = arr[i]\n",
    "    current_max = max(current, current_max + current)\n",
    "    print(\"Position\", i, \"current max\", current_max, \"global max\", global_max, \"current\", current)\n",
    "    if current_max == current:\n",
    "        indexes[0] = i\n",
    "    if global_max < current_max:\n",
    "        global_max = current_max\n",
    "        indexes[1] = i\n",
    "print(global_max, arr[indexes[0]:indexes[1]+1], indexes)"
   ]
  },
  {
   "cell_type": "code",
   "execution_count": null,
   "metadata": {},
   "outputs": [],
   "source": []
  }
 ],
 "metadata": {
  "kernelspec": {
   "display_name": "Python 3",
   "language": "python",
   "name": "python3"
  },
  "language_info": {
   "codemirror_mode": {
    "name": "ipython",
    "version": 3
   },
   "file_extension": ".py",
   "mimetype": "text/x-python",
   "name": "python",
   "nbconvert_exporter": "python",
   "pygments_lexer": "ipython3",
   "version": "3.6.4"
  }
 },
 "nbformat": 4,
 "nbformat_minor": 2
}
