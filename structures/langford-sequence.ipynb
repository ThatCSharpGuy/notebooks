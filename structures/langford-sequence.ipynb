{
 "cells": [
  {
   "cell_type": "code",
   "execution_count": 78,
   "metadata": {},
   "outputs": [
    {
     "name": "stdout",
     "output_type": "stream",
     "text": [
      "[1, 3, 1, 6, 7, 3, 8, 5, 2, 4, 6, 2, 7, 5, 4, 8]\n",
      "(1, 3, 6, 7, 8, 5, 2, 4)\n"
     ]
    },
    {
     "data": {
      "text/plain": [
       "True"
      ]
     },
     "execution_count": 78,
     "metadata": {},
     "output_type": "execute_result"
    }
   ],
   "source": [
    "from itertools import permutations as permutations\n",
    "\n",
    "n = 8\n",
    "\n",
    "def cleanArray(n):\n",
    "    return [False for i in range(n * 2)], [0 for i in range(n*2)]\n",
    "\n",
    "def langford(n):    \n",
    "    count = 0\n",
    "    used, arr = cleanArray(n)\n",
    "    for p in permutations([i+1 for i in range(n)]):\n",
    "        used,arr = cleanArray(n)\n",
    "        count = 0\n",
    "        for i in range(n):\n",
    "            n_ = p[i]\n",
    "            pos=0\n",
    "            while used[pos] and pos <= n*2:\n",
    "                pos+=1\n",
    "            if pos + n_ + 1 >= n * 2:\n",
    "                used,arr = cleanArray(n)\n",
    "                count = 0\n",
    "                break\n",
    "            if used[pos] or used[pos + n_ + 1]:\n",
    "                used,arr = cleanArray(n)\n",
    "                count = 0\n",
    "                break\n",
    "\n",
    "            count += 1\n",
    "            used[pos] = True\n",
    "            used[pos + n_ + 1] = True\n",
    "            arr[pos] = n_\n",
    "            arr[pos + n_ + 1] = n_\n",
    "            if count == n:\n",
    "                print(arr)\n",
    "                print(p)\n",
    "                return True\n",
    "    return False\n",
    "langford(n)"
   ]
  },
  {
   "cell_type": "code",
   "execution_count": null,
   "metadata": {},
   "outputs": [],
   "source": []
  }
 ],
 "metadata": {
  "kernelspec": {
   "display_name": "Python 3",
   "language": "python",
   "name": "python3"
  },
  "language_info": {
   "codemirror_mode": {
    "name": "ipython",
    "version": 3
   },
   "file_extension": ".py",
   "mimetype": "text/x-python",
   "name": "python",
   "nbconvert_exporter": "python",
   "pygments_lexer": "ipython3",
   "version": "3.6.4"
  }
 },
 "nbformat": 4,
 "nbformat_minor": 2
}
