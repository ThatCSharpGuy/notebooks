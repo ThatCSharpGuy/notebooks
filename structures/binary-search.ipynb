{
 "cells": [
  {
   "cell_type": "markdown",
   "metadata": {},
   "source": [
    "# Binary search"
   ]
  },
  {
   "cell_type": "markdown",
   "metadata": {},
   "source": [
    "## Simple binary search"
   ]
  },
  {
   "cell_type": "code",
   "execution_count": 74,
   "metadata": {},
   "outputs": [
    {
     "name": "stdout",
     "output_type": "stream",
     "text": [
      "Found: 70\n"
     ]
    }
   ],
   "source": [
    "def binary_search(arr, s):\n",
    "\n",
    "    l = 0\n",
    "    r = len(arr) - 1\n",
    "\n",
    "    while l <= r:\n",
    "        mid = int((l + r) / 2);\n",
    "        current_val = arr[mid]\n",
    "#        print(\"L: %3d R: %3d M: %3d\" %(l, r, mid))\n",
    "        if current_val == s:\n",
    "            return mid\n",
    "        if current_val > s:\n",
    "            r = mid - 1\n",
    "        if current_val < s:\n",
    "            l = mid + 1\n",
    "\n",
    "    current_val = arr[mid]\n",
    "    return -1\n",
    "\n",
    "arr = [2, 3, 4, 10, 40, 43, 50, 51, 52, 53, 60, 70]\n",
    "found = binary_search(arr, 70)\n",
    "if found != -1:\n",
    "    print(\"Found:\", arr[found])\n",
    "else:\n",
    "    print(\"Not found\")"
   ]
  },
  {
   "cell_type": "markdown",
   "metadata": {},
   "source": [
    "## Root finding"
   ]
  },
  {
   "cell_type": "code",
   "execution_count": 119,
   "metadata": {},
   "outputs": [
    {
     "name": "stdout",
     "output_type": "stream",
     "text": [
      "0.0000 13.5000 (8128549501381546231610196145209344.0000) 27.0000\n",
      "0.0000 6.7500 (7570301649516025773817856.0000) 13.5000\n",
      "0.0000 3.3750 (7050392822843069.0000) 6.7500\n",
      "0.0000 1.6875 (6566189.9958) 3.3750\n",
      "0.0000 0.8438 (0.0061) 1.6875\n",
      "0.8438 1.2656 (1172.6039) 1.6875\n",
      "0.8438 1.0547 (4.9399) 1.2656\n",
      "1.0547 1.1602 (86.1975) 1.2656\n",
      "1.0547 1.1074 (21.3498) 1.1602\n",
      "1.1074 1.1338 (43.2482) 1.1602\n",
      "1.1074 1.1206 (30.4496) 1.1338\n",
      "1.1074 1.1140 (25.5103) 1.1206\n",
      "1.1140 1.1173 (27.8744) 1.1206\n",
      "1.1140 1.1157 (26.6670) 1.1173\n",
      "1.1157 1.1165 (27.2643) 1.1173\n",
      "1.1157 1.1161 (26.9641) 1.1165\n",
      "1.1161 1.1163 (27.1138) 1.1165\n",
      "1.1161 1.1162 (27.0388) 1.1163\n",
      "1.1161 1.1161 (27.0014) 1.1162\n"
     ]
    },
    {
     "data": {
      "text/plain": [
       "1.1161251068115234"
      ]
     },
     "execution_count": 119,
     "metadata": {},
     "output_type": "execute_result"
    }
   ],
   "source": [
    "def root(x, n):\n",
    "    l = 0\n",
    "    r = x\n",
    "    while l <= r:\n",
    "        mid = (l + r) / 2\n",
    "        p = pow(mid,n)\n",
    "        print(\"%.4f %.4f (%.4f) %.4f\" % (l, mid, p, r))\n",
    "        if abs(p - x) < 0.01:\n",
    "            return mid\n",
    "        if p < x: \n",
    "            l = mid  \n",
    "        else:\n",
    "            r = mid \n",
    "    return 0\n",
    "root(27,30)"
   ]
  },
  {
   "cell_type": "markdown",
   "metadata": {},
   "source": [
    "## Array Index & Element Equality"
   ]
  },
  {
   "cell_type": "code",
   "execution_count": 151,
   "metadata": {},
   "outputs": [
    {
     "name": "stdout",
     "output_type": "stream",
     "text": [
      "[-8, -7, 0, 0, 4]\n",
      "[-8, -8, -2, -3, 0]\n"
     ]
    },
    {
     "data": {
      "text/plain": [
       "4"
      ]
     },
     "execution_count": 151,
     "metadata": {},
     "output_type": "execute_result"
    }
   ],
   "source": [
    "def index_equals_value_search(arr):\n",
    "    start = 0\n",
    "    end = len(arr) - 1\n",
    "    while start <= end:\n",
    "        i = (start + end) // 2\n",
    "        # Check      that's the first element or \n",
    "        #                                   the previous is not one of those\n",
    "        #                                   values that we are looking for\n",
    "        if arr[i] - i == 0 and (i == 0 or (arr[i-1] - (i-1) < 0)):\n",
    "            return i\n",
    "        if arr[i] - i < 0:\n",
    "            start = i + 1\n",
    "        else:\n",
    "            end = i - 1\n",
    "    return -1\n",
    "\n",
    "arr = [-13,-9,-6,3,4,5,10,11,14]\n",
    "arr = [-8,0,2,5]\n",
    "arr = [-8,-7,0,0,4]\n",
    "dif = [arr[i] - i for i in range(len(arr))]\n",
    "print(arr)\n",
    "print(dif)\n",
    "index_equals_value_search(arr)"
   ]
  },
  {
   "cell_type": "code",
   "execution_count": null,
   "metadata": {},
   "outputs": [],
   "source": []
  }
 ],
 "metadata": {
  "kernelspec": {
   "display_name": "Python 3",
   "language": "python",
   "name": "python3"
  },
  "language_info": {
   "codemirror_mode": {
    "name": "ipython",
    "version": 3
   },
   "file_extension": ".py",
   "mimetype": "text/x-python",
   "name": "python",
   "nbconvert_exporter": "python",
   "pygments_lexer": "ipython3",
   "version": "3.6.4"
  }
 },
 "nbformat": 4,
 "nbformat_minor": 2
}
