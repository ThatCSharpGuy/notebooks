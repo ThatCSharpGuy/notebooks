{
 "cells": [
  {
   "cell_type": "code",
   "execution_count": 33,
   "metadata": {},
   "outputs": [],
   "source": [
    "import contextlib\n",
    "\n",
    "class Mgr(contextlib.ContextDecorator):\n",
    "    \n",
    "    def __enter__(self):\n",
    "        print(\"A\")\n",
    "    \n",
    "    def __exit__(*args):\n",
    "        print(\"Bye\", args)\n",
    "        \n",
    "    def __str__(self):\n",
    "        return \"Manager\""
   ]
  },
  {
   "cell_type": "code",
   "execution_count": 34,
   "metadata": {},
   "outputs": [
    {
     "name": "stdout",
     "output_type": "stream",
     "text": [
      "A\n",
      "None\n",
      "Bye (<__main__.Mgr object at 0x103eac898>, None, None, None)\n",
      "A\n",
      "Manager\n",
      "Bye (<__main__.Mgr object at 0x103eac5f8>, None, None, None)\n",
      "A\n",
      "Manager\n",
      "Bye (<__main__.Mgr object at 0x103eac5f8>, None, None, None)\n"
     ]
    }
   ],
   "source": [
    "man = Mgr()\n",
    "\n",
    "with Mgr() as a:\n",
    "    print(a)\n",
    "    \n",
    "with man:\n",
    "    print(man)\n",
    "    \n",
    "with man:\n",
    "    print(man)"
   ]
  },
  {
   "cell_type": "code",
   "execution_count": 25,
   "metadata": {},
   "outputs": [
    {
     "name": "stdout",
     "output_type": "stream",
     "text": [
      "A\n",
      "X\n",
      "Bye None None None\n"
     ]
    }
   ],
   "source": [
    "@Mgr()\n",
    "def a():\n",
    "    print(\"X\")\n",
    "    \n",
    "a()"
   ]
  },
  {
   "cell_type": "code",
   "execution_count": null,
   "metadata": {},
   "outputs": [],
   "source": []
  }
 ],
 "metadata": {
  "kernelspec": {
   "display_name": "Python 3",
   "language": "python",
   "name": "python3"
  },
  "language_info": {
   "codemirror_mode": {
    "name": "ipython",
    "version": 3
   },
   "file_extension": ".py",
   "mimetype": "text/x-python",
   "name": "python",
   "nbconvert_exporter": "python",
   "pygments_lexer": "ipython3",
   "version": "3.6.5"
  }
 },
 "nbformat": 4,
 "nbformat_minor": 2
}
