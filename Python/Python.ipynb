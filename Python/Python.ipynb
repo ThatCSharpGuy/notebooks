{
 "cells": [
  {
   "cell_type": "markdown",
   "metadata": {},
   "source": [
    "# Python.\n",
    "\n",
    "Como muchos de ustedes ya sabrán, Python es un lenguaje de programación, que como muy pocos seguramente saben, tomó su nombre no de una serpiente, si no de un programa de comedia británico, pero en fin. Python fue publicado en 1991 por Guido van Rossum, inicialmente fue pensado como un simple lenguaje de scripting pero en la actualidad se ha infiltrado en el desarrollo web, la ciencia de datos, machine learning y ramas afines.\n",
    "\n",
    "## Filosofía. \n",
    "\n",
    "La filosofía detrás de Python podría estar resumida en un documento que fue creado en 1999 llamado , ocho años después de su creación. Pueden consultar el documento en este enlace: pero les voy a decir algunos de estos principios que sí, suenan muy filosóficos:  \n",
    "\n",
    " - Beautiful is better than ugly\n",
    " - Explicit is better than implicit\n",
    " - Simple is better than complex\n",
    " - Readability counts\n",
    " - There should be one—and preferably only one—obvious way to do it.\n",
    " - If the implementation is hard to explain, it's a bad idea.\n",
    "\n",
    "Lo cierto es que mientras que estos principios suenan bonitos, el escribir software todavía recae en los humanos, así que estos principios no se aplican muchas veces. Y, por ejemplo, puedes encontrar que en Python es normal que encuentres más de una manera de hacer las cosas.  \n",
    "\n",
    "## Características\n",
    "\n",
    "**Es dinámicamente tipado**: Porque podemos hacer algo como esto:  "
   ]
  },
  {
   "cell_type": "code",
   "execution_count": 1,
   "metadata": {
    "collapsed": true
   },
   "outputs": [],
   "source": [
    "a = 1\n",
    "b = 'C'\n",
    "c = [0.1, 0.5]"
   ]
  },
  {
   "cell_type": "markdown",
   "metadata": {},
   "source": [
    "Es decir, no es necesario especificar el tipo de dato de una variable antes de declararla. Y no existe un compilador, ni el intérprete, que esté comprobando esto antes de que el programa se esté ejecutando. \n",
    "\n",
    "También permite algo como esto:"
   ]
  },
  {
   "cell_type": "code",
   "execution_count": 2,
   "metadata": {
    "collapsed": true
   },
   "outputs": [],
   "source": [
    "a = 1\n",
    "a = 'C'\n",
    "a = [0.1, 0.5]"
   ]
  },
  {
   "cell_type": "markdown",
   "metadata": {},
   "source": [
    "Es decir, cambiar por completo el tipo de dato de una variable sin que nadie diga nada. Y créanme, esto puede ser motivo de muchas confusiones, pero una vez que te acostumbras, puede llegar a ser una herramienta muy útil.  \n",
    "\n",
    "Sin embargo, también es considerado un lenguaje **fuertemente tipado** (cabe recalcar que puede existir esta combinación: dinámico y fuertemente tipado a la vez). Es considerado fuertemente tipado porque el lenguaje define un conjunto de reglas (de comportamientos) bajo las cuales los tipos de dato se pueden mezclar entre ellos, y romper esas reglas generará una excepción. Toma por ejemplo el siguiente código:"
   ]
  },
  {
   "cell_type": "code",
   "execution_count": 3,
   "metadata": {},
   "outputs": [
    {
     "ename": "TypeError",
     "evalue": "must be str, not int",
     "output_type": "error",
     "traceback": [
      "\u001b[1;31m---------------------------------------------------------------------------\u001b[0m",
      "\u001b[1;31mTypeError\u001b[0m                                 Traceback (most recent call last)",
      "\u001b[1;32m<ipython-input-3-4f7add1ce1c5>\u001b[0m in \u001b[0;36m<module>\u001b[1;34m()\u001b[0m\n\u001b[1;32m----> 1\u001b[1;33m \u001b[0ma3\u001b[0m \u001b[1;33m=\u001b[0m \u001b[1;34m\"a\"\u001b[0m \u001b[1;33m+\u001b[0m \u001b[1;36m3\u001b[0m\u001b[1;33m\u001b[0m\u001b[0m\n\u001b[0m",
      "\u001b[1;31mTypeError\u001b[0m: must be str, not int"
     ]
    }
   ],
   "source": [
    "a3 = \"a\" + 3 "
   ]
  },
  {
   "cell_type": "markdown",
   "metadata": {},
   "source": [
    "por increíble que parezca, esto nos generaría un error puesto que los tipos de dato int y string no definen una forma de mezclarse, si quieres concatenar las cadenas tendrías que primero convertir el entero a cadena.\n",
    "\n",
    "**No existen los corchetes (o llaves)**: sino que los bloques de código se definen usando indentaciones (tabs o espacios, lo que importa es que seas consistente en el método de indentación que usas), es decir un bloque `if` se define de la siguiente manera: "
   ]
  },
  {
   "cell_type": "code",
   "execution_count": 4,
   "metadata": {},
   "outputs": [
    {
     "name": "stdout",
     "output_type": "stream",
     "text": [
      "b es C\n"
     ]
    }
   ],
   "source": [
    "if b == 'C':\n",
    "    print(\"b es C\")\n",
    "elif b == 'A':\n",
    "    print(\"b es A\")"
   ]
  },
  {
   "cell_type": "markdown",
   "metadata": {},
   "source": [
    "O un código un poco más elaborado se vería así:  "
   ]
  },
  {
   "cell_type": "code",
   "execution_count": null,
   "metadata": {
    "collapsed": true
   },
   "outputs": [],
   "source": [
    "def del_none(d):\n",
    "    for key, value in list(d.items()):\n",
    "        if value is None:\n",
    "            del d[key]\n",
    "        elif isinstance(value, str):\n",
    "            d[key] = d[key].strip()\n",
    "        elif isinstance(value, dict):\n",
    "            del_none(value)\n",
    "    return d"
   ]
  },
  {
   "cell_type": "markdown",
   "metadata": {},
   "source": [
    "Ah, seguramente lo notaste, pero Python tampoco requiere que uses un `;` para terminar cada instrucción, la idea es que exista una instrucción por cada línea.\n",
    "\n",
    "Como tal vez pudiste ver, es también un **lenguaje de alto nivel**: La idea es abstraer (esconder) la mayor cantidad de detalles de implementación. Es un lenguaje de alto nivel y en ocasiones es muy sencillo leer programas escritos en este lenguaje, y a mi parecer, en muchos casos como si estuvieras leyendo un libro escrito en inglés.   \n",
    "\n",
    "Python es también **multiparadigma**, puedes organizar tu código en clases, o utilizarlo como un lenguaje funcional, o puedes simplemente crear un programa que se ejecute proceduralmente... o una combinación de todo esto.  \n",
    "\n",
    "**Altamente extensible**: tiene soporte para descargar módulos o bibliotecas de repositorios de paquetes que permiten que añadirle funcionalidad a tus programas, así que es normal que cuando descargues un proyecto tengas que descargar los paquetes asociados con instrucciones como las siguientes:  \n",
    "\n",
    "```\n",
    "pip install package-name\n",
    "easy_install package-name\n",
    "```  \n",
    "\n",
    "Cuenta con una **consola interactiva** o REPL\n",
    "\n",
    "Es **multiplataforma** y no está fuertemente ligado a un sistema operativo ni a un entorno de desarrollo.\n",
    "  \n",
    "## Desventajas  \n",
    "\n",
    "- Considerado **lento**\n",
    "- A pesar de ser muy usado, hay áreas en las que no tiene mucho impacto, como el desarrollo para móviles   \n",
    "- Consume mucha memoria y facilita la escritura de código que, aunque funciona, no está muy optimizado  \n",
    "- Puede hacer que otros lenguajes sean difíciles de trabajar, uno se acostumbra muy rápido a las bondades de Python, a mi de pronto ya se me olvida poner puntos y coma en C#  \n",
    "\n",
    "## Razones para aprender  \n",
    "\n",
    " - Quieres desarrollar aplicaciones web\n",
    " - Te interesa automatizar tareas repetitivas\n",
    " - Quieres analizar datos\n",
    " - Es entretenido\n",
    " - Una herramienta más en tus habilidades  \n",
    " \n",
    "## IDEs  \n",
    "\n",
    " - [Thonny](http://thonny.org/)\n",
    " - [PyCharm](https://www.jetbrains.com/pycharm/)\n",
    " - [PyScripter](https://github.com/pyscripter/pyscripter)\n",
    " - [Visual Studio](https://www.visualstudio.com/es/vs/python/) y [Visual Studio Code](https://code.visualstudio.com/docs/languages/python) (con plugins)\n",
    " - [PyDev (Eclipse)](http://www.pydev.org/)"
   ]
  },
  {
   "cell_type": "markdown",
   "metadata": {
    "collapsed": true
   },
   "source": [
    "## Recursos para aprender\n",
    "\n",
    " - [LearnPython.org (en español)](https://www.learnpython.org/es/)\n",
    " - [\"Python instantáneo\"](http://rapto.arrakis.es/AprendaPython.html)\n",
    " - [Python in one pic](https://github.com/coodict/python3-in-one-pic/blob/master/notebooks/py3-in-one-pic.ipynb) and [Python in one pic (interactive)](http://coodict.github.io/python3-in-one-pic/)\n",
    " - [A Byte of Python](https://python.swaroopch.com/)\n",
    " - [Introduction to Programming with Python](https://mva.microsoft.com/en-US/training-courses/introduction-to-programming-with-python-8360)\n",
    " - [Automate the Boring Stuff with Python](http://automatetheboringstuff.com/)"
   ]
  },
  {
   "cell_type": "code",
   "execution_count": null,
   "metadata": {
    "collapsed": true
   },
   "outputs": [],
   "source": []
  }
 ],
 "metadata": {
  "kernelspec": {
   "display_name": "Python 3",
   "language": "python",
   "name": "python3"
  },
  "language_info": {
   "codemirror_mode": {
    "name": "ipython",
    "version": 3
   },
   "file_extension": ".py",
   "mimetype": "text/x-python",
   "name": "python",
   "nbconvert_exporter": "python",
   "pygments_lexer": "ipython3",
   "version": "3.6.2"
  }
 },
 "nbformat": 4,
 "nbformat_minor": 2
}
