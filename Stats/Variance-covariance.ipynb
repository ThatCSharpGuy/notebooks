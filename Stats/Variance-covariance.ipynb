{
 "cells": [
  {
   "cell_type": "code",
   "execution_count": 1,
   "metadata": {},
   "outputs": [],
   "source": [
    "import numpy as np"
   ]
  },
  {
   "cell_type": "markdown",
   "metadata": {},
   "source": [
    "## Variance\n",
    "(from [http://www.mathsisfun.com/data/standard-deviation.html](http://www.mathsisfun.com/data/standard-deviation.html))\n",
    "\n",
    " > The average of the squared differences from the Mean.\n",
    " \n",
    "To calculate the variance follow these steps:\n",
    "\n",
    " 1. Work out the Mean (the simple average of the numbers)\n",
    " 2. Then for each number: subtract the Mean and square the result (the squared difference).\n",
    " 3. Then work out the average of those squared differences. ([Why Square?](http://www.mathsisfun.com/data/standard-deviation.html#WhySquare))"
   ]
  },
  {
   "cell_type": "code",
   "execution_count": 50,
   "metadata": {},
   "outputs": [
    {
     "name": "stdout",
     "output_type": "stream",
     "text": [
      "Mean 394.0\n",
      "Variance 21704.000000 (21704.000000)\n",
      "Std 147.322775 (147.322775)\n"
     ]
    }
   ],
   "source": [
    "dogs = np.array([600, 470, 170,  430, 300])\n",
    "\n",
    "dogs_mean = np.mean(dogs)\n",
    "print(\"Mean\", dogs_mean)\n",
    "\n",
    "dogs_diff = dogs - dogs_mean\n",
    "dogs_variance = np.sum(dogs_diff ** 2) / len(dogs)\n",
    "print(\"Variance %f (%f)\" % (dogs_variance, np.var(dogs)))\n",
    "\n",
    "dogs_std = np.sqrt(dogs_variance)\n",
    "print(\"Std %f (%f)\" % (dogs_std, np.std(dogs)))"
   ]
  },
  {
   "cell_type": "markdown",
   "metadata": {},
   "source": [
    "### But ... there is a small change with Sample Data  (degrees of freedom)\n",
    "Our example has been for a Population (the 5 dogs are the only dogs we are interested in). But if the data is a Sample (a selection taken from a bigger Population), then the calculation changes!\n",
    "\n",
    "When you have $N$ data values that are:\n",
    "\n",
    " - **The Population**: divide by $N$ when calculating *Variance* (like we did)\n",
    " - **A Sample**: divide by $N-1$ when calculating *Variance*"
   ]
  },
  {
   "cell_type": "markdown",
   "metadata": {},
   "source": [
    "## Covariance\n",
    "(from [https://www.itl.nist.gov/div898/handbook/pmc/section5/pmc541.htm](https://www.itl.nist.gov/div898/handbook/pmc/section5/pmc541.htm))\n",
    "\n",
    "#### Sample data matrix\n",
    "\n",
    "Consider the following matrix:\n",
    "\n",
    "$${\\bf X} = \\left[ \\begin{array}{ccc} \n",
    "4.0 & 2.0 & 0.60 \\\\\n",
    "4.2 & 2.1 & 0.59 \\\\\n",
    "3.9 & 2.0 & 0.58 \\\\\n",
    "4.3 & 2.1 & 0.62 \\\\\n",
    "4.1 & 2.2 & 0.63   \n",
    "\\end{array} \\right]$$"
   ]
  },
  {
   "cell_type": "code",
   "execution_count": 55,
   "metadata": {},
   "outputs": [],
   "source": [
    "X = np.array([ \n",
    "[4.0, 2.0, 0.60],\n",
    "[4.2, 2.1, 0.59],\n",
    "[3.9, 2.0, 0.58],\n",
    "[4.3, 2.1, 0.62],\n",
    "[4.1, 2.2, 0.63]])"
   ]
  },
  {
   "cell_type": "markdown",
   "metadata": {},
   "source": [
    "The set of 5 observations, measuring 3 variables, can be described by its mean vector and variance-covariance matrix. The three variables, from left to right are length, width, and height of a certain object, for example. Each row vector $X_i$ is another observation of the three variables (or components).\n",
    "\n",
    "#### Definition of mean vector and variance-covariance matrix\n",
    "\n",
    "The mean vector consists of the means of each variable and the variance-covariance matrix consists of the *variances* of the variables along the main diagonal and the *covariances* between each pair of variables in the other matrix positions.  \n",
    "\n",
    "The formula for computing the covariance of the variables $X$ and $Y$ is:\n",
    "\n",
    "$$\\mbox{COV} = \\frac{\\sum_{i=1}^n (X_i - \\bar{x})(Y_i - \\bar{y})}{n-1} \\, ,$$\n",
    "\n",
    "with $\\bar{x}$ and $\\bar{y}$ denoting the means of $X$ and $Y$, respectively."
   ]
  },
  {
   "cell_type": "markdown",
   "metadata": {},
   "source": [
    "#### Mean vector and variance-covariance matrix for sample data matrix"
   ]
  },
  {
   "cell_type": "code",
   "execution_count": 56,
   "metadata": {},
   "outputs": [
    {
     "name": "stdout",
     "output_type": "stream",
     "text": [
      "[4.1   2.08  0.604]\n"
     ]
    }
   ],
   "source": [
    "X_mean = np.mean(X, axis=0)\n",
    "print(X_mean)"
   ]
  },
  {
   "cell_type": "markdown",
   "metadata": {},
   "source": [
    "$${\\bf \\bar{x}} = \\left[ \\begin{array}{ccc} \n",
    "4.10 & 2.08 & 0.604\n",
    "\\end{array} \\right]$$"
   ]
  },
  {
   "cell_type": "code",
   "execution_count": 104,
   "metadata": {},
   "outputs": [
    {
     "name": "stdout",
     "output_type": "stream",
     "text": [
      "[[0.025   0.0075  0.00175]\n",
      " [0.0075  0.007   0.00135]\n",
      " [0.00175 0.00135 0.00043]]\n",
      "\n",
      "[[0.025   0.0075  0.00175]\n",
      " [0.0075  0.007   0.00135]\n",
      " [0.00175 0.00135 0.00043]]\n"
     ]
    }
   ],
   "source": [
    "X_0 = X[:,0]\n",
    "X_1 = X[:,1]\n",
    "X_2 = X[:,2]\n",
    "\n",
    "def calc_variance(x_1, x_2):\n",
    "    diff_1 = x_1 - np.mean(x_1)\n",
    "    diff_2 = x_2 - np.mean(x_2)\n",
    "    return np.sum(diff_1 * diff_2) / (len(x_1)-1)\n",
    "\n",
    "# \"Manual\"\n",
    "cov = []\n",
    "for i in range(X.shape[1]):\n",
    "    row = []\n",
    "    for j in range(X.shape[1]):\n",
    "        row.append(calc_variance(X[:,i], X[:,j]))\n",
    "    cov.append(row)\n",
    "    \n",
    "print(np.array(cov))\n",
    "print()\n",
    "print(np.cov(X, rowvar=False))"
   ]
  },
  {
   "cell_type": "markdown",
   "metadata": {},
   "source": [
    "$${\\bf S} = \\left[ \\begin{array}{ccc} \n",
    "0.025 & 0.0075 & 0.00175 \\\\\n",
    "0.0075 & 0.0070 & 0.00135 \\\\\n",
    "0.00175 & 0.00135 & 0.00043   \n",
    "\\end{array} \\right]$$"
   ]
  },
  {
   "cell_type": "code",
   "execution_count": null,
   "metadata": {},
   "outputs": [],
   "source": []
  }
 ],
 "metadata": {
  "kernelspec": {
   "display_name": "Python 3",
   "language": "python",
   "name": "python3"
  },
  "language_info": {
   "codemirror_mode": {
    "name": "ipython",
    "version": 3
   },
   "file_extension": ".py",
   "mimetype": "text/x-python",
   "name": "python",
   "nbconvert_exporter": "python",
   "pygments_lexer": "ipython3",
   "version": "3.6.1"
  }
 },
 "nbformat": 4,
 "nbformat_minor": 2
}
