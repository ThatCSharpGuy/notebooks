{
 "cells": [
  {
   "cell_type": "code",
   "execution_count": 53,
   "metadata": {},
   "outputs": [],
   "source": [
    "import numpy as np\n",
    "import pandas as pd\n",
    "from sklearn.decomposition import PCA"
   ]
  },
  {
   "cell_type": "code",
   "execution_count": 54,
   "metadata": {},
   "outputs": [],
   "source": [
    "whisky_df = pd.read_csv(\"whiskies.txt\")\n",
    "whisky = np.array(whisky_df.iloc[:,2:-3])"
   ]
  },
  {
   "cell_type": "code",
   "execution_count": 62,
   "metadata": {},
   "outputs": [
    {
     "name": "stdout",
     "output_type": "stream",
     "text": [
      "[[ 0.16320503 -0.02121166  0.17845477 ... -0.10475142 -0.1445124\n",
      "  -0.4093115 ]\n",
      " [-1.41145428  0.67902208  1.8251002  ...  0.73061183  1.38592715\n",
      "  -1.59799985]\n",
      " [ 0.28512372 -0.04715145 -0.52452208 ...  1.25305133  0.63396921\n",
      "   1.699413  ]\n",
      " ...\n",
      " [ 1.05053776 -0.4629256   1.80632271 ...  0.08397269  0.38390231\n",
      "   0.90579692]\n",
      " [ 1.5352916   0.47402265 -0.90367406 ... -1.90586662 -0.15338599\n",
      "   0.62095332]\n",
      " [ 0.25119059 -0.40462952  0.51675947 ... -0.14230442  1.17489829\n",
      "  -0.17718568]]\n"
     ]
    }
   ],
   "source": [
    "def pca(data, d):\n",
    "    # compute covariance\n",
    "    cov = np.cov(data,rowvar=False)\n",
    "    # compute eigenvectors and eigenvalues, and sort\n",
    "    eigvals, eigvecs = np.linalg.eig(cov)\n",
    "    eig_order = np.argsort(eigvals)\n",
    "    components = []\n",
    "    for i in range(d):\n",
    "        # project the data onto each eigenvector in turn\n",
    "        components.append(data @ eigvecs[eig_order[-i-1]])\n",
    "    return np.stack(components).T\n",
    "\n",
    "centered_whisky = whisky - np.mean(whisky, axis=0)\n",
    "\n",
    "manually_analized = pca(centered_whisky, whisky.shape[1])\n",
    "print(manually_analized)"
   ]
  },
  {
   "cell_type": "code",
   "execution_count": 65,
   "metadata": {},
   "outputs": [
    {
     "name": "stdout",
     "output_type": "stream",
     "text": [
      "[[-0.50338406  1.12202234  0.16120015 ...  0.01261079  0.65608202\n",
      "  -0.07072755]\n",
      " [-1.47888827  3.00485075 -1.51709115 ... -0.78827475 -0.31893694\n",
      "   0.10285343]\n",
      " [-1.25311288 -0.65372066  0.28471962 ... -0.42175779  1.56642677\n",
      "   0.12767015]\n",
      " ...\n",
      " [-1.56110197 -0.73101402 -0.00333905 ... -0.52040133  0.40121693\n",
      "  -0.08609251]\n",
      " [ 0.51934491 -0.2688109   2.55831635 ...  0.88801623 -0.22713249\n",
      "   0.04944175]\n",
      " [-0.60153006 -0.41868198  0.31623622 ...  0.29414666 -0.89810854\n",
      "   0.87448074]]\n"
     ]
    }
   ],
   "source": [
    "package_pca = PCA()\n",
    "package_analized = package_pca.fit_transform(whisky)\n",
    "print(package_analized)"
   ]
  },
  {
   "cell_type": "code",
   "execution_count": null,
   "metadata": {},
   "outputs": [],
   "source": [
    "\n",
    "\n",
    "def pca(data, d):\n",
    "    # compute covariance\n",
    "    cov = np.cov(data,rowvar=False)\n",
    "    # compute eigenvectors and eigenvalues, and sort\n",
    "    eigvals, eigv = np.linalg.eig(cov)\n",
    "    eig_order = np.argsort(np.abs(eigvals))\n",
    "    components = []\n",
    "    for i in range(d):\n",
    "        # project the data onto each eigenvector in turn\n",
    "        components.append(data @ eigvals[eig_order[-i-1]])\n",
    "    return np.stack(components).T"
   ]
  }
 ],
 "metadata": {
  "kernelspec": {
   "display_name": "Python 3",
   "language": "python",
   "name": "python3"
  },
  "language_info": {
   "codemirror_mode": {
    "name": "ipython",
    "version": 3
   },
   "file_extension": ".py",
   "mimetype": "text/x-python",
   "name": "python",
   "nbconvert_exporter": "python",
   "pygments_lexer": "ipython3",
   "version": "3.6.1"
  }
 },
 "nbformat": 4,
 "nbformat_minor": 2
}
