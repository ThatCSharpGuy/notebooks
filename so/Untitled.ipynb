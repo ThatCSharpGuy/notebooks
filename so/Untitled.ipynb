{
 "cells": [
  {
   "cell_type": "code",
   "execution_count": 16,
   "metadata": {},
   "outputs": [
    {
     "name": "stdout",
     "output_type": "stream",
     "text": [
      "LINKS\n",
      "www.abc.com\n",
      "www.eee.com\n",
      "matching\n",
      "\n",
      "COUNTRY\n",
      "Brexit - UK\n",
      "USA UK Relations\n",
      "matching\n"
     ]
    }
   ],
   "source": [
    "import re\n",
    "\n",
    "keycountryfile = \"keycountry.txt\"\n",
    "countryfile = \"country.txt\"\n",
    "\n",
    "with open('links.txt', 'r') as links:\n",
    "    links_data = [line.strip() for line in links.readlines()]\n",
    "\n",
    "with open('keylink.txt', 'r') as keys:\n",
    "    keys_links = set([line.strip() for line in keys.readlines()])\n",
    "\n",
    "\n",
    "matching_links = []\n",
    "for url in links_data:\n",
    "    if url in keys_links:\n",
    "        matching_links.append(url)\n",
    "        \n",
    "print('LINKS')\n",
    "if matching_links:\n",
    "    print('\\n'.join(matching_links))\n",
    "    print(\"matching\")\n",
    "else:\n",
    "    print(\"Not matching\") \n",
    "\n",
    "print()\n",
    "\n",
    "with open(keycountryfile , \"r\") as f:\n",
    "    country_keys = set(key.lower() for key in \n",
    "                       re.findall(r'\\w+', f.readline()))\n",
    "\n",
    "matching_lines = []\n",
    "with open(countryfile) as f:\n",
    "    for line in f:\n",
    "        words = set(word.lower() for word in re.findall(r'\\w+', line))\n",
    "        if country_keys & words:\n",
    "            matching_lines.append(line.strip())\n",
    "    print(\"COUNTRY\")\n",
    "    if matching_lines:\n",
    "        print('\\n'.join(matching_lines))\n",
    "        print(\"matching\")\n",
    "    else:            \n",
    "        print(\"Not matching\")"
   ]
  },
  {
   "cell_type": "code",
   "execution_count": 17,
   "metadata": {},
   "outputs": [
    {
     "name": "stdout",
     "output_type": "stream",
     "text": [
      "LINKS\n",
      "www.abc.com\n",
      "matching\n",
      "www.eee.com\n",
      "matching\n",
      "Not matching\n",
      "COUNTRY\n",
      "Brexit - UK\n",
      "matching\n",
      "USA UK Relations\n",
      "matching\n",
      "Not matching\n"
     ]
    }
   ],
   "source": [
    "import re\n",
    "\n",
    "keycountryfile = \"keycountry.txt\"\n",
    "countryfile = \"country.txt\"\n",
    "\n",
    "links = open('links.txt', 'r')\n",
    "links_data = links.read()\n",
    "links.close()\n",
    "\n",
    "keys = open('keylink.txt', 'r')\n",
    "keys_data = keys.read()\n",
    "keys.close()\n",
    "\n",
    "keys_split = keys_data.splitlines()\n",
    "\n",
    "print('LINKS')\n",
    "for url in keys_split:\n",
    "    if url in links_data:\n",
    "        print(url)\n",
    "        print(\"matching\")\n",
    "else:\n",
    "    print(\"Not matching\")   \n",
    "\n",
    "keys = set(key.lower() for key in \n",
    "    re.findall(r'\\w+', open(keycountryfile , \"r\").readline()))\n",
    "\n",
    "print(\"COUNTRY\")\n",
    "with open(countryfile) as f:\n",
    "    for line in f:\n",
    "        words = set(word.lower() for word in re.findall(r'\\w+', line))\n",
    "        if keys & words:\n",
    "            print(line, end='')\n",
    "            print(\"matching\")\n",
    "    else:\n",
    "        print(\"Not matching\")"
   ]
  },
  {
   "cell_type": "code",
   "execution_count": null,
   "metadata": {},
   "outputs": [],
   "source": []
  }
 ],
 "metadata": {
  "kernelspec": {
   "display_name": "Python 3",
   "language": "python",
   "name": "python3"
  },
  "language_info": {
   "codemirror_mode": {
    "name": "ipython",
    "version": 3
   },
   "file_extension": ".py",
   "mimetype": "text/x-python",
   "name": "python",
   "nbconvert_exporter": "python",
   "pygments_lexer": "ipython3",
   "version": "3.6.5"
  }
 },
 "nbformat": 4,
 "nbformat_minor": 2
}
