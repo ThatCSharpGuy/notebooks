{
 "cells": [
  {
   "cell_type": "markdown",
   "metadata": {},
   "source": [
    "Smallest Substring of All Characters\n",
    "Given an array of unique characters arr and a string str, Implement a function getShortestUniqueSubstring that finds the smallest substring of str containing all the characters in arr. Return \"\" (empty string) if such a substring doesn’t exist.\n",
    "\n",
    "Come up with an asymptotically optimal solution and analyze the time and space complexities.\n",
    "\n",
    "Example:\n",
    "\n",
    "input:  arr = ['x','y','z'], str = \"xyyzyzyx\"\n",
    "\n",
    "output: \"zyx\"\n",
    "Constraints:\n",
    "\n",
    "[time limit] 5000ms\n",
    "\n",
    "[input] array.character arr\n",
    "\n",
    "1 ≤ arr.length ≤ 30\n",
    "[input] string str\n",
    "\n",
    "1 ≤ str.length ≤ 500\n",
    "[output] string"
   ]
  },
  {
   "cell_type": "code",
   "execution_count": 29,
   "metadata": {},
   "outputs": [
    {
     "data": {
      "text/plain": [
       "'AXCSB'"
      ]
     },
     "execution_count": 29,
     "metadata": {},
     "output_type": "execute_result"
    }
   ],
   "source": [
    "def get_shortest_unique_substring(arr, string):\n",
    "    i, j = 0, 0\n",
    "    min_i, min_j = 0, len(string) + 1\n",
    "    counter = 0\n",
    "    characters = { k:0 for k in arr }\n",
    "    while i < len(string) and j < len(string):\n",
    "        curr = string[j]\n",
    "        if curr in characters:\n",
    "            characters[curr] += 1\n",
    "            if characters[curr] == 1:\n",
    "                counter += 1\n",
    "        if counter == len(arr):\n",
    "            while counter == len(arr):\n",
    "                old = min_j - min_i\n",
    "                new = j - i\n",
    "                if new < old:\n",
    "                    min_i, min_j = i, j\n",
    "                curr = string[i]\n",
    "                if curr in characters:\n",
    "                    characters[curr] -= 1\n",
    "                    if characters[curr] == 0:\n",
    "                        counter -= 1\n",
    "                i+=1\n",
    "        j += 1\n",
    "    if min_j == len(string) + 1:\n",
    "        return \"\"\n",
    "    return string[min_i:min_j+1]\n",
    "\n",
    "\n",
    "arr = [\"A\", \"B\"]\n",
    "\n",
    "string =  \"AXCSB\"\n",
    "\n",
    "get_shortest_unique_substring(arr, string)"
   ]
  },
  {
   "cell_type": "code",
   "execution_count": null,
   "metadata": {},
   "outputs": [],
   "source": []
  }
 ],
 "metadata": {
  "kernelspec": {
   "display_name": "Python 3",
   "language": "python",
   "name": "python3"
  },
  "language_info": {
   "codemirror_mode": {
    "name": "ipython",
    "version": 3
   },
   "file_extension": ".py",
   "mimetype": "text/x-python",
   "name": "python",
   "nbconvert_exporter": "python",
   "pygments_lexer": "ipython3",
   "version": "3.6.4"
  }
 },
 "nbformat": 4,
 "nbformat_minor": 2
}
