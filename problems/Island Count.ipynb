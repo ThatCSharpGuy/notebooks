{
 "cells": [
  {
   "cell_type": "markdown",
   "metadata": {},
   "source": [
    "Given a 2D array binaryMatrix of 0s and 1s, implement a function getNumberOfIslands that returns the number of islands of 1s in binaryMatrix.\n",
    "\n",
    "An island is defined as a group of adjacent values that are all 1s. A cell in binaryMatrix is considered adjacent to another cell if they are next to each either on the same row or column. Note that two values of 1 are not part of the same island if they’re sharing only a mutual “corner” (i.e. they are diagonally neighbors).\n",
    "\n",
    "Explain and code the most efficient solution possible and analyze its time and space complexities."
   ]
  },
  {
   "cell_type": "code",
   "execution_count": 2,
   "metadata": {},
   "outputs": [
    {
     "name": "stdout",
     "output_type": "stream",
     "text": [
      "6\n"
     ]
    }
   ],
   "source": [
    "def get_number_of_islands(binaryMatrix):\n",
    "  islands = 0\n",
    "  rows = len(binaryMatrix)\n",
    "  cols = len(binaryMatrix[0])\n",
    "  for i in range(rows):\n",
    "    for j in range(cols):\n",
    "      if binaryMatrix[i][j] == 1:\n",
    "        islands += 1\n",
    "        queue = list()\n",
    "        queue.append((i, j))\n",
    "        while queue:\n",
    "          visit = queue.pop()\n",
    "          x = visit[0]\n",
    "          y = visit[1]\n",
    "          if 0 <= x < rows and 0 <= y < cols and binaryMatrix[x][y] == 1: \n",
    "            binaryMatrix[x][y] = 0\n",
    "            queue.append((x-1, y))\n",
    "            queue.append((x, y-1))\n",
    "            queue.append((x+1, y))\n",
    "            queue.append((x, y+1))\n",
    "          \n",
    "  return islands\n",
    "          \n",
    "  \n",
    "binaryMatrix = [ [0,    1,    0,    1,    0],\n",
    "                 [0,    0,    1,    1,    1],\n",
    "                 [1,    0,    0,    1,    0],\n",
    "                 [0,    1,    1,    0,    0],\n",
    "                 [1,    0,    1,    0,    1] ]\n",
    "\n",
    "print(get_number_of_islands(binaryMatrix))"
   ]
  },
  {
   "cell_type": "code",
   "execution_count": null,
   "metadata": {},
   "outputs": [],
   "source": []
  }
 ],
 "metadata": {
  "kernelspec": {
   "display_name": "Python 3",
   "language": "python",
   "name": "python3"
  },
  "language_info": {
   "codemirror_mode": {
    "name": "ipython",
    "version": 3
   },
   "file_extension": ".py",
   "mimetype": "text/x-python",
   "name": "python",
   "nbconvert_exporter": "python",
   "pygments_lexer": "ipython3",
   "version": "3.6.4"
  }
 },
 "nbformat": 4,
 "nbformat_minor": 2
}
