{
 "cells": [
  {
   "cell_type": "markdown",
   "metadata": {},
   "source": [
    "Many times, we need to re-implement basic functions without using any standard library functions already implemented. For example, when designing a chip that requires very little memory space.\n",
    "\n",
    "In this question we’ll implement a function root that calculates the n’th root of a number. The function takes a nonnegative number x and a positive integer n, and returns the positive n’th root of x within an error of 0.001 (i.e. suppose the real root is y, then the error is: |y-root(x,n)| and must satisfy |y-root(x,n)| < 0.001).\n",
    "\n",
    "Don’t be intimidated by the question. While there are many algorithms to calculate roots that require prior knowledge in numerical analysis (some of them are mentioned here), there is also an elementary method which doesn’t require more than guessing-and-checking. Try to think more in terms of the latter.\n",
    "\n",
    "Make sure your algorithm is efficient, and analyze its time and space complexities."
   ]
  },
  {
   "cell_type": "code",
   "execution_count": 37,
   "metadata": {},
   "outputs": [
    {
     "data": {
      "text/plain": [
       "3.000091552734375"
      ]
     },
     "execution_count": 37,
     "metadata": {},
     "output_type": "execute_result"
    }
   ],
   "source": [
    "import math \n",
    "\n",
    "def fast_power(base, power):\n",
    "    \"\"\"\n",
    "    Returns the result of a^b i.e. a**b\n",
    "    We assume that a >= 1 and b >= 0\n",
    "\n",
    "    Remember two things!\n",
    "     - Divide power by 2 and multiply base to itself (if the power is even)\n",
    "     - Decrement power by 1 to make it even and then follow the first step\n",
    "    \"\"\"\n",
    "\n",
    "    result = 1\n",
    "    while power > 0:\n",
    "        # If power is even\n",
    "        if power % 2 == 0:\n",
    "            # Divide the power by 2\n",
    "            power = power / 2\n",
    "            # Multiply base to itself\n",
    "            base = base * base\n",
    "        else:\n",
    "            # Decrement the power by 1 and make it even\n",
    "            power = power - 1\n",
    "            # Take care of the extra value that we took out\n",
    "            # We will store it directly in result\n",
    "            result = result * base\n",
    "\n",
    "            # Now power is even, so we can follow our previous procedure\n",
    "            power = power / 2\n",
    "            base = base * base\n",
    "\n",
    "    return result\n",
    "\n",
    "def root(x, n):\n",
    "    if x == 0:\n",
    "        return 0\n",
    "    lower = 0\n",
    "    upper = max(1,x)\n",
    "    middle = (upper + lower) / 2\n",
    "    res = fast_power(middle, n)\n",
    "    while abs(res - x) >= 0.001:\n",
    "        \n",
    "        if res > x:\n",
    "            upper = middle\n",
    "        else:\n",
    "            lower = middle\n",
    "        \n",
    "        middle = (upper + lower) / 2\n",
    "        res = fast_power(middle, n)\n",
    "    return middle\n",
    "\n",
    "root(9,2)"
   ]
  },
  {
   "cell_type": "code",
   "execution_count": null,
   "metadata": {},
   "outputs": [],
   "source": []
  }
 ],
 "metadata": {
  "kernelspec": {
   "display_name": "Python 3",
   "language": "python",
   "name": "python3"
  },
  "language_info": {
   "codemirror_mode": {
    "name": "ipython",
    "version": 3
   },
   "file_extension": ".py",
   "mimetype": "text/x-python",
   "name": "python",
   "nbconvert_exporter": "python",
   "pygments_lexer": "ipython3",
   "version": "3.6.5"
  }
 },
 "nbformat": 4,
 "nbformat_minor": 2
}
