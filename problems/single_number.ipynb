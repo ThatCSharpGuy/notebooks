{
 "cells": [
  {
   "cell_type": "markdown",
   "metadata": {},
   "source": [
    "In a party everyone is in couple except one. People who are in couple have same numbers. Find out the person who is not in couple.\n",
    "\n",
    "Input:\n",
    "The first line contains an integer 'T' denoting the total number of test cases. In each test cases, the first line contains an integer 'N' denoting the size of array. The second line contains N space-separated integers A1, A2, ..., AN denoting the elements of the array. (N is always odd)\n",
    "\n",
    "\n",
    "Output:\n",
    "In each seperate line print number of the person not in couple.\n",
    "\n",
    "\n",
    "Constraints:\n",
    "1<=T<=30\n",
    "1<=N<=500\n",
    "1<=A[i]<=500\n",
    "N%2==1"
   ]
  },
  {
   "cell_type": "code",
   "execution_count": 12,
   "metadata": {},
   "outputs": [
    {
     "name": "stdout",
     "output_type": "stream",
     "text": [
      "001 0001 001\n",
      "003 0011 002\n",
      "000 0000 003\n",
      "002 0010 002\n",
      "006 0110 004\n",
      "007 0111 001\n",
      "003 0011 004\n",
      "000 0000 003\n",
      "006 0110 006\n",
      "Res 6\n"
     ]
    }
   ],
   "source": [
    "arr = [1, 2, 3, 2,4, 1,4,3,6]\n",
    "\n",
    "p = 0\n",
    "\n",
    "\n",
    "\n",
    "for i in arr:\n",
    "    p = p ^ i\n",
    "    print(\"{0:03d} {1:04b} {2:03d}\".format(p, p, i))\n",
    "print(\"Res\", p)"
   ]
  },
  {
   "cell_type": "code",
   "execution_count": 50,
   "metadata": {},
   "outputs": [
    {
     "name": "stdout",
     "output_type": "stream",
     "text": [
      "3 0\n",
      "0 3\n",
      "0 1\n",
      "2 0\n",
      "Result 2\n"
     ]
    }
   ],
   "source": [
    "arr = [3,3,2,3]\n",
    "\n",
    "ones = 0\n",
    "twos = 0\n",
    "\n",
    "def b(n, message = None):\n",
    "    if message:\n",
    "        print(message, end=' ')\n",
    "    print(\"{0:04b}\".format(n))\n",
    "\n",
    "for ix, i in enumerate(arr):\n",
    "    twos = twos | (ones & i)\n",
    "    ones = ones ^ i\n",
    "    common_bit_mask = ~(ones & twos);\n",
    "    ones = ones & common_bit_mask\n",
    "    twos = twos & common_bit_mask\n",
    "    print(ones, twos)\n",
    "print(\"Result\", ones)"
   ]
  },
  {
   "cell_type": "code",
   "execution_count": null,
   "metadata": {},
   "outputs": [],
   "source": []
  },
  {
   "cell_type": "code",
   "execution_count": null,
   "metadata": {},
   "outputs": [],
   "source": []
  }
 ],
 "metadata": {
  "kernelspec": {
   "display_name": "Python 3",
   "language": "python",
   "name": "python3"
  },
  "language_info": {
   "codemirror_mode": {
    "name": "ipython",
    "version": 3
   },
   "file_extension": ".py",
   "mimetype": "text/x-python",
   "name": "python",
   "nbconvert_exporter": "python",
   "pygments_lexer": "ipython3",
   "version": "3.6.4"
  }
 },
 "nbformat": 4,
 "nbformat_minor": 2
}
