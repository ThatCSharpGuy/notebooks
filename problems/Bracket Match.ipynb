{
 "cells": [
  {
   "cell_type": "markdown",
   "metadata": {},
   "source": [
    "A string of brackets is considered correctly matched if every opening bracket in the string can be paired up with a later closing bracket, and vice versa. For instance, “(())()” is correctly matched, whereas “)(“ and “((” aren’t. For instance, “((” could become correctly matched by adding two closing brackets at the end, so you’d return 2.\n",
    "\n",
    "Given a string that consists of brackets, write a function bracketMatch that takes a bracket string as an input and returns the minimum number of brackets you’d need to add to the input in order to make it correctly matched.\n",
    "\n",
    "Explain the correctness of your code, and analyze its time and space complexities."
   ]
  },
  {
   "cell_type": "code",
   "execution_count": 7,
   "metadata": {},
   "outputs": [],
   "source": [
    "test = \"(()\""
   ]
  },
  {
   "cell_type": "code",
   "execution_count": 8,
   "metadata": {},
   "outputs": [
    {
     "data": {
      "text/plain": [
       "1"
      ]
     },
     "execution_count": 8,
     "metadata": {},
     "output_type": "execute_result"
    }
   ],
   "source": [
    "def bracket_match_stack(text):\n",
    "    if not text: return 0\n",
    "    brackets = [text[0]]\n",
    "    for c in text[1:]:\n",
    "        if brackets:\n",
    "            top = brackets[-1]\n",
    "            if top == '(' and c == ')':\n",
    "                brackets.pop()\n",
    "            else:\n",
    "                brackets.append(c)\n",
    "        else:\n",
    "            brackets.append(c)\n",
    "        \n",
    "    return len(brackets)\n",
    "\n",
    "bracket_match_stack(test)"
   ]
  },
  {
   "cell_type": "markdown",
   "metadata": {},
   "source": [
    "Time: $O(N)$  \n",
    "Space: $O(N)$"
   ]
  },
  {
   "cell_type": "code",
   "execution_count": 9,
   "metadata": {},
   "outputs": [
    {
     "data": {
      "text/plain": [
       "1"
      ]
     },
     "execution_count": 9,
     "metadata": {},
     "output_type": "execute_result"
    }
   ],
   "source": [
    "def bracket_match(text):\n",
    "    openings = 0\n",
    "    closings = 0\n",
    "    for c in text:\n",
    "        if c == '(':\n",
    "            openings += 1\n",
    "        elif c == ')':\n",
    "            if openings > 0:\n",
    "                openings -= 1\n",
    "            else:\n",
    "                closings+=1\n",
    "    return openings + closings\n",
    "\n",
    "bracket_match(test)"
   ]
  },
  {
   "cell_type": "markdown",
   "metadata": {},
   "source": [
    "Time:    $O(N)$  \n",
    "Space:   $O(1)$"
   ]
  },
  {
   "cell_type": "code",
   "execution_count": null,
   "metadata": {},
   "outputs": [],
   "source": []
  }
 ],
 "metadata": {
  "kernelspec": {
   "display_name": "Python 3",
   "language": "python",
   "name": "python3"
  },
  "language_info": {
   "codemirror_mode": {
    "name": "ipython",
    "version": 3
   },
   "file_extension": ".py",
   "mimetype": "text/x-python",
   "name": "python",
   "nbconvert_exporter": "python",
   "pygments_lexer": "ipython3",
   "version": "3.6.5"
  }
 },
 "nbformat": 4,
 "nbformat_minor": 2
}
