{
 "cells": [
  {
   "cell_type": "code",
   "execution_count": 8,
   "metadata": {},
   "outputs": [
    {
     "name": "stdout",
     "output_type": "stream",
     "text": [
      "[1, 3, 3]\n",
      "[3, 3, -3]\n",
      "[2, 6]\n",
      "6\n",
      "[4, 4, 4, 5, 5, 5]\n",
      "[5, 5, 5, 5, 1, 1]\n",
      "[1, 1, 1, 4, 4]\n",
      "4\n"
     ]
    }
   ],
   "source": [
    "min_value = -1_000_000_001\n",
    "\n",
    "def find_split(A):\n",
    "    ltr = []\n",
    "    rtl = []\n",
    "    \n",
    "    max_value = min_value\n",
    "    for i in A:\n",
    "        max_value = max(max_value, i)\n",
    "        ltr.append(max_value)\n",
    "    \n",
    "    max_value = min_value\n",
    "    for i in A[::-1]:\n",
    "        max_value = max(max_value, i)\n",
    "        rtl.append(max_value)\n",
    "    rtl = rtl[::-1]\n",
    "    \n",
    "    print(ltr); print(rtl)\n",
    "    \n",
    "    values = []\n",
    "    max_diff = min_value\n",
    "    for s in range(0, len(A)-1):\n",
    "        max_diff = max(abs(ltr[s] - rtl[s+1]), max_diff)\n",
    "        values.append(abs(ltr[s] - rtl[s+1]))\n",
    "    print(values)\n",
    "    \n",
    "    return max_diff\n",
    "\n",
    "print(find_split([1, 3, -3]))\n",
    "print(find_split([4, 3, 2, 5, 1, 1]))"
   ]
  },
  {
   "cell_type": "code",
   "execution_count": null,
   "metadata": {},
   "outputs": [],
   "source": []
  }
 ],
 "metadata": {
  "kernelspec": {
   "display_name": "Python 3",
   "language": "python",
   "name": "python3"
  },
  "language_info": {
   "codemirror_mode": {
    "name": "ipython",
    "version": 3
   },
   "file_extension": ".py",
   "mimetype": "text/x-python",
   "name": "python",
   "nbconvert_exporter": "python",
   "pygments_lexer": "ipython3",
   "version": "3.6.4"
  }
 },
 "nbformat": 4,
 "nbformat_minor": 2
}
