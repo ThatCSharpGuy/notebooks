{
 "cells": [
  {
   "cell_type": "code",
   "execution_count": null,
   "metadata": {},
   "outputs": [],
   "source": []
  },
  {
   "cell_type": "code",
   "execution_count": null,
   "metadata": {
    "scrolled": false
   },
   "outputs": [],
   "source": [
    "import numpy as np\n",
    "\n",
    "x, y = \"AbcdSefg\", \"Abcdefg\"\n",
    "\n",
    "max_lcs = 0\n",
    "m = 0\n",
    "lcs_table = np.zeros((len(x)+1, len(y)+1))\n",
    "for i in range(len(x)+1):\n",
    "    for j in range(len(y)+1):\n",
    "        if i == 0 or j == 0:\n",
    "            lcs_table[i,j] = 0\n",
    "        elif x[i-1] == y[j-1]:\n",
    "            lcs_table[i,j] = lcs_table[i-1,j-1]+1\n",
    "        else:\n",
    "            lcs_table[i,j] = 0\n",
    "            \n",
    "def p(x, y, t):\n",
    "    print(\" \"* 3, end='')\n",
    "    for c in y:\n",
    "        print(\"%3c\" % c, end='')\n",
    "    print()\n",
    "    for i in range(len(x)+1):\n",
    "        print(\"%3c\" %( x[i] if i < len(x) else ' '), end='')\n",
    "        for j in range(len(y)+1):\n",
    "            print(\"%3d\" % t[i,j], end='')\n",
    "        print()\n",
    "            \n",
    "p(x, y, lcs_table)"
   ]
  },
  {
   "cell_type": "code",
   "execution_count": null,
   "metadata": {},
   "outputs": [],
   "source": []
  }
 ],
 "metadata": {
  "kernelspec": {
   "display_name": "Python 3",
   "language": "python",
   "name": "python3"
  },
  "language_info": {
   "codemirror_mode": {
    "name": "ipython",
    "version": 3
   },
   "file_extension": ".py",
   "mimetype": "text/x-python",
   "name": "python",
   "nbconvert_exporter": "python",
   "pygments_lexer": "ipython3",
   "version": "3.6.4"
  }
 },
 "nbformat": 4,
 "nbformat_minor": 2
}