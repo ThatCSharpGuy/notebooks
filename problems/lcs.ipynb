{
 "cells": [
  {
   "cell_type": "code",
   "execution_count": 1,
   "metadata": {},
   "outputs": [],
   "source": []
  },
  {
   "cell_type": "code",
   "execution_count": 36,
   "metadata": {
    "scrolled": false
   },
   "outputs": [
    {
     "name": "stdout",
     "output_type": "stream",
     "text": [
      "     A  b  c  d  e  f  g\n",
      "  A  0  0  0  0  0  0  0  0\n",
      "  b  0  1  0  0  0  0  0  0\n",
      "  c  0  0  2  0  0  0  0  0\n",
      "  d  0  0  0  3  0  0  0  0\n",
      "  S  0  0  0  0  4  0  0  0\n",
      "  e  0  0  0  0  0  0  0  0\n",
      "  f  0  0  0  0  0  1  0  0\n",
      "  g  0  0  0  0  0  0  2  0\n",
      "     0  0  0  0  0  0  0  3\n"
     ]
    }
   ],
   "source": [
    "import numpy as np\n",
    "\n",
    "x, y = \"AbcdSefg\", \"Abcdefg\"\n",
    "\n",
    "max_lcs = 0\n",
    "m = 0\n",
    "lcs_table = np.zeros((len(x)+1, len(y)+1))\n",
    "for i in range(len(x)+1):\n",
    "    for j in range(len(y)+1):\n",
    "        if i == 0 or j == 0:\n",
    "            lcs_table[i,j] = 0\n",
    "        elif x[i-1] == y[j-1]:\n",
    "            lcs_table[i,j] = lcs_table[i-1,j-1]+1\n",
    "        else:\n",
    "            lcs_table[i,j] = 0\n",
    "            \n",
    "def p(x, y, t):\n",
    "    print(\" \"* 3, end='')\n",
    "    for c in y:\n",
    "        print(\"%3c\" % c, end='')\n",
    "    print()\n",
    "    for i in range(len(x)+1):\n",
    "        print(\"%3c\" %( x[i] if i < len(x) else ' '), end='')\n",
    "        for j in range(len(y)+1):\n",
    "            print(\"%3d\" % t[i,j], end='')\n",
    "        print()\n",
    "            \n",
    "p(x, y, lcs_table)"
   ]
  },
  {
   "cell_type": "code",
   "execution_count": 1,
   "metadata": {},
   "outputs": [
    {
     "ename": "SyntaxError",
     "evalue": "invalid character in identifier (<ipython-input-1-4c7eaee5a802>, line 1)",
     "output_type": "error",
     "traceback": [
      "\u001b[0;36m  File \u001b[0;32m\"<ipython-input-1-4c7eaee5a802>\"\u001b[0;36m, line \u001b[0;32m1\u001b[0m\n\u001b[0;31m    wo´fninowfoiwoife\u001b[0m\n\u001b[0m                    ^\u001b[0m\n\u001b[0;31mSyntaxError\u001b[0m\u001b[0;31m:\u001b[0m invalid character in identifier\n"
     ]
    }
   ],
   "source": [
    "wo´fninowfoiwoife"
   ]
  },
  {
   "cell_type": "code",
   "execution_count": null,
   "metadata": {},
   "outputs": [],
   "source": []
  }
 ],
 "metadata": {
  "kernelspec": {
   "display_name": "Python 3",
   "language": "python",
   "name": "python3"
  },
  "language_info": {
   "codemirror_mode": {
    "name": "ipython",
    "version": 3
   },
   "file_extension": ".py",
   "mimetype": "text/x-python",
   "name": "python",
   "nbconvert_exporter": "python",
   "pygments_lexer": "ipython3",
   "version": "3.6.5"
  }
 },
 "nbformat": 4,
 "nbformat_minor": 2
}
