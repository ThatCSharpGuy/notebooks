{
 "cells": [
  {
   "cell_type": "markdown",
   "metadata": {},
   "source": [
    "The car manufacturer Honda holds their distribution system in the form of a tree (not necessarily binary). The root is the company itself, and every node in the tree represents a car distributor that receives cars from the parent node and ships them to its children nodes. The leaf nodes are car dealerships that sell cars direct to consumers. In addition, every node holds an integer that is the cost of shipping a car to it.\n",
    "\n",
    "Take for example the tree below:\n",
    "\n",
    "alt\n",
    "\n",
    "A path from Honda’s factory to a car dealership, which is a path from the root to a leaf in the tree, is called a Sales Path. The cost of a Sales Path is the sum of the costs for every node in the path. For example, in the tree above one Sales Path is 0→3→0→10, and its cost is 13 (0+3+0+10).\n",
    "\n",
    "Honda wishes to find the minimal Sales Path cost in its distribution tree. Given a node rootNode, write a function getCheapestCost that calculates the minimal Sales Path cost in the tree.\n",
    "\n",
    "Implement your function in the most efficient manner and analyze its time and space complexities.\n",
    "\n",
    "For example:\n",
    "\n",
    "Given the rootNode of the tree in diagram above\n",
    "\n",
    "Your function would return:\n",
    "\n",
    "7 since it’s the minimal Sales Path cost (there are actually two Sales Paths in the tree whose cost is 7: 0→6→1 and 0→3→2→1→1)\n",
    "\n",
    "Constraints:\n",
    "\n",
    "[time limit] 5000ms\n",
    "\n",
    "[input] Node rootNode\n",
    "\n",
    "0 ≤ rootNode.cost ≤ 100000\n",
    "[output] integer"
   ]
  },
  {
   "cell_type": "code",
   "execution_count": 1,
   "metadata": {},
   "outputs": [
    {
     "name": "stdout",
     "output_type": "stream",
     "text": [
      "7\n"
     ]
    }
   ],
   "source": [
    "def get_cheapest_cost(rootNode):\n",
    "  return path(rootNode, rootNode.cost)\n",
    "\n",
    "def path(node, value):\n",
    "  if len(node.children) == 0: return value\n",
    "    \n",
    "  children = []\n",
    "  children.extend(node.children)\n",
    "  min_cost = 100000000000\n",
    "  for c in children:\n",
    "    min_cost = min(min_cost, path(c, value + c.cost))\n",
    "  return min_cost\n",
    "\n",
    "########################################## \n",
    "# Use the helper code below to implement #\n",
    "# and test your function above           #\n",
    "##########################################\n",
    "\n",
    "# A node \n",
    "class Node:\n",
    "\n",
    "  # Constructor to create a new node\n",
    "  def __init__(self, cost):\n",
    "    self.cost = cost\n",
    "    self.children = []\n",
    "    self.parent = None\n",
    " \n",
    "\n",
    "root = Node(0)\n",
    "five = Node(5)\n",
    "three = Node(3)\n",
    "six = Node(6)\n",
    "\n",
    "root.children.extend([five, three, six])\n",
    "\n",
    "four = Node(4)\n",
    "five.children.append(four)\n",
    "\n",
    "two = Node(2)\n",
    "zero = Node(0)\n",
    "three.children.extend([two, zero])\n",
    "\n",
    "one = Node(1)\n",
    "two.children.append(one)\n",
    "one1 = Node(1)\n",
    "one.children.append(one1)\n",
    "\n",
    "\n",
    "ten = Node(10)\n",
    "zero.children.append(ten)\n",
    "\n",
    "one2 = Node(1)\n",
    "five2 = Node(5)\n",
    "\n",
    "six.children.extend([one2, five2])\n",
    "\n",
    "print(get_cheapest_cost(root))"
   ]
  },
  {
   "cell_type": "code",
   "execution_count": null,
   "metadata": {},
   "outputs": [],
   "source": []
  }
 ],
 "metadata": {
  "kernelspec": {
   "display_name": "Python 3",
   "language": "python",
   "name": "python3"
  },
  "language_info": {
   "codemirror_mode": {
    "name": "ipython",
    "version": 3
   },
   "file_extension": ".py",
   "mimetype": "text/x-python",
   "name": "python",
   "nbconvert_exporter": "python",
   "pygments_lexer": "ipython3",
   "version": "3.6.4"
  }
 },
 "nbformat": 4,
 "nbformat_minor": 2
}
