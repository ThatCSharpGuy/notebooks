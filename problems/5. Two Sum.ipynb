{
 "cells": [
  {
   "cell_type": "markdown",
   "metadata": {},
   "source": [
    "Write a function that, when passed a list and a target sum, returns two distinct zero-based indices of any two of the numbers, whose sum is equal to the target sum. If there are no two numbers, the function should return None.\n",
    "\n",
    "For example, find_two_sum([3, 1, 5, 7, 5, 9], 10) should return a single tuple containing any of the following pairs of indices:\n",
    "\n",
    " - 0 and 3 (or 3 and 0) as 3 + 7 = 10\n",
    " - 1 and 5 (or 5 and 1) as 1 + 9 = 10\n",
    " - 2 and 4 (or 4 and 2) as 5 + 5 = 10"
   ]
  },
  {
   "cell_type": "markdown",
   "metadata": {},
   "source": [
    "$O(N)$: Traverse the whole array keeping track of the needed numbers to get to our target value\n",
    "\n",
    "\n",
    "| Seen     | We need            |\n",
    "|----------|--------------------|\n",
    "| 3        | 10 - 3 = ***7*:0** |\n",
    "| 1        | 10 - 1 = ***9*:1** |\n",
    "| 5        | 10 - 5 = ***5*:2** |\n",
    "| 7        | 10 - 7 = ***3*:3** |\n",
    "| 5        | 10 - 5 = ***5*:4** |\n",
    "| 9        | 10 - 9 = ***1*:5** |\n"
   ]
  },
  {
   "cell_type": "code",
   "execution_count": 1,
   "metadata": {},
   "outputs": [
    {
     "name": "stdout",
     "output_type": "stream",
     "text": [
      "(0, 3)\n"
     ]
    }
   ],
   "source": [
    "class TwoSum:\n",
    "\n",
    "    @staticmethod\n",
    "    def find_two_sum(numbers, target_sum):\n",
    "        \"\"\"\n",
    "        :param numbers: (list of ints) The list of numbers.\n",
    "        :param target_sum: (int) The required target sum.\n",
    "        :returns: (a tuple of 2 ints) The indices of the two elements whose sum is equal to target_sum\n",
    "        \"\"\"\n",
    "        nv = {}\n",
    "        for i in range(len(numbers)):\n",
    "            number = numbers[i]\n",
    "            to_target = target_sum - number\n",
    "            if number in nv:\n",
    "                return(nv[number], i)\n",
    "            nv[to_target] = i\n",
    "        return None       \n",
    "\n",
    "print(TwoSum.find_two_sum([3, 1, 5, 7, 5, 9], 10))"
   ]
  },
  {
   "cell_type": "code",
   "execution_count": null,
   "metadata": {},
   "outputs": [],
   "source": []
  }
 ],
 "metadata": {
  "kernelspec": {
   "display_name": "Python 3",
   "language": "python",
   "name": "python3"
  },
  "language_info": {
   "codemirror_mode": {
    "name": "ipython",
    "version": 3
   },
   "file_extension": ".py",
   "mimetype": "text/x-python",
   "name": "python",
   "nbconvert_exporter": "python",
   "pygments_lexer": "ipython3",
   "version": "3.6.4"
  }
 },
 "nbformat": 4,
 "nbformat_minor": 2
}
