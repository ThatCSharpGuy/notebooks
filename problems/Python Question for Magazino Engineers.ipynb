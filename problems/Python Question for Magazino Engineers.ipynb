{
 "cells": [
  {
   "cell_type": "code",
   "execution_count": 7,
   "metadata": {},
   "outputs": [
    {
     "name": "stdout",
     "output_type": "stream",
     "text": [
      "[<Node name=root>]\n"
     ]
    }
   ],
   "source": [
    "class Node(object):\n",
    "    \n",
    "    def __init__(self, name, children=None):\n",
    "        self.name = name\n",
    "        self.children = children or []\n",
    "\n",
    "    def __repr__(self):\n",
    "        return '<Node name={}>'.format(self.name)\n",
    "    \n",
    "    def extract_nodes_containing_string(self, needle):\n",
    "        result = []\n",
    "        nodes = [self]\n",
    "        while nodes:\n",
    "            current = nodes.pop()\n",
    "            if self.__in_name(current.name, needle):\n",
    "                result.append(current)\n",
    "            nodes.extend(current.children)\n",
    "        return result\n",
    "    \n",
    "    def __in_name(self, name, needle):\n",
    "        aa = name.lower()\n",
    "        bb = needle.lower()\n",
    "        return bb in aa\n",
    "    \n",
    "# Example:\n",
    "    \n",
    "def create_tree():\n",
    "    return Node('root', [\n",
    "        Node(\"MaGaZiNo\", [\n",
    "            Node(\"I\"),\n",
    "            Node(\"Love\"),\n",
    "            Node(\"magazino\")\n",
    "        ]),\n",
    "        Node(\"Hello\", [\n",
    "            Node(\"Hello\", [\n",
    "                Node(\"Hello\", [\n",
    "                    Node(\"World\")\n",
    "                ])\n",
    "            ])\n",
    "        ])\n",
    "    ])\n",
    "\n",
    "\n",
    "root = create_tree()\n",
    "print(root.extract_nodes_containing_string('root'))"
   ]
  },
  {
   "cell_type": "code",
   "execution_count": null,
   "metadata": {},
   "outputs": [],
   "source": []
  }
 ],
 "metadata": {
  "kernelspec": {
   "display_name": "Python 3",
   "language": "python",
   "name": "python3"
  },
  "language_info": {
   "codemirror_mode": {
    "name": "ipython",
    "version": 3
   },
   "file_extension": ".py",
   "mimetype": "text/x-python",
   "name": "python",
   "nbconvert_exporter": "python",
   "pygments_lexer": "ipython3",
   "version": "3.6.4"
  }
 },
 "nbformat": 4,
 "nbformat_minor": 2
}
