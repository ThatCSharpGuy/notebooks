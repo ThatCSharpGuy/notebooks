{
 "cells": [
  {
   "cell_type": "code",
   "execution_count": 1,
   "metadata": {},
   "outputs": [],
   "source": [
    "arr = [25626,\n",
    "25757,\n",
    "24367,\n",
    "24267,\n",
    "16,\n",
    "100,\n",
    "2,\n",
    "7277]"
   ]
  },
  {
   "cell_type": "code",
   "execution_count": 9,
   "metadata": {},
   "outputs": [
    {
     "name": "stdout",
     "output_type": "stream",
     "text": [
      "[25626, -128, 131, -128, -1390, -100, -128, -24251, 84, -98, -128, 7275]\n"
     ]
    }
   ],
   "source": [
    "res = [arr[0]]\n",
    "for i in range(1,len(arr)):\n",
    "    dif =  arr[i] -arr[i-1]\n",
    "    if not -127 <= dif <= 127:\n",
    "        res.append(-128)\n",
    "    res.append(dif)\n",
    "print(res)"
   ]
  },
  {
   "cell_type": "code",
   "execution_count": 93,
   "metadata": {},
   "outputs": [
    {
     "name": "stdout",
     "output_type": "stream",
     "text": [
      "1481122000 1481122020\n",
      "1481122020 1481122040\n",
      "1481122020 1481122040\n",
      "1481122040 1481122045\n",
      "1481122040 \n",
      "1481122045 \n",
      "3\n"
     ]
    }
   ],
   "source": [
    "\n",
    "\n",
    "\n",
    "customer = 1\n",
    "\n",
    "calls = [\n",
    "    [1481122000, 1481122020],\n",
    "    [1481122020, 1481122040],\n",
    "    [1481122020, 1481122040],\n",
    "    [1481122040, 1481122045]\n",
    "]\n",
    "\n",
    "\n",
    "times = []\n",
    "for call in calls:\n",
    "    start = str(call[0])+\"A\"\n",
    "    end = str(call[1])+\"Z\"\n",
    "    times.append(start)\n",
    "    times.append(end)\n",
    "times = sorted(times)\n",
    "\n",
    "prev_time = \"\"\n",
    "max_overlapping = 0\n",
    "overlap = 0\n",
    "i = 0\n",
    "while i < len(times):\n",
    "    current = times[i]\n",
    "    if current[-1] == \"A\":\n",
    "        overlap += 1\n",
    "    else:\n",
    "        overlap -= 1\n",
    "    i += 1\n",
    "\n",
    "    next_time = times[i+1][:-1] if i < len(times)-1 else \"\"\n",
    "    if current[:-1] != next_time:\n",
    "        print(current[:-1], next_time)\n",
    "        max_overlapping = max(max_overlapping, overlap)\n",
    "print(max_overlapping)"
   ]
  },
  {
   "cell_type": "code",
   "execution_count": 17,
   "metadata": {},
   "outputs": [
    {
     "data": {
      "text/plain": [
       "['hello', 'world']"
      ]
     },
     "execution_count": 17,
     "metadata": {},
     "output_type": "execute_result"
    }
   ],
   "source": [
    "\n",
    "def tokenize(string):\n",
    "    words = []\n",
    "    partial_word = \"\"\n",
    "    for s in string:\n",
    "        if ord('a') <= ord(s.lower()) <= ord('z'):\n",
    "            partial_word += s.lower()\n",
    "        elif s == \" \" and partial_word:\n",
    "            words.append(partial_word)\n",
    "            partial_word = \"\"\n",
    "    if partial_word:\n",
    "        words.append(partial_word)\n",
    "    return words\n",
    "\n",
    "tokenize(\"hello  . world  \")"
   ]
  },
  {
   "cell_type": "code",
   "execution_count": null,
   "metadata": {},
   "outputs": [],
   "source": [
    "# Complete the function below.\n",
    "\n",
    "def tokenize(string):\n",
    "    words = []\n",
    "    partial_word = \"\"\n",
    "    for s in string:\n",
    "        if ord('a') <= ord(s.lower()) <= ord('z'):\n",
    "            partial_word += s.lower()\n",
    "        elif s == \" \" and partial_word:\n",
    "            words.append(partial_word)\n",
    "            partial_word = \"\"\n",
    "    if partial_word:\n",
    "        words.append(partial_word)\n",
    "    return words\n",
    "\n",
    "def sort_hotels(keywords, hotel_ids, reviews):\n",
    "    kw = set(tokenize(keywords))\n",
    "    kw_occurrences = {}\n",
    "    \n",
    "    max_kw_ocurrences = 0\n",
    "    \n",
    "    for i in range(len(hotel_ids)):\n",
    "        rev = reviews[i]\n",
    "        id_ = hotel_ids[i]\n",
    "        tokenized_review = tokenize(rev)\n",
    "        for token in tokenized_review:\n",
    "            if token in kw:\n",
    "                kw_occurrences[id_] = kw_occurrences.get(id_,0) +1 \n",
    "                max_kw_ocurrences = max(max_kw_ocurrences, kw_occurrences[id_])\n",
    "    print(max_kw_ocurrences)\n",
    "    # I was thinking of storing  hotel_ids in an array indexed by the number of interesting\n",
    "    # keywords\n",
    "    pre_sorted = [(kw_occurrences[hotel_id], hotel_id) for hotel_id in kw_occurrences]\n",
    "    sorted_ = sorted(pre_sorted, reverse=True) # Time expensive\n",
    "    return [i[1] for i in sorted_]\n",
    "\n",
    "\n"
   ]
  }
 ],
 "metadata": {
  "kernelspec": {
   "display_name": "Python 3",
   "language": "python",
   "name": "python3"
  },
  "language_info": {
   "codemirror_mode": {
    "name": "ipython",
    "version": 3
   },
   "file_extension": ".py",
   "mimetype": "text/x-python",
   "name": "python",
   "nbconvert_exporter": "python",
   "pygments_lexer": "ipython3",
   "version": "3.6.4"
  }
 },
 "nbformat": 4,
 "nbformat_minor": 2
}
