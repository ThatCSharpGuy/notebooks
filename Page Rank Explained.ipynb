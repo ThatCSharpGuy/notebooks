{
 "cells": [
  {
   "cell_type": "markdown",
   "metadata": {},
   "source": [
    " > This is a terrible attempt to replicate Ian's post (you can [find it here](http://www.cs.princeton.edu/~chazelle/courses/BIB/pagerank.htm)) that I made for my own understanding of the Google PageRank algorithm.\n",
    "\n",
    "# The Google Pagerank Algorithm and How It Works  \n",
    "\n",
    "Ian Rogers  \n",
    "IPR Computing Ltd.  \n",
    "ian@iprcom.com\n",
    "\n",
    "## Introduction  \n",
    "Page Rank is a topic much discussed by Search Engine Optimisation (SEO) experts. At the heart of PageRank is a mathematical formula that seems scary to look at but is actually fairly simple to understand.\n",
    "\n",
    "Despite this many people seem to get it wrong! In particular “Chris Ridings of www.searchenginesystems.net” has written a paper entitled “PageRank Explained: Everything you’ve always wanted to know about PageRank”, pointed to by many people, that contains a [fundamental mistake](http://www.iprcom.com/papers/pagerank/altered_equation.html) early on in the explanation! Unfortunately this means some of the recommendations in the paper are not quite accurate.\n",
    "\n",
    "By showing code to correctly calculate real PageRank I hope to achieve several things in this response:  \n",
    "\n",
    "\n",
    " 1. Clearly explain how PageRank is calculated.\n",
    " 2. Go through every example in Chris’ paper, and add some more of my own, showing the correct PageRank for each diagram. By showing the code used to calculate each diagram I’ve opened myself up to peer review - mostly in an effort to make sure the examples are correct, but also because the code can help explain the PageRank calculations.  \n",
    " 3. Describe some principles and observations on website design based on these correctly calculated examples.\n",
    " 4. Any good web designer should take the time to fully understand how PageRank really works - if you don’t then your site’s layout could be seriously hurting your Google listings!\n",
    "\n",
    "[Note: I have nothing in particular against Chris. If I find any other papers on the subject I’ll try to comment evenly]\n",
    "\n",
    "## How is PageRank Used?  \n",
    "PageRank is one of the methods Google uses to determine a page’s relevance or importance. It is only one part of the story when it comes to the Google listing, but the other aspects are discussed elsewhere (and are ever changing) and PageRank is interesting enough to deserve a paper of its own.  \n",
    "\n",
    "PageRank is also displayed on the toolbar of your browser if you’ve installed the Google toolbar ([http://toolbar.google.com/](http://toolbar.google.com/)). But the Toolbar PageRank only goes from 0 – 10 and seems to be something like a logarithmic scale:  \n",
    "\n",
    "| Toolbar PageRank (log base 10) | Real PageRank    |\n",
    "| ------------------------------ |:----------------:|\n",
    "| 0                              | 0 - 10           |\n",
    "| 1                              | 100 - 1,000      |\n",
    "| 2                              | 1,000 - 10,000   |\n",
    "| 3                              | 10,000 - 100,000 |\n",
    "| 4                              | and so on...     |  \n",
    "\n",
    "We can’t know the exact details of the scale because, as we’ll see later, the maximum PR of all pages on the web changes every month when Google does its re-indexing! If we presume the scale is logarithmic (although there is only anecdotal evidence for this at the time of writing) then Google could simply give the highest actual PR page a toolbar PR of 10 and scale the rest appropriately.\n",
    "\n",
    "Also the toolbar sometimes guesses! The toolbar often shows me a Toolbar PR for pages I’ve only just uploaded and cannot possibly be in the index yet!\n",
    "\n",
    "What seems to be happening is that the toolbar looks at the URL of the page the browser is displaying and strips off everything down the last “/” (i.e. it goes to the “parent” page in URL terms). If Google has a Toolbar PR for that parent then it subtracts 1 and shows that as the Toolbar PR for this page. If there’s no PR for the parent it goes to the parent’s parent’s page, but subtracting 2, and so on all the way up to the root of your site.  If it can’t find a Toolbar PR to display in this way, that is if it doesn’t find a page with a real calculated PR, then the bar is greyed out.\n",
    "\n",
    "Note that if the Toolbar is guessing in this way, the Actual PR of the page is 0 - though its PR will be calculated shortly after the Google spider first sees it.\n",
    "\n",
    "PageRank says nothing about the content or size of a page, the language it’s written in, or the text used in the anchor of a link!\n",
    "\n",
    "## Definitions  \n",
    "I’ve started to use some technical terms and shorthand in this paper. Now’s as good a time as any to define all the terms I’ll use:  \n",
    "\n",
    " - $PR$: Shorthand for PageRank: the actual, real, page rank for each page as calculated by Google. As we’ll see later this can range from 0.15 to billions.  \n",
    " - Toolbar $PR$: The PageRank displayed in the Google toolbar in your browser. This ranges from 0 to 10.\n",
    " - Backlink: If page A links out to page B, then page B is said to have a “backlink” from page A.  \n",
    " \n",
    "## So what is PageRank?  \n",
    "In short PageRank is a “vote”, by all the other pages on the Web, about how important a page is. A link to a page counts as a vote of support. If there’s no link there’s no support (but it’s an abstention from voting rather than a vote against the page).\n",
    "\n",
    "Quoting from the original Google paper, PageRank is defined like this:\n",
    "\n",
    " > We assume page $A$ has pages $T_1 ...T_n$ which point to it (i.e., are citations). The parameter d is a damping factor which can be set between $0$ and $1$. We usually set d to $0.85$. There are more details about $d$ in the next section. Also $C(A)$ is defined as the number of links going out of page $A$. The PageRank of a page $A$ is given as follows:\n",
    "\n",
    " > $PR(A) = (1-d) + d (PR(T_1)/C(T_1) + ... + PR(T_n)/C(T_n))$\n",
    "\n",
    " > Note that the PageRanks form a probability distribution over web pages, so the sum of all web pages' PageRanks will be one.\n",
    "\n",
    " > PageRank or $PR(A)$ can be calculated using a simple iterative algorithm, and corresponds to the principal eigenvector of the normalized link matrix of the web.\n",
    "\n",
    "but that’s not too helpful so let’s break it down into sections.  \n",
    "\n",
    " 1. $PR(T_n)$ - Each page has a notion of its own self-importance. That’s “$PR(T_1)$” for the first page in the web all the way up to “$PR(T_n)$” for the last page\n",
    " 2. $C(T_n)$ - Each page spreads its vote out evenly amongst all of it’s outgoing links. The count, or number, of outgoing links for page $1$ is “$C(T1)$”, “$C(Tn)$” for page $n$, and so on for all pages.  \n",
    " 3. $PR(T_n)/C(T_n)$ - so if our page (page $A$) has a backlink from page “$n$” the share of the vote page $A$ will get is “$PR(T_n)/C(T_n)$”  \n",
    " 4. $d(...$ - All these fractions of votes are added together but, to stop the other pages having too much influence, this total vote is “damped down” by multiplying it by $0.85$ (the factor “$d$”)\n",
    " 5. $(1 - d)$ - The $(1 – d)$ bit at the beginning is a bit of probability math magic so the “sum of all web pages' PageRanks will be one”: it adds in the bit lost by the d(.... It also means that if a page has no links to it (no backlinks) even then it will still get a small PR of $0.15$ (i.e. $1 – 0.85$). (Aside: the Google paper says “the sum of all pages” but they mean the “the normalised sum” – otherwise known as “the average” to you and me. "
   ]
  },
  {
   "cell_type": "markdown",
   "metadata": {},
   "source": [
    "## The following class is a dumb implementation of the Page Rank algoritm"
   ]
  },
  {
   "cell_type": "code",
   "execution_count": null,
   "metadata": {},
   "outputs": [],
   "source": [
    "from graphviz import Source\n",
    "\n",
    "class PageRank:\n",
    "    def __init__(self, pages, d=0.85, initial_guess=1.0):\n",
    "        \"\"\"\n",
    "        :param pages: A graph of pages represented as linked lists\n",
    "        :param d: The dampening factor\n",
    "        :param initial_guess: The initial value for page rank\n",
    "        \"\"\"\n",
    "        self.d = d\n",
    "        self.pages = pages\n",
    "        self.inverse_pages = {}\n",
    "        self.outlinks = {}\n",
    "        self.inlinks = {}\n",
    "        self.pr = {}\n",
    "        self.all_pages = set()\n",
    "\n",
    "        for page in pages:\n",
    "            self.outlinks[page] = len(pages[page])\n",
    "            self.all_pages.add(page)\n",
    "            for out in pages[page]:\n",
    "                self.all_pages.add(out)\n",
    "                self.inlinks[out] = self.inlinks.get(out, 0) + 1\n",
    "\n",
    "                if out not in self.inverse_pages:\n",
    "                    self.inverse_pages[out] = []\n",
    "                self.inverse_pages[out].append(page)\n",
    "\n",
    "        for page in self.all_pages:\n",
    "            self.pr[page] = initial_guess\n",
    "\n",
    "    def calculate(self, iters, report=False, report_every=1, rep_function=None):\n",
    "        \"\"\"\n",
    "        Calculates the page rank of the given page graph\n",
    "        :param iters: Number of iterations\n",
    "        :param report: Wether you want the code to report every iteration to the console\n",
    "        :return:\n",
    "        \"\"\"\n",
    "        for i in range(1, iters+1):\n",
    "            pr_copy = dict(self.pr)\n",
    "            for page in self.pr:\n",
    "                self.pr[page] = 1 - self.d\n",
    "                mid = 0\n",
    "                if page in self.inverse_pages:\n",
    "                    for page_linked in self.inverse_pages[page]:\n",
    "                        mid += pr_copy[page_linked] / self.outlinks[page_linked]\n",
    "                self.pr[page] += mid * self.d\n",
    "            if report:\n",
    "                if i % report_every == 0:\n",
    "                    if rep_function is not None:\n",
    "                        rep_function(i, self.pr)\n",
    "                    else:\n",
    "                        print(\"Iteration %d\" % i)\n",
    "                        print(self.pr)\n",
    "\n",
    "    def get_avg(self):\n",
    "        d = 0\n",
    "        for p in self.pr:\n",
    "            d += self.pr[p]\n",
    "        return d / len(self.pr)\n",
    "\n",
    "    def get_digraph(self, show_pr=False):\n",
    "        string_source = \"digraph G {\\n\\tnode [shape=record];\\n\\trankdir=LR;\\n\\t\"\n",
    "        if show_pr:\n",
    "            for page in self.pages:\n",
    "                string_source += page.replace(\" \",\"_\")+'[label=<' + page +'<BR />' + \\\n",
    "                '<FONT POINT-SIZE=\"9\">PR %.4f</FONT>>];\\n' % self.pr[page]\n",
    "            \n",
    "        for page in self.pages:\n",
    "            for out in self.pages[page]:\n",
    "                string_source += \"%s->%s\\n\" % (page.replace(\" \",\"_\"), out.replace(\" \",\"_\"))\n",
    "        string_source += \"}\"\n",
    "        return Source(string_source)\n",
    "\n",
    "\n",
    "# A small reporting function\n",
    "def report(iteration, page_rank):\n",
    "    print(\"Iteration %d\" % iteration)\n",
    "    for page in page_rank:\n",
    "        print(\"\\t%s: %0.6f\" % (page, page_rank[page]))"
   ]
  },
  {
   "cell_type": "markdown",
   "metadata": {},
   "source": [
    " \n",
    "## How is PageRank Calculated?  \n",
    "This is where it gets tricky. The PR of each page depends on the PR of the pages pointing to it. But we won’t know what PR those pages have until the pages pointing to them have their PR calculated and so on… And when you consider that page links can form circles it seems impossible to do this calculation!\n",
    "\n",
    "But actually it’s not that bad. Remember this bit of the Google paper:\n",
    "\n",
    "PageRank or $PR(A)$ can be calculated using a simple iterative algorithm, and corresponds to the principal eigenvector of the normalized link matrix of the web.\n",
    "\n",
    "What that means to us is that we can just go ahead and calculate a page’s PR without knowing the final value of the PR of the other pages. That seems strange but, basically, each time we run the calculation we’re getting a closer estimate of the final value. So all we need to do is remember the each value we calculate and repeat the calculations lots of times until the numbers stop changing much.\n",
    "\n",
    "Lets take the simplest example network: two pages, each pointing to the other:"
   ]
  },
  {
   "cell_type": "code",
   "execution_count": null,
   "metadata": {
    "collapsed": true
   },
   "outputs": [],
   "source": [
    "pages = {\n",
    "    \"A\": [\"B\"],\n",
    "    \"B\": [\"A\"]\n",
    "}"
   ]
  },
  {
   "cell_type": "markdown",
   "metadata": {},
   "source": [
    "Each page has one outgoing link (the outgoing count is $1$, i.e. $C(A) = 1$ and $C(B) = 1$)."
   ]
  },
  {
   "cell_type": "markdown",
   "metadata": {},
   "source": [
    "### Guess 1\n",
    "\n",
    "We don’t know what their PR should be to begin with, so let’s take a guess at $1.0$ and do some calculations:\n",
    "\n",
    "$$d = 0.85$$\n",
    "\n",
    "$$PR(A) = (1 – d) + d(PR(B)/1)$$\n",
    "\n",
    "$$PR(B) = (1 – d) + d(PR(A)/1)$$\n",
    "\n",
    "i.e.\n",
    "\n",
    "$$PR(A) = 0.15 + 0.85 * 1 = 1$$  \n",
    "\n",
    "$$PR(B) = 0.15 + 0.85 * 1 = 1$$\n",
    "\n",
    "Hmm, the numbers aren’t changing at all! So it looks like we started out with a lucky guess!!!"
   ]
  },
  {
   "cell_type": "code",
   "execution_count": 21,
   "metadata": {},
   "outputs": [
    {
     "name": "stdout",
     "output_type": "stream",
     "text": [
      "Iteration 1\n",
      "\tA: 1.000000\n",
      "\tB: 1.000000\n"
     ]
    },
    {
     "data": {
      "image/svg+xml": [
       "<?xml version=\"1.0\" encoding=\"UTF-8\" standalone=\"no\"?>\r\n",
       "<!DOCTYPE svg PUBLIC \"-//W3C//DTD SVG 1.1//EN\"\r\n",
       " \"http://www.w3.org/Graphics/SVG/1.1/DTD/svg11.dtd\">\r\n",
       "<!-- Generated by graphviz version 2.38.0 (20140413.2041)\r\n",
       " -->\r\n",
       "<!-- Title: G Pages: 1 -->\r\n",
       "<svg width=\"154pt\" height=\"45pt\"\r\n",
       " viewBox=\"0.00 0.00 154.00 45.00\" xmlns=\"http://www.w3.org/2000/svg\" xmlns:xlink=\"http://www.w3.org/1999/xlink\">\r\n",
       "<g id=\"graph0\" class=\"graph\" transform=\"scale(1 1) rotate(0) translate(4 41)\">\r\n",
       "<title>G</title>\r\n",
       "<polygon fill=\"white\" stroke=\"none\" points=\"-4,4 -4,-41 150,-41 150,4 -4,4\"/>\r\n",
       "<!-- A -->\r\n",
       "<g id=\"node1\" class=\"node\"><title>A</title>\r\n",
       "<polygon fill=\"none\" stroke=\"black\" points=\"0,-0.5 0,-36.5 55,-36.5 55,-0.5 0,-0.5\"/>\r\n",
       "<text text-anchor=\"start\" x=\"22.5\" y=\"-19.8\" font-family=\"Times New Roman,serif\" font-size=\"14.00\">A</text>\r\n",
       "<text text-anchor=\"start\" x=\"8\" y=\"-9.8\" font-family=\"Times New Roman,serif\" font-size=\"9.00\">PR 1.0000</text>\r\n",
       "</g>\r\n",
       "<!-- B -->\r\n",
       "<g id=\"node2\" class=\"node\"><title>B</title>\r\n",
       "<polygon fill=\"none\" stroke=\"black\" points=\"91,-0.5 91,-36.5 146,-36.5 146,-0.5 91,-0.5\"/>\r\n",
       "<text text-anchor=\"start\" x=\"113.5\" y=\"-19.8\" font-family=\"Times New Roman,serif\" font-size=\"14.00\">B</text>\r\n",
       "<text text-anchor=\"start\" x=\"99\" y=\"-9.8\" font-family=\"Times New Roman,serif\" font-size=\"9.00\">PR 1.0000</text>\r\n",
       "</g>\r\n",
       "<!-- A&#45;&gt;B -->\r\n",
       "<g id=\"edge1\" class=\"edge\"><title>A&#45;&gt;B</title>\r\n",
       "<path fill=\"none\" stroke=\"black\" d=\"M55.2029,-12.2547C63.2113,-11.776 72.1403,-11.6378 80.6802,-11.8402\"/>\r\n",
       "<polygon fill=\"black\" stroke=\"black\" points=\"80.6809,-15.343 90.8159,-12.2558 80.9678,-8.34892 80.6809,-15.343\"/>\r\n",
       "</g>\r\n",
       "<!-- B&#45;&gt;A -->\r\n",
       "<g id=\"edge2\" class=\"edge\"><title>B&#45;&gt;A</title>\r\n",
       "<path fill=\"none\" stroke=\"black\" d=\"M90.8159,-24.7442C82.809,-25.2234 73.8804,-25.3621 65.3399,-25.1603\"/>\r\n",
       "<polygon fill=\"black\" stroke=\"black\" points=\"65.3378,-21.6574 55.2029,-24.7453 65.0514,-28.6515 65.3378,-21.6574\"/>\r\n",
       "</g>\r\n",
       "</g>\r\n",
       "</svg>\r\n"
      ],
      "text/plain": [
       "<graphviz.files.Source at 0x2a5107b9b00>"
      ]
     },
     "execution_count": 21,
     "metadata": {},
     "output_type": "execute_result"
    }
   ],
   "source": [
    "pr = PageRank(pages, initial_guess=1)\n",
    "pr.calculate(1, report=True, rep_function=report)\n",
    "pr.get_digraph(show_pr=True)"
   ]
  },
  {
   "cell_type": "markdown",
   "metadata": {},
   "source": [
    "### Guess 2\n",
    "\n",
    "No, that’s too easy, maybe I got it wrong (and it wouldn’t be the first time). Ok, let’s start the guess at 0 instead and re-calculate:\n",
    "\n",
    "$$PR(A) = 0.15 + 0.85 * 0 = 0.15$$  \n",
    "\n",
    "$$PR(B) = 0.15 + 0.85 * 0.15 = 0.2775$$\n",
    "\n",
    "NB. we’ve already calculated a “next best guess” at $PR(A)$ so we use it here\n",
    "\n",
    "And again:\n",
    "\n",
    "$$PR(A) = 0.15 + 0.85 * 0.2775 = 0.385875$$\n",
    "\n",
    "$$PR(B) = 0.15 + 0.85 * 0.385875 = 0.47799375$$\n",
    "\n",
    "And again\n",
    "\n",
    "$$PR(A) = 0.15 + 0.85 * 0.47799375 = 0.5562946875$$\n",
    "\n",
    "$$PR(B) = 0.15 + 0.85 * 0.5562946875 = 0.622850484375$$\n",
    "\n",
    "and so on. The numbers just keep going up. But will the numbers stop increasing when they get to $1.0$? What if a calculation over-shoots and goes above $1.0$?"
   ]
  },
  {
   "cell_type": "code",
   "execution_count": 22,
   "metadata": {},
   "outputs": [
    {
     "name": "stdout",
     "output_type": "stream",
     "text": [
      "Iteration 1\n",
      "\tA: 0.150000\n",
      "\tB: 0.277500\n",
      "Iteration 2\n",
      "\tA: 0.385875\n",
      "\tB: 0.477994\n",
      "Iteration 3\n",
      "\tA: 0.556295\n",
      "\tB: 0.622850\n"
     ]
    },
    {
     "data": {
      "image/svg+xml": [
       "<?xml version=\"1.0\" encoding=\"UTF-8\" standalone=\"no\"?>\r\n",
       "<!DOCTYPE svg PUBLIC \"-//W3C//DTD SVG 1.1//EN\"\r\n",
       " \"http://www.w3.org/Graphics/SVG/1.1/DTD/svg11.dtd\">\r\n",
       "<!-- Generated by graphviz version 2.38.0 (20140413.2041)\r\n",
       " -->\r\n",
       "<!-- Title: G Pages: 1 -->\r\n",
       "<svg width=\"154pt\" height=\"45pt\"\r\n",
       " viewBox=\"0.00 0.00 154.00 45.00\" xmlns=\"http://www.w3.org/2000/svg\" xmlns:xlink=\"http://www.w3.org/1999/xlink\">\r\n",
       "<g id=\"graph0\" class=\"graph\" transform=\"scale(1 1) rotate(0) translate(4 41)\">\r\n",
       "<title>G</title>\r\n",
       "<polygon fill=\"white\" stroke=\"none\" points=\"-4,4 -4,-41 150,-41 150,4 -4,4\"/>\r\n",
       "<!-- A -->\r\n",
       "<g id=\"node1\" class=\"node\"><title>A</title>\r\n",
       "<polygon fill=\"none\" stroke=\"black\" points=\"0,-0.5 0,-36.5 55,-36.5 55,-0.5 0,-0.5\"/>\r\n",
       "<text text-anchor=\"start\" x=\"22.5\" y=\"-19.8\" font-family=\"Times New Roman,serif\" font-size=\"14.00\">A</text>\r\n",
       "<text text-anchor=\"start\" x=\"8\" y=\"-9.8\" font-family=\"Times New Roman,serif\" font-size=\"9.00\">PR 0.5563</text>\r\n",
       "</g>\r\n",
       "<!-- B -->\r\n",
       "<g id=\"node2\" class=\"node\"><title>B</title>\r\n",
       "<polygon fill=\"none\" stroke=\"black\" points=\"91,-0.5 91,-36.5 146,-36.5 146,-0.5 91,-0.5\"/>\r\n",
       "<text text-anchor=\"start\" x=\"113.5\" y=\"-19.8\" font-family=\"Times New Roman,serif\" font-size=\"14.00\">B</text>\r\n",
       "<text text-anchor=\"start\" x=\"99\" y=\"-9.8\" font-family=\"Times New Roman,serif\" font-size=\"9.00\">PR 0.6229</text>\r\n",
       "</g>\r\n",
       "<!-- A&#45;&gt;B -->\r\n",
       "<g id=\"edge1\" class=\"edge\"><title>A&#45;&gt;B</title>\r\n",
       "<path fill=\"none\" stroke=\"black\" d=\"M55.2029,-12.2547C63.2113,-11.776 72.1403,-11.6378 80.6802,-11.8402\"/>\r\n",
       "<polygon fill=\"black\" stroke=\"black\" points=\"80.6809,-15.343 90.8159,-12.2558 80.9678,-8.34892 80.6809,-15.343\"/>\r\n",
       "</g>\r\n",
       "<!-- B&#45;&gt;A -->\r\n",
       "<g id=\"edge2\" class=\"edge\"><title>B&#45;&gt;A</title>\r\n",
       "<path fill=\"none\" stroke=\"black\" d=\"M90.8159,-24.7442C82.809,-25.2234 73.8804,-25.3621 65.3399,-25.1603\"/>\r\n",
       "<polygon fill=\"black\" stroke=\"black\" points=\"65.3378,-21.6574 55.2029,-24.7453 65.0514,-28.6515 65.3378,-21.6574\"/>\r\n",
       "</g>\r\n",
       "</g>\r\n",
       "</svg>\r\n"
      ],
      "text/plain": [
       "<graphviz.files.Source at 0x2a5107b9668>"
      ]
     },
     "execution_count": 22,
     "metadata": {},
     "output_type": "execute_result"
    }
   ],
   "source": [
    "pr = PageRank(pages, initial_guess=0)\n",
    "pr.calculate(3, report=True, rep_function=report)\n",
    "pr.get_digraph(show_pr=True)"
   ]
  },
  {
   "cell_type": "markdown",
   "metadata": {},
   "source": [
    "### Guess 3\n",
    "\n",
    "Well let’s see. Let’s start the guess at 40 each and do a few cycles:\n",
    "\n",
    "$$PR(A) = 40$$\n",
    "$$PR(B) = 40$$\n",
    "\n",
    "First calculation\n",
    "\n",
    "$$PR(A) = 0.15 + 0.85 * 40 = 34.25$$\n",
    "\n",
    "$$PR(B) = 0.15 + 0.85 * 0.385875 = 29.1775$$\n",
    "\n",
    "And again\n",
    "\n",
    "$$PR(A) = 0.15 + 0.85 * 29.1775 = 24.950875$$\n",
    "\n",
    "$$PR(B) = 0.15 + 0.85 * 24.950875 = 21.35824375$$\n",
    "\n",
    "Yup, those numbers are heading down alright! It sure looks the numbers will get to $1.0$ and stop"
   ]
  },
  {
   "cell_type": "code",
   "execution_count": 23,
   "metadata": {},
   "outputs": [
    {
     "name": "stdout",
     "output_type": "stream",
     "text": [
      "Iteration 1\n",
      "\tA: 34.150000\n",
      "\tB: 29.177500\n",
      "Iteration 2\n",
      "\tA: 24.950875\n",
      "\tB: 21.358244\n"
     ]
    },
    {
     "data": {
      "image/svg+xml": [
       "<?xml version=\"1.0\" encoding=\"UTF-8\" standalone=\"no\"?>\r\n",
       "<!DOCTYPE svg PUBLIC \"-//W3C//DTD SVG 1.1//EN\"\r\n",
       " \"http://www.w3.org/Graphics/SVG/1.1/DTD/svg11.dtd\">\r\n",
       "<!-- Generated by graphviz version 2.38.0 (20140413.2041)\r\n",
       " -->\r\n",
       "<!-- Title: G Pages: 1 -->\r\n",
       "<svg width=\"162pt\" height=\"45pt\"\r\n",
       " viewBox=\"0.00 0.00 162.00 45.00\" xmlns=\"http://www.w3.org/2000/svg\" xmlns:xlink=\"http://www.w3.org/1999/xlink\">\r\n",
       "<g id=\"graph0\" class=\"graph\" transform=\"scale(1 1) rotate(0) translate(4 41)\">\r\n",
       "<title>G</title>\r\n",
       "<polygon fill=\"white\" stroke=\"none\" points=\"-4,4 -4,-41 158,-41 158,4 -4,4\"/>\r\n",
       "<!-- A -->\r\n",
       "<g id=\"node1\" class=\"node\"><title>A</title>\r\n",
       "<polygon fill=\"none\" stroke=\"black\" points=\"0,-0.5 0,-36.5 59,-36.5 59,-0.5 0,-0.5\"/>\r\n",
       "<text text-anchor=\"start\" x=\"24.5\" y=\"-19.8\" font-family=\"Times New Roman,serif\" font-size=\"14.00\">A</text>\r\n",
       "<text text-anchor=\"start\" x=\"8\" y=\"-9.8\" font-family=\"Times New Roman,serif\" font-size=\"9.00\">PR 24.9509</text>\r\n",
       "</g>\r\n",
       "<!-- B -->\r\n",
       "<g id=\"node2\" class=\"node\"><title>B</title>\r\n",
       "<polygon fill=\"none\" stroke=\"black\" points=\"95,-0.5 95,-36.5 154,-36.5 154,-0.5 95,-0.5\"/>\r\n",
       "<text text-anchor=\"start\" x=\"119.5\" y=\"-19.8\" font-family=\"Times New Roman,serif\" font-size=\"14.00\">B</text>\r\n",
       "<text text-anchor=\"start\" x=\"103\" y=\"-9.8\" font-family=\"Times New Roman,serif\" font-size=\"9.00\">PR 21.3582</text>\r\n",
       "</g>\r\n",
       "<!-- A&#45;&gt;B -->\r\n",
       "<g id=\"edge1\" class=\"edge\"><title>A&#45;&gt;B</title>\r\n",
       "<path fill=\"none\" stroke=\"black\" d=\"M59.1619,-12.2124C67.2058,-11.7749 76.0892,-11.6479 84.6206,-11.8312\"/>\r\n",
       "<polygon fill=\"black\" stroke=\"black\" points=\"84.6494,-15.3346 94.7726,-12.2088 84.9097,-8.33946 84.6494,-15.3346\"/>\r\n",
       "</g>\r\n",
       "<!-- B&#45;&gt;A -->\r\n",
       "<g id=\"edge2\" class=\"edge\"><title>B&#45;&gt;A</title>\r\n",
       "<path fill=\"none\" stroke=\"black\" d=\"M94.7726,-24.7912C86.7242,-25.2269 77.8395,-25.3523 69.31,-25.1673\"/>\r\n",
       "<polygon fill=\"black\" stroke=\"black\" points=\"69.2858,-21.664 59.1619,-24.7876 69.0241,-28.6591 69.2858,-21.664\"/>\r\n",
       "</g>\r\n",
       "</g>\r\n",
       "</svg>\r\n"
      ],
      "text/plain": [
       "<graphviz.files.Source at 0x2a5107b9390>"
      ]
     },
     "execution_count": 23,
     "metadata": {},
     "output_type": "execute_result"
    }
   ],
   "source": [
    "pr = PageRank(pages, initial_guess=40)\n",
    "pr.calculate(2, report=True, rep_function=report)\n",
    "pr.get_digraph(show_pr=True)"
   ]
  },
  {
   "cell_type": "markdown",
   "metadata": {},
   "source": [
    "Here’s the code used to calculate this example starting the guess at $0$: Show the code | Run the program\n",
    "\n",
    " - **Principle**: it doesn’t matter where you start your guess, once the PageRank calculations have settled down, the “normalized probability distribution” (the average PageRank for all pages) will be $1.0$"
   ]
  },
  {
   "cell_type": "markdown",
   "metadata": {
    "collapsed": true
   },
   "source": [
    "## Getting the answer quicker\n",
    "How many times do we need to repeat the calculation for big networks? That’s a difficult question; for a network as large as the World Wide Web it can be many millions of iterations! The “damping factor” is quite subtle. If it’s too high then it takes ages for the numbers to settle, if it’s too low then you get repeated over-shoot, both above and below the average - the numbers just swing about the average like a pendulum and never settle down.  \n",
    "\n",
    "Also choosing the order of calculations can help. The answer will always come out the same no matter which order you choose, but some orders will get you there quicker than others.  \n",
    "\n",
    "I’m sure there’s been several Master’s Thesis on how to make this calculation as efficient as possible, but, in the examples below, I’ve used very simple code for clarity and roughly 20 to 40 iterations were needed!"
   ]
  },
  {
   "cell_type": "markdown",
   "metadata": {},
   "source": [
    "### Example 1"
   ]
  },
  {
   "cell_type": "code",
   "execution_count": 24,
   "metadata": {
    "collapsed": true
   },
   "outputs": [],
   "source": [
    "pages = {\n",
    "    \"A\": [\"B\", \"C\"],\n",
    "    \"B\": [\"C\"],\n",
    "    \"C\": [\"A\"],\n",
    "    \"D\": [\"C\"],\n",
    "}"
   ]
  },
  {
   "cell_type": "markdown",
   "metadata": {},
   "source": [
    "I’m not going to repeat the calculations here, but you can see them by running the program (yes, if you click the link the program really is re-run to do the calculations for you)"
   ]
  },
  {
   "cell_type": "markdown",
   "metadata": {},
   "source": [
    "So the correct PR for the example is:"
   ]
  },
  {
   "cell_type": "code",
   "execution_count": 25,
   "metadata": {},
   "outputs": [
    {
     "name": "stdout",
     "output_type": "stream",
     "text": [
      "Iteration 10\n",
      "\tA: 1.473742\n",
      "\tD: 0.150000\n",
      "\tC: 1.561783\n",
      "\tB: 0.776340\n",
      "Iteration 20\n",
      "\tA: 1.489001\n",
      "\tD: 0.150000\n",
      "\tC: 1.575603\n",
      "\tB: 0.782825\n"
     ]
    },
    {
     "data": {
      "image/svg+xml": [
       "<?xml version=\"1.0\" encoding=\"UTF-8\" standalone=\"no\"?>\r\n",
       "<!DOCTYPE svg PUBLIC \"-//W3C//DTD SVG 1.1//EN\"\r\n",
       " \"http://www.w3.org/Graphics/SVG/1.1/DTD/svg11.dtd\">\r\n",
       "<!-- Generated by graphviz version 2.38.0 (20140413.2041)\r\n",
       " -->\r\n",
       "<!-- Title: G Pages: 1 -->\r\n",
       "<svg width=\"245pt\" height=\"157pt\"\r\n",
       " viewBox=\"0.00 0.00 245.00 157.00\" xmlns=\"http://www.w3.org/2000/svg\" xmlns:xlink=\"http://www.w3.org/1999/xlink\">\r\n",
       "<g id=\"graph0\" class=\"graph\" transform=\"scale(1 1) rotate(0) translate(4 153)\">\r\n",
       "<title>G</title>\r\n",
       "<polygon fill=\"white\" stroke=\"none\" points=\"-4,4 -4,-153 241,-153 241,4 -4,4\"/>\r\n",
       "<!-- A -->\r\n",
       "<g id=\"node1\" class=\"node\"><title>A</title>\r\n",
       "<polygon fill=\"none\" stroke=\"black\" points=\"0,-56.5 0,-92.5 55,-92.5 55,-56.5 0,-56.5\"/>\r\n",
       "<text text-anchor=\"start\" x=\"22.5\" y=\"-75.8\" font-family=\"Times New Roman,serif\" font-size=\"14.00\">A</text>\r\n",
       "<text text-anchor=\"start\" x=\"8\" y=\"-65.8\" font-family=\"Times New Roman,serif\" font-size=\"9.00\">PR 1.4890</text>\r\n",
       "</g>\r\n",
       "<!-- B -->\r\n",
       "<g id=\"node2\" class=\"node\"><title>B</title>\r\n",
       "<polygon fill=\"none\" stroke=\"black\" points=\"91,-112.5 91,-148.5 146,-148.5 146,-112.5 91,-112.5\"/>\r\n",
       "<text text-anchor=\"start\" x=\"113.5\" y=\"-131.8\" font-family=\"Times New Roman,serif\" font-size=\"14.00\">B</text>\r\n",
       "<text text-anchor=\"start\" x=\"99\" y=\"-121.8\" font-family=\"Times New Roman,serif\" font-size=\"9.00\">PR 0.7828</text>\r\n",
       "</g>\r\n",
       "<!-- A&#45;&gt;B -->\r\n",
       "<g id=\"edge1\" class=\"edge\"><title>A&#45;&gt;B</title>\r\n",
       "<path fill=\"none\" stroke=\"black\" d=\"M55.2029,-91.3018C63.6513,-96.6177 73.1243,-102.578 82.0841,-108.216\"/>\r\n",
       "<polygon fill=\"black\" stroke=\"black\" points=\"80.488,-111.347 90.8159,-113.71 84.216,-105.422 80.488,-111.347\"/>\r\n",
       "</g>\r\n",
       "<!-- C -->\r\n",
       "<g id=\"node3\" class=\"node\"><title>C</title>\r\n",
       "<polygon fill=\"none\" stroke=\"black\" points=\"182,-56.5 182,-92.5 237,-92.5 237,-56.5 182,-56.5\"/>\r\n",
       "<text text-anchor=\"start\" x=\"204.5\" y=\"-75.8\" font-family=\"Times New Roman,serif\" font-size=\"14.00\">C</text>\r\n",
       "<text text-anchor=\"start\" x=\"190\" y=\"-65.8\" font-family=\"Times New Roman,serif\" font-size=\"9.00\">PR 1.5756</text>\r\n",
       "</g>\r\n",
       "<!-- A&#45;&gt;C -->\r\n",
       "<g id=\"edge2\" class=\"edge\"><title>A&#45;&gt;C</title>\r\n",
       "<path fill=\"none\" stroke=\"black\" d=\"M55.0596,-69.5446C85.9011,-67.3784 136.966,-67.1733 171.638,-68.9291\"/>\r\n",
       "<polygon fill=\"black\" stroke=\"black\" points=\"171.641,-72.4354 181.831,-69.537 172.058,-65.4478 171.641,-72.4354\"/>\r\n",
       "</g>\r\n",
       "<!-- B&#45;&gt;C -->\r\n",
       "<g id=\"edge3\" class=\"edge\"><title>B&#45;&gt;C</title>\r\n",
       "<path fill=\"none\" stroke=\"black\" d=\"M146.203,-113.698C154.651,-108.382 164.124,-102.422 173.084,-96.7842\"/>\r\n",
       "<polygon fill=\"black\" stroke=\"black\" points=\"175.216,-99.578 181.816,-91.29 171.488,-93.6533 175.216,-99.578\"/>\r\n",
       "</g>\r\n",
       "<!-- C&#45;&gt;A -->\r\n",
       "<g id=\"edge4\" class=\"edge\"><title>C&#45;&gt;A</title>\r\n",
       "<path fill=\"none\" stroke=\"black\" d=\"M181.831,-79.463C150.942,-81.6246 99.8735,-81.8251 65.2398,-80.0647\"/>\r\n",
       "<polygon fill=\"black\" stroke=\"black\" points=\"65.2509,-76.5592 55.0596,-79.4554 64.8326,-83.5467 65.2509,-76.5592\"/>\r\n",
       "</g>\r\n",
       "<!-- D -->\r\n",
       "<g id=\"node4\" class=\"node\"><title>D</title>\r\n",
       "<polygon fill=\"none\" stroke=\"black\" points=\"91,-0.5 91,-36.5 146,-36.5 146,-0.5 91,-0.5\"/>\r\n",
       "<text text-anchor=\"start\" x=\"113.5\" y=\"-19.8\" font-family=\"Times New Roman,serif\" font-size=\"14.00\">D</text>\r\n",
       "<text text-anchor=\"start\" x=\"99\" y=\"-9.8\" font-family=\"Times New Roman,serif\" font-size=\"9.00\">PR 0.1500</text>\r\n",
       "</g>\r\n",
       "<!-- D&#45;&gt;C -->\r\n",
       "<g id=\"edge5\" class=\"edge\"><title>D&#45;&gt;C</title>\r\n",
       "<path fill=\"none\" stroke=\"black\" d=\"M146.203,-35.3018C154.651,-40.6177 164.124,-46.5782 173.084,-52.2158\"/>\r\n",
       "<polygon fill=\"black\" stroke=\"black\" points=\"171.488,-55.3467 181.816,-57.71 175.216,-49.422 171.488,-55.3467\"/>\r\n",
       "</g>\r\n",
       "</g>\r\n",
       "</svg>\r\n"
      ],
      "text/plain": [
       "<graphviz.files.Source at 0x2a5107b9d68>"
      ]
     },
     "execution_count": 25,
     "metadata": {},
     "output_type": "execute_result"
    }
   ],
   "source": [
    "pr = PageRank(pages, initial_guess=1)\n",
    "pr.calculate(20, report=True, report_every=10, rep_function=report)\n",
    "pr.get_digraph(show_pr=True)"
   ]
  },
  {
   "cell_type": "markdown",
   "metadata": {},
   "source": [
    "You can see it took about $20$ iterations before the network began to settle on these values!\n",
    "\n",
    "Look at Page D though - it has a PR of $0.15$ even though no-one is voting for it (i.e. it has no incoming links)! Is this right?\n",
    "\n",
    "The first part, or \"term\" to be techinal, of the PR equation is doing this:\n",
    "\n",
    "$$PR(A) = (1-d) + d (PR(T_1)/C(T_1) + ... + PR(T_n)/C(T_n))$$\n",
    "\n",
    "So, for Page D, no backlinks means the equation looks like this:\n",
    "\n",
    "$$PR(A) = (1-d) + d * (0) = 0.15$$\n",
    "\n",
    "no matter what else is going on or how many times you do it.\n",
    "\n",
    " - **Observation**: every page has at least a PR of 0.15 to share out. But this may only be in theory - there are rumours that Google undergoes a post-spidering phase whereby any pages that have no incoming links at all are completely deleted from the index..."
   ]
  },
  {
   "cell_type": "markdown",
   "metadata": {},
   "source": [
    "### Example 2"
   ]
  },
  {
   "cell_type": "code",
   "execution_count": 26,
   "metadata": {
    "collapsed": true
   },
   "outputs": [],
   "source": [
    "pages = {\n",
    "    \"Home\": [\"About\", \"Product\", \"Links\"],\n",
    "    \"About\": [\"Home\"],\n",
    "    \"Product\": [\"Home\"],\n",
    "    \"Links\": [\"Home\",\"External Site A\", \"External Site B\", \"External Site C\", \"External Site D\"]\n",
    "}"
   ]
  },
  {
   "cell_type": "code",
   "execution_count": 27,
   "metadata": {},
   "outputs": [
    {
     "name": "stdout",
     "output_type": "stream",
     "text": [
      "Iteration 20\n",
      "\tLinks: 0.409431\n",
      "\tAbout: 0.409431\n",
      "\tHome: 0.915636\n",
      "\tProduct: 0.409430\n",
      "\tExternal Site B: 0.219603\n",
      "\tExternal Site A: 0.219603\n",
      "\tExternal Site D: 0.219603\n",
      "\tExternal Site C: 0.219603\n",
      "Average PR: 0.378\n"
     ]
    },
    {
     "data": {
      "image/svg+xml": [
       "<?xml version=\"1.0\" encoding=\"UTF-8\" standalone=\"no\"?>\r\n",
       "<!DOCTYPE svg PUBLIC \"-//W3C//DTD SVG 1.1//EN\"\r\n",
       " \"http://www.w3.org/Graphics/SVG/1.1/DTD/svg11.dtd\">\r\n",
       "<!-- Generated by graphviz version 2.38.0 (20140413.2041)\r\n",
       " -->\r\n",
       "<!-- Title: G Pages: 1 -->\r\n",
       "<svg width=\"304pt\" height=\"237pt\"\r\n",
       " viewBox=\"0.00 0.00 304.00 237.00\" xmlns=\"http://www.w3.org/2000/svg\" xmlns:xlink=\"http://www.w3.org/1999/xlink\">\r\n",
       "<g id=\"graph0\" class=\"graph\" transform=\"scale(1 1) rotate(0) translate(4 233)\">\r\n",
       "<title>G</title>\r\n",
       "<polygon fill=\"white\" stroke=\"none\" points=\"-4,4 -4,-233 300,-233 300,4 -4,4\"/>\r\n",
       "<!-- Home -->\r\n",
       "<g id=\"node1\" class=\"node\"><title>Home</title>\r\n",
       "<polygon fill=\"none\" stroke=\"black\" points=\"0,-137.5 0,-173.5 55,-173.5 55,-137.5 0,-137.5\"/>\r\n",
       "<text text-anchor=\"start\" x=\"10.5\" y=\"-156.8\" font-family=\"Times New Roman,serif\" font-size=\"14.00\">Home</text>\r\n",
       "<text text-anchor=\"start\" x=\"8\" y=\"-146.8\" font-family=\"Times New Roman,serif\" font-size=\"9.00\">PR 0.9156</text>\r\n",
       "</g>\r\n",
       "<!-- About -->\r\n",
       "<g id=\"node2\" class=\"node\"><title>About</title>\r\n",
       "<polygon fill=\"none\" stroke=\"black\" points=\"94.5,-192.5 94.5,-228.5 149.5,-228.5 149.5,-192.5 94.5,-192.5\"/>\r\n",
       "<text text-anchor=\"start\" x=\"104\" y=\"-211.8\" font-family=\"Times New Roman,serif\" font-size=\"14.00\">About</text>\r\n",
       "<text text-anchor=\"start\" x=\"102.5\" y=\"-201.8\" font-family=\"Times New Roman,serif\" font-size=\"9.00\">PR 0.4094</text>\r\n",
       "</g>\r\n",
       "<!-- Home&#45;&gt;About -->\r\n",
       "<g id=\"edge1\" class=\"edge\"><title>Home&#45;&gt;About</title>\r\n",
       "<path fill=\"none\" stroke=\"black\" d=\"M55.2548,-165.222C66.6499,-171.298 79.9775,-179.174 91.6429,-186.712\"/>\r\n",
       "<polygon fill=\"black\" stroke=\"black\" points=\"89.9119,-189.763 100.18,-192.375 93.7814,-183.93 89.9119,-189.763\"/>\r\n",
       "</g>\r\n",
       "<!-- Product -->\r\n",
       "<g id=\"node3\" class=\"node\"><title>Product</title>\r\n",
       "<polygon fill=\"none\" stroke=\"black\" points=\"91,-137.5 91,-173.5 153,-173.5 153,-137.5 91,-137.5\"/>\r\n",
       "<text text-anchor=\"start\" x=\"99\" y=\"-156.8\" font-family=\"Times New Roman,serif\" font-size=\"14.00\">Product</text>\r\n",
       "<text text-anchor=\"start\" x=\"102.5\" y=\"-146.8\" font-family=\"Times New Roman,serif\" font-size=\"9.00\">PR 0.4094</text>\r\n",
       "</g>\r\n",
       "<!-- Home&#45;&gt;Product -->\r\n",
       "<g id=\"edge2\" class=\"edge\"><title>Home&#45;&gt;Product</title>\r\n",
       "<path fill=\"none\" stroke=\"black\" d=\"M55.2548,-149.314C63.145,-148.83 71.9617,-148.657 80.5116,-148.797\"/>\r\n",
       "<polygon fill=\"black\" stroke=\"black\" points=\"80.6219,-152.302 90.728,-149.122 80.8443,-145.305 80.6219,-152.302\"/>\r\n",
       "</g>\r\n",
       "<!-- Links -->\r\n",
       "<g id=\"node4\" class=\"node\"><title>Links</title>\r\n",
       "<polygon fill=\"none\" stroke=\"black\" points=\"94.5,-82.5 94.5,-118.5 149.5,-118.5 149.5,-82.5 94.5,-82.5\"/>\r\n",
       "<text text-anchor=\"start\" x=\"106.5\" y=\"-101.8\" font-family=\"Times New Roman,serif\" font-size=\"14.00\">Links</text>\r\n",
       "<text text-anchor=\"start\" x=\"102.5\" y=\"-91.8\" font-family=\"Times New Roman,serif\" font-size=\"9.00\">PR 0.4094</text>\r\n",
       "</g>\r\n",
       "<!-- Home&#45;&gt;Links -->\r\n",
       "<g id=\"edge3\" class=\"edge\"><title>Home&#45;&gt;Links</title>\r\n",
       "<path fill=\"none\" stroke=\"black\" d=\"M49.4897,-137.259C60.1087,-130.018 73.2906,-121.905 85.4332,-115.061\"/>\r\n",
       "<polygon fill=\"black\" stroke=\"black\" points=\"87.3729,-117.988 94.4564,-110.11 84.0057,-111.852 87.3729,-117.988\"/>\r\n",
       "</g>\r\n",
       "<!-- About&#45;&gt;Home -->\r\n",
       "<g id=\"edge4\" class=\"edge\"><title>About&#45;&gt;Home</title>\r\n",
       "<path fill=\"none\" stroke=\"black\" d=\"M94.4564,-200.89C83.0777,-194.832 69.7416,-186.959 58.05,-179.413\"/>\r\n",
       "<polygon fill=\"black\" stroke=\"black\" points=\"59.7591,-176.347 49.4897,-173.741 55.8928,-182.182 59.7591,-176.347\"/>\r\n",
       "</g>\r\n",
       "<!-- Product&#45;&gt;Home -->\r\n",
       "<g id=\"edge5\" class=\"edge\"><title>Product&#45;&gt;Home</title>\r\n",
       "<path fill=\"none\" stroke=\"black\" d=\"M90.728,-161.878C82.5924,-162.272 73.7047,-162.353 65.2584,-162.122\"/>\r\n",
       "<polygon fill=\"black\" stroke=\"black\" points=\"65.3978,-158.625 55.2548,-161.686 65.0929,-165.618 65.3978,-158.625\"/>\r\n",
       "</g>\r\n",
       "<!-- Links&#45;&gt;Home -->\r\n",
       "<g id=\"edge6\" class=\"edge\"><title>Links&#45;&gt;Home</title>\r\n",
       "<path fill=\"none\" stroke=\"black\" d=\"M100.18,-118.625C89.5955,-125.852 76.4326,-133.961 64.2859,-140.816\"/>\r\n",
       "<polygon fill=\"black\" stroke=\"black\" points=\"62.3338,-137.895 55.2548,-145.778 65.7045,-144.03 62.3338,-137.895\"/>\r\n",
       "</g>\r\n",
       "<!-- External_Site_A -->\r\n",
       "<g id=\"node5\" class=\"node\"><title>External_Site_A</title>\r\n",
       "<polygon fill=\"none\" stroke=\"black\" points=\"189,-165.5 189,-201.5 296,-201.5 296,-165.5 189,-165.5\"/>\r\n",
       "<text text-anchor=\"middle\" x=\"242.5\" y=\"-179.8\" font-family=\"Times New Roman,serif\" font-size=\"14.00\">External_Site_A</text>\r\n",
       "</g>\r\n",
       "<!-- Links&#45;&gt;External_Site_A -->\r\n",
       "<g id=\"edge7\" class=\"edge\"><title>Links&#45;&gt;External_Site_A</title>\r\n",
       "<path fill=\"none\" stroke=\"black\" d=\"M141.993,-118.649C154.704,-130.268 172.135,-145.225 189,-156.5 190.904,-157.773 192.875,-159.029 194.888,-160.262\"/>\r\n",
       "<polygon fill=\"black\" stroke=\"black\" points=\"193.491,-163.498 203.895,-165.498 197.009,-157.446 193.491,-163.498\"/>\r\n",
       "</g>\r\n",
       "<!-- External_Site_B -->\r\n",
       "<g id=\"node6\" class=\"node\"><title>External_Site_B</title>\r\n",
       "<polygon fill=\"none\" stroke=\"black\" points=\"189,-110.5 189,-146.5 296,-146.5 296,-110.5 189,-110.5\"/>\r\n",
       "<text text-anchor=\"middle\" x=\"242.5\" y=\"-124.8\" font-family=\"Times New Roman,serif\" font-size=\"14.00\">External_Site_B</text>\r\n",
       "</g>\r\n",
       "<!-- Links&#45;&gt;External_Site_B -->\r\n",
       "<g id=\"edge8\" class=\"edge\"><title>Links&#45;&gt;External_Site_B</title>\r\n",
       "<path fill=\"none\" stroke=\"black\" d=\"M149.594,-106.784C158.385,-108.861 168.57,-111.268 178.892,-113.707\"/>\r\n",
       "<polygon fill=\"black\" stroke=\"black\" points=\"178.253,-117.152 188.79,-116.045 179.862,-110.339 178.253,-117.152\"/>\r\n",
       "</g>\r\n",
       "<!-- External_Site_C -->\r\n",
       "<g id=\"node7\" class=\"node\"><title>External_Site_C</title>\r\n",
       "<polygon fill=\"none\" stroke=\"black\" points=\"189,-55.5 189,-91.5 296,-91.5 296,-55.5 189,-55.5\"/>\r\n",
       "<text text-anchor=\"middle\" x=\"242.5\" y=\"-69.8\" font-family=\"Times New Roman,serif\" font-size=\"14.00\">External_Site_C</text>\r\n",
       "</g>\r\n",
       "<!-- Links&#45;&gt;External_Site_C -->\r\n",
       "<g id=\"edge9\" class=\"edge\"><title>Links&#45;&gt;External_Site_C</title>\r\n",
       "<path fill=\"none\" stroke=\"black\" d=\"M149.594,-94.4407C158.385,-92.4377 168.57,-90.1169 178.892,-87.765\"/>\r\n",
       "<polygon fill=\"black\" stroke=\"black\" points=\"179.817,-91.1441 188.79,-85.51 178.262,-84.3191 179.817,-91.1441\"/>\r\n",
       "</g>\r\n",
       "<!-- External_Site_D -->\r\n",
       "<g id=\"node8\" class=\"node\"><title>External_Site_D</title>\r\n",
       "<polygon fill=\"none\" stroke=\"black\" points=\"189,-0.5 189,-36.5 296,-36.5 296,-0.5 189,-0.5\"/>\r\n",
       "<text text-anchor=\"middle\" x=\"242.5\" y=\"-14.8\" font-family=\"Times New Roman,serif\" font-size=\"14.00\">External_Site_D</text>\r\n",
       "</g>\r\n",
       "<!-- Links&#45;&gt;External_Site_D -->\r\n",
       "<g id=\"edge10\" class=\"edge\"><title>Links&#45;&gt;External_Site_D</title>\r\n",
       "<path fill=\"none\" stroke=\"black\" d=\"M143.007,-82.3933C155.699,-71.3559 172.738,-57.3376 189,-46.5 191.418,-44.8888 193.938,-43.2937 196.508,-41.7306\"/>\r\n",
       "<polygon fill=\"black\" stroke=\"black\" points=\"198.495,-44.6239 205.37,-36.5623 194.968,-38.5772 198.495,-44.6239\"/>\r\n",
       "</g>\r\n",
       "</g>\r\n",
       "</svg>\r\n"
      ],
      "text/plain": [
       "<graphviz.files.Source at 0x2a5107b7780>"
      ]
     },
     "execution_count": 27,
     "metadata": {},
     "output_type": "execute_result"
    }
   ],
   "source": [
    "pr = PageRank(pages, initial_guess=1)\n",
    "pr.calculate(20, report=True, report_every=20, rep_function=report)\n",
    "print(\"Average PR: %.3f\" % pr.get_avg())\n",
    "pr.get_digraph(show_pr=True)"
   ]
  },
  {
   "cell_type": "markdown",
   "metadata": {},
   "source": [
    "As you’d expect, the home page has the most PR – after all, it has the most incoming links! But what’s happened to the average? It’s only 0.378!!! That doesn’t tie up with what I said earlier so something is wrong somewhere!\n",
    "\n",
    "Well no, everything is fine. But take a look at the “external site” pages – what’s happening to their PageRank? They’re not passing it on, they’re not voting for anyone, they’re wasting their PR like so much pregnant chad!!! (NB, a more accurate description of this issue can be found in this [thread](http://www.marketpositiontalk.com/forums/Index.cfm?CFApp=11&Message_ID=37917))"
   ]
  },
  {
   "cell_type": "markdown",
   "metadata": {},
   "source": [
    "### Example 3  \n",
    "Let’s link those external sites back into our home page just so we can see what happens to the average…"
   ]
  },
  {
   "cell_type": "code",
   "execution_count": 28,
   "metadata": {},
   "outputs": [
    {
     "name": "stdout",
     "output_type": "stream",
     "text": [
      "Iteration 20\n",
      "\tLinks: 1.101035\n",
      "\tAbout: 1.101035\n",
      "\tHome: 3.355559\n",
      "\tProduct: 1.100742\n",
      "\tExternal Site B: 0.337176\n",
      "\tExternal Site A: 0.337176\n",
      "\tExternal Site D: 0.337176\n",
      "\tExternal Site C: 0.337176\n",
      "Average PR: 1.001\n"
     ]
    },
    {
     "data": {
      "image/svg+xml": [
       "<?xml version=\"1.0\" encoding=\"UTF-8\" standalone=\"no\"?>\r\n",
       "<!DOCTYPE svg PUBLIC \"-//W3C//DTD SVG 1.1//EN\"\r\n",
       " \"http://www.w3.org/Graphics/SVG/1.1/DTD/svg11.dtd\">\r\n",
       "<!-- Generated by graphviz version 2.38.0 (20140413.2041)\r\n",
       " -->\r\n",
       "<!-- Title: G Pages: 1 -->\r\n",
       "<svg width=\"297pt\" height=\"315pt\"\r\n",
       " viewBox=\"0.00 0.00 297.00 315.00\" xmlns=\"http://www.w3.org/2000/svg\" xmlns:xlink=\"http://www.w3.org/1999/xlink\">\r\n",
       "<g id=\"graph0\" class=\"graph\" transform=\"scale(1 1) rotate(0) translate(4 311)\">\r\n",
       "<title>G</title>\r\n",
       "<polygon fill=\"white\" stroke=\"none\" points=\"-4,4 -4,-311 293,-311 293,4 -4,4\"/>\r\n",
       "<!-- Home -->\r\n",
       "<g id=\"node1\" class=\"node\"><title>Home</title>\r\n",
       "<polygon fill=\"none\" stroke=\"black\" points=\"0,-149.5 0,-185.5 55,-185.5 55,-149.5 0,-149.5\"/>\r\n",
       "<text text-anchor=\"start\" x=\"10.5\" y=\"-168.8\" font-family=\"Times New Roman,serif\" font-size=\"14.00\">Home</text>\r\n",
       "<text text-anchor=\"start\" x=\"8\" y=\"-158.8\" font-family=\"Times New Roman,serif\" font-size=\"9.00\">PR 3.3556</text>\r\n",
       "</g>\r\n",
       "<!-- About -->\r\n",
       "<g id=\"node2\" class=\"node\"><title>About</title>\r\n",
       "<polygon fill=\"none\" stroke=\"black\" points=\"94.5,-270.5 94.5,-306.5 149.5,-306.5 149.5,-270.5 94.5,-270.5\"/>\r\n",
       "<text text-anchor=\"start\" x=\"104\" y=\"-289.8\" font-family=\"Times New Roman,serif\" font-size=\"14.00\">About</text>\r\n",
       "<text text-anchor=\"start\" x=\"102.5\" y=\"-279.8\" font-family=\"Times New Roman,serif\" font-size=\"9.00\">PR 1.1010</text>\r\n",
       "</g>\r\n",
       "<!-- Home&#45;&gt;About -->\r\n",
       "<g id=\"edge1\" class=\"edge\"><title>Home&#45;&gt;About</title>\r\n",
       "<path fill=\"none\" stroke=\"black\" d=\"M43.0851,-185.698C54.8419,-203.694 72.4261,-230.994 91,-252.5 94.1545,-256.152 97.7832,-259.794 101.402,-263.341\"/>\r\n",
       "<polygon fill=\"black\" stroke=\"black\" points=\"99.0738,-265.96 108.664,-270.464 103.976,-260.962 99.0738,-265.96\"/>\r\n",
       "</g>\r\n",
       "<!-- Product -->\r\n",
       "<g id=\"node3\" class=\"node\"><title>Product</title>\r\n",
       "<polygon fill=\"none\" stroke=\"black\" points=\"91,-215.5 91,-251.5 153,-251.5 153,-215.5 91,-215.5\"/>\r\n",
       "<text text-anchor=\"start\" x=\"99\" y=\"-234.8\" font-family=\"Times New Roman,serif\" font-size=\"14.00\">Product</text>\r\n",
       "<text text-anchor=\"start\" x=\"102.5\" y=\"-224.8\" font-family=\"Times New Roman,serif\" font-size=\"9.00\">PR 1.1007</text>\r\n",
       "</g>\r\n",
       "<!-- Home&#45;&gt;Product -->\r\n",
       "<g id=\"edge2\" class=\"edge\"><title>Home&#45;&gt;Product</title>\r\n",
       "<path fill=\"none\" stroke=\"black\" d=\"M55.2548,-180.404C67.8271,-188.603 82.7518,-199.272 95.2011,-208.967\"/>\r\n",
       "<polygon fill=\"black\" stroke=\"black\" points=\"93.3653,-211.979 103.365,-215.48 97.731,-206.508 93.3653,-211.979\"/>\r\n",
       "</g>\r\n",
       "<!-- Links -->\r\n",
       "<g id=\"node4\" class=\"node\"><title>Links</title>\r\n",
       "<polygon fill=\"none\" stroke=\"black\" points=\"94.5,-83.5 94.5,-119.5 149.5,-119.5 149.5,-83.5 94.5,-83.5\"/>\r\n",
       "<text text-anchor=\"start\" x=\"106.5\" y=\"-102.8\" font-family=\"Times New Roman,serif\" font-size=\"14.00\">Links</text>\r\n",
       "<text text-anchor=\"start\" x=\"102.5\" y=\"-92.8\" font-family=\"Times New Roman,serif\" font-size=\"9.00\">PR 1.1010</text>\r\n",
       "</g>\r\n",
       "<!-- Home&#45;&gt;Links -->\r\n",
       "<g id=\"edge3\" class=\"edge\"><title>Home&#45;&gt;Links</title>\r\n",
       "<path fill=\"none\" stroke=\"black\" d=\"M46.3349,-149.317C57.532,-140.148 72.3568,-129.199 85.844,-120.01\"/>\r\n",
       "<polygon fill=\"black\" stroke=\"black\" points=\"88.0845,-122.723 94.4622,-114.262 84.2007,-116.899 88.0845,-122.723\"/>\r\n",
       "</g>\r\n",
       "<!-- About&#45;&gt;Home -->\r\n",
       "<g id=\"edge4\" class=\"edge\"><title>About&#45;&gt;Home</title>\r\n",
       "<path fill=\"none\" stroke=\"black\" d=\"M94.4499,-274.296C93.256,-273.044 92.0992,-271.773 91,-270.5 70.6918,-246.986 51.5668,-216.545 39.9482,-194.637\"/>\r\n",
       "<polygon fill=\"black\" stroke=\"black\" points=\"42.9622,-192.843 35.3038,-185.522 36.7252,-196.021 42.9622,-192.843\"/>\r\n",
       "</g>\r\n",
       "<!-- Product&#45;&gt;Home -->\r\n",
       "<g id=\"edge5\" class=\"edge\"><title>Product&#45;&gt;Home</title>\r\n",
       "<path fill=\"none\" stroke=\"black\" d=\"M90.84,-218.353C79.0015,-210.483 65.5562,-200.805 54.1906,-191.949\"/>\r\n",
       "<polygon fill=\"black\" stroke=\"black\" points=\"56.3353,-189.183 46.3349,-185.683 51.9705,-194.655 56.3353,-189.183\"/>\r\n",
       "</g>\r\n",
       "<!-- Links&#45;&gt;Home -->\r\n",
       "<g id=\"edge6\" class=\"edge\"><title>Links&#45;&gt;Home</title>\r\n",
       "<path fill=\"none\" stroke=\"black\" d=\"M103.365,-119.52C92.2091,-128.668 77.3942,-139.621 63.889,-148.831\"/>\r\n",
       "<polygon fill=\"black\" stroke=\"black\" points=\"61.628,-146.132 55.2548,-154.596 65.515,-151.954 61.628,-146.132\"/>\r\n",
       "</g>\r\n",
       "<!-- External_Site_A -->\r\n",
       "<g id=\"node5\" class=\"node\"><title>External_Site_A</title>\r\n",
       "<polygon fill=\"none\" stroke=\"black\" points=\"189,-167.5 189,-203.5 289,-203.5 289,-167.5 189,-167.5\"/>\r\n",
       "<text text-anchor=\"start\" x=\"197\" y=\"-186.8\" font-family=\"Times New Roman,serif\" font-size=\"14.00\">External Site A</text>\r\n",
       "<text text-anchor=\"start\" x=\"219.5\" y=\"-176.8\" font-family=\"Times New Roman,serif\" font-size=\"9.00\">PR 0.3372</text>\r\n",
       "</g>\r\n",
       "<!-- Links&#45;&gt;External_Site_A -->\r\n",
       "<g id=\"edge7\" class=\"edge\"><title>Links&#45;&gt;External_Site_A</title>\r\n",
       "<path fill=\"none\" stroke=\"black\" d=\"M142.447,-119.658C155.201,-131.14 172.511,-145.942 189,-157.5 191.141,-159.001 193.368,-160.493 195.641,-161.962\"/>\r\n",
       "<polygon fill=\"black\" stroke=\"black\" points=\"194.197,-165.185 204.539,-167.483 197.887,-159.237 194.197,-165.185\"/>\r\n",
       "</g>\r\n",
       "<!-- External_Site_B -->\r\n",
       "<g id=\"node6\" class=\"node\"><title>External_Site_B</title>\r\n",
       "<polygon fill=\"none\" stroke=\"black\" points=\"189.5,-112.5 189.5,-148.5 288.5,-148.5 288.5,-112.5 189.5,-112.5\"/>\r\n",
       "<text text-anchor=\"start\" x=\"197.5\" y=\"-131.8\" font-family=\"Times New Roman,serif\" font-size=\"14.00\">External Site B</text>\r\n",
       "<text text-anchor=\"start\" x=\"219.5\" y=\"-121.8\" font-family=\"Times New Roman,serif\" font-size=\"9.00\">PR 0.3372</text>\r\n",
       "</g>\r\n",
       "<!-- Links&#45;&gt;External_Site_B -->\r\n",
       "<g id=\"edge8\" class=\"edge\"><title>Links&#45;&gt;External_Site_B</title>\r\n",
       "<path fill=\"none\" stroke=\"black\" d=\"M149.672,-108.226C158.623,-110.483 168.988,-113.097 179.401,-115.723\"/>\r\n",
       "<polygon fill=\"black\" stroke=\"black\" points=\"178.802,-119.181 189.355,-118.233 180.514,-112.394 178.802,-119.181\"/>\r\n",
       "</g>\r\n",
       "<!-- External_Site_C -->\r\n",
       "<g id=\"node7\" class=\"node\"><title>External_Site_C</title>\r\n",
       "<polygon fill=\"none\" stroke=\"black\" points=\"189,-56.5 189,-92.5 289,-92.5 289,-56.5 189,-56.5\"/>\r\n",
       "<text text-anchor=\"start\" x=\"197\" y=\"-75.8\" font-family=\"Times New Roman,serif\" font-size=\"14.00\">External Site C</text>\r\n",
       "<text text-anchor=\"start\" x=\"219.5\" y=\"-65.8\" font-family=\"Times New Roman,serif\" font-size=\"9.00\">PR 0.3372</text>\r\n",
       "</g>\r\n",
       "<!-- Links&#45;&gt;External_Site_C -->\r\n",
       "<g id=\"edge9\" class=\"edge\"><title>Links&#45;&gt;External_Site_C</title>\r\n",
       "<path fill=\"none\" stroke=\"black\" d=\"M149.672,-95.2378C158.522,-93.16 168.755,-90.7575 179.05,-88.3405\"/>\r\n",
       "<polygon fill=\"black\" stroke=\"black\" points=\"179.961,-91.7218 188.896,-86.0287 178.361,-84.9071 179.961,-91.7218\"/>\r\n",
       "</g>\r\n",
       "<!-- External_Site_D -->\r\n",
       "<g id=\"node8\" class=\"node\"><title>External_Site_D</title>\r\n",
       "<polygon fill=\"none\" stroke=\"black\" points=\"189,-0.5 189,-36.5 289,-36.5 289,-0.5 189,-0.5\"/>\r\n",
       "<text text-anchor=\"start\" x=\"197\" y=\"-19.8\" font-family=\"Times New Roman,serif\" font-size=\"14.00\">External Site D</text>\r\n",
       "<text text-anchor=\"start\" x=\"219.5\" y=\"-9.8\" font-family=\"Times New Roman,serif\" font-size=\"9.00\">PR 0.3372</text>\r\n",
       "</g>\r\n",
       "<!-- Links&#45;&gt;External_Site_D -->\r\n",
       "<g id=\"edge10\" class=\"edge\"><title>Links&#45;&gt;External_Site_D</title>\r\n",
       "<path fill=\"none\" stroke=\"black\" d=\"M142.783,-83.4464C155.528,-72.2177 172.706,-57.8145 189,-46.5 191.148,-45.0086 193.38,-43.5239 195.657,-42.0606\"/>\r\n",
       "<polygon fill=\"black\" stroke=\"black\" points=\"197.899,-44.7892 204.566,-36.5547 194.219,-38.8345 197.899,-44.7892\"/>\r\n",
       "</g>\r\n",
       "<!-- External_Site_A&#45;&gt;Home -->\r\n",
       "<g id=\"edge11\" class=\"edge\"><title>External_Site_A&#45;&gt;Home</title>\r\n",
       "<path fill=\"none\" stroke=\"black\" d=\"M188.929,-181.284C151.035,-178.028 99.4373,-173.595 65.101,-170.645\"/>\r\n",
       "<polygon fill=\"black\" stroke=\"black\" points=\"65.2963,-167.149 55.0333,-169.78 64.697,-174.123 65.2963,-167.149\"/>\r\n",
       "</g>\r\n",
       "<!-- External_Site_B&#45;&gt;Home -->\r\n",
       "<g id=\"edge12\" class=\"edge\"><title>External_Site_B&#45;&gt;Home</title>\r\n",
       "<path fill=\"none\" stroke=\"black\" d=\"M189.34,-139.094C151.422,-145.791 99.5966,-154.944 65.1359,-161.03\"/>\r\n",
       "<polygon fill=\"black\" stroke=\"black\" points=\"64.2722,-157.628 55.0333,-162.814 65.4897,-164.521 64.2722,-157.628\"/>\r\n",
       "</g>\r\n",
       "<!-- External_Site_C&#45;&gt;Home -->\r\n",
       "<g id=\"edge13\" class=\"edge\"><title>External_Site_C&#45;&gt;Home</title>\r\n",
       "<path fill=\"none\" stroke=\"black\" d=\"M188.843,-62.822C158.847,-58.3489 120.692,-57.5857 91,-73.5 64.9698,-87.4515 47.9278,-117.551 38.312,-139.953\"/>\r\n",
       "<polygon fill=\"black\" stroke=\"black\" points=\"35.0304,-138.732 34.526,-149.315 41.5199,-141.356 35.0304,-138.732\"/>\r\n",
       "</g>\r\n",
       "<!-- External_Site_D&#45;&gt;Home -->\r\n",
       "<g id=\"edge14\" class=\"edge\"><title>External_Site_D&#45;&gt;Home</title>\r\n",
       "<path fill=\"none\" stroke=\"black\" d=\"M188.743,-21.4959C157.965,-25.5677 119.002,-34.97 91,-56.5 63.6042,-77.5639 46.3668,-114.269 37.0936,-139.673\"/>\r\n",
       "<polygon fill=\"black\" stroke=\"black\" points=\"33.784,-138.534 33.8166,-149.129 40.3981,-140.826 33.784,-138.534\"/>\r\n",
       "</g>\r\n",
       "</g>\r\n",
       "</svg>\r\n"
      ],
      "text/plain": [
       "<graphviz.files.Source at 0x2a5107d3128>"
      ]
     },
     "execution_count": 28,
     "metadata": {},
     "output_type": "execute_result"
    }
   ],
   "source": [
    "pages = {\n",
    "    \"Home\": [\"About\", \"Product\", \"Links\"],\n",
    "    \"About\": [\"Home\"],\n",
    "    \"Product\": [\"Home\"],\n",
    "    \"Links\": [\"Home\",\"External Site A\", \"External Site B\", \"External Site C\", \"External Site D\"],\n",
    "    \"External Site A\": [\"Home\"],\n",
    "    \"External Site B\": [\"Home\"],\n",
    "    \"External Site C\": [\"Home\"],\n",
    "    \"External Site D\": [\"Home\"]\n",
    "}\n",
    "\n",
    "pr = PageRank(pages, initial_guess=1)\n",
    "pr.calculate(20, report=True, report_every=20, rep_function=report)\n",
    "print(\"Average PR: %.3f\" % pr.get_avg())\n",
    "pr.get_digraph(show_pr=True)"
   ]
  },
  {
   "cell_type": "markdown",
   "metadata": {},
   "source": [
    "That’s better - it does work after all! And look at the PR of our home page! All those incoming links sure make a difference – we’ll talk more about that later."
   ]
  },
  {
   "cell_type": "markdown",
   "metadata": {},
   "source": [
    "### Example 4  \n",
    "What happens to PR if we follow a suggestion about writing page reviews?"
   ]
  },
  {
   "cell_type": "code",
   "execution_count": 29,
   "metadata": {},
   "outputs": [
    {
     "name": "stdout",
     "output_type": "stream",
     "text": [
      "Iteration 20\n",
      "\tReview A: 0.229462\n",
      "\tLinks: 0.841320\n",
      "\tReview C: 0.229458\n",
      "\tAbout: 0.841320\n",
      "\tHome: 2.439868\n",
      "\tProduct: 0.841296\n",
      "\tExternal Site B: 0.229458\n",
      "\tExternal Site A: 0.229458\n",
      "\tExternal Site D: 0.229458\n",
      "\tReview D: 0.229458\n",
      "\tReview B: 0.229458\n",
      "\tExternal Site C: 0.229458\n",
      "Average PR: 0.567\n"
     ]
    },
    {
     "data": {
      "image/svg+xml": [
       "<?xml version=\"1.0\" encoding=\"UTF-8\" standalone=\"no\"?>\r\n",
       "<!DOCTYPE svg PUBLIC \"-//W3C//DTD SVG 1.1//EN\"\r\n",
       " \"http://www.w3.org/Graphics/SVG/1.1/DTD/svg11.dtd\">\r\n",
       "<!-- Generated by graphviz version 2.38.0 (20140413.2041)\r\n",
       " -->\r\n",
       "<!-- Title: G Pages: 1 -->\r\n",
       "<svg width=\"304pt\" height=\"430pt\"\r\n",
       " viewBox=\"0.00 0.00 304.00 430.00\" xmlns=\"http://www.w3.org/2000/svg\" xmlns:xlink=\"http://www.w3.org/1999/xlink\">\r\n",
       "<g id=\"graph0\" class=\"graph\" transform=\"scale(1 1) rotate(0) translate(4 426)\">\r\n",
       "<title>G</title>\r\n",
       "<polygon fill=\"white\" stroke=\"none\" points=\"-4,4 -4,-426 300,-426 300,4 -4,4\"/>\r\n",
       "<!-- Home -->\r\n",
       "<g id=\"node1\" class=\"node\"><title>Home</title>\r\n",
       "<polygon fill=\"none\" stroke=\"black\" points=\"0,-258.5 0,-294.5 55,-294.5 55,-258.5 0,-258.5\"/>\r\n",
       "<text text-anchor=\"start\" x=\"10.5\" y=\"-277.8\" font-family=\"Times New Roman,serif\" font-size=\"14.00\">Home</text>\r\n",
       "<text text-anchor=\"start\" x=\"8\" y=\"-267.8\" font-family=\"Times New Roman,serif\" font-size=\"9.00\">PR 2.4399</text>\r\n",
       "</g>\r\n",
       "<!-- About -->\r\n",
       "<g id=\"node2\" class=\"node\"><title>About</title>\r\n",
       "<polygon fill=\"none\" stroke=\"black\" points=\"94.5,-379.5 94.5,-415.5 149.5,-415.5 149.5,-379.5 94.5,-379.5\"/>\r\n",
       "<text text-anchor=\"start\" x=\"104\" y=\"-398.8\" font-family=\"Times New Roman,serif\" font-size=\"14.00\">About</text>\r\n",
       "<text text-anchor=\"start\" x=\"102.5\" y=\"-388.8\" font-family=\"Times New Roman,serif\" font-size=\"9.00\">PR 0.8413</text>\r\n",
       "</g>\r\n",
       "<!-- Home&#45;&gt;About -->\r\n",
       "<g id=\"edge1\" class=\"edge\"><title>Home&#45;&gt;About</title>\r\n",
       "<path fill=\"none\" stroke=\"black\" d=\"M43.0851,-294.698C54.8419,-312.694 72.4261,-339.994 91,-361.5 94.1545,-365.152 97.7832,-368.794 101.402,-372.341\"/>\r\n",
       "<polygon fill=\"black\" stroke=\"black\" points=\"99.0738,-374.96 108.664,-379.464 103.976,-369.962 99.0738,-374.96\"/>\r\n",
       "</g>\r\n",
       "<!-- Product -->\r\n",
       "<g id=\"node3\" class=\"node\"><title>Product</title>\r\n",
       "<polygon fill=\"none\" stroke=\"black\" points=\"91,-324.5 91,-360.5 153,-360.5 153,-324.5 91,-324.5\"/>\r\n",
       "<text text-anchor=\"start\" x=\"99\" y=\"-343.8\" font-family=\"Times New Roman,serif\" font-size=\"14.00\">Product</text>\r\n",
       "<text text-anchor=\"start\" x=\"102.5\" y=\"-333.8\" font-family=\"Times New Roman,serif\" font-size=\"9.00\">PR 0.8413</text>\r\n",
       "</g>\r\n",
       "<!-- Home&#45;&gt;Product -->\r\n",
       "<g id=\"edge2\" class=\"edge\"><title>Home&#45;&gt;Product</title>\r\n",
       "<path fill=\"none\" stroke=\"black\" d=\"M55.2548,-289.404C67.8271,-297.603 82.7518,-308.272 95.2011,-317.967\"/>\r\n",
       "<polygon fill=\"black\" stroke=\"black\" points=\"93.3653,-320.979 103.365,-324.48 97.731,-315.508 93.3653,-320.979\"/>\r\n",
       "</g>\r\n",
       "<!-- Links -->\r\n",
       "<g id=\"node4\" class=\"node\"><title>Links</title>\r\n",
       "<polygon fill=\"none\" stroke=\"black\" points=\"94.5,-192.5 94.5,-228.5 149.5,-228.5 149.5,-192.5 94.5,-192.5\"/>\r\n",
       "<text text-anchor=\"start\" x=\"106.5\" y=\"-211.8\" font-family=\"Times New Roman,serif\" font-size=\"14.00\">Links</text>\r\n",
       "<text text-anchor=\"start\" x=\"102.5\" y=\"-201.8\" font-family=\"Times New Roman,serif\" font-size=\"9.00\">PR 0.8413</text>\r\n",
       "</g>\r\n",
       "<!-- Home&#45;&gt;Links -->\r\n",
       "<g id=\"edge3\" class=\"edge\"><title>Home&#45;&gt;Links</title>\r\n",
       "<path fill=\"none\" stroke=\"black\" d=\"M46.3349,-258.317C57.532,-249.148 72.3568,-238.199 85.844,-229.01\"/>\r\n",
       "<polygon fill=\"black\" stroke=\"black\" points=\"88.0845,-231.723 94.4622,-223.262 84.2007,-225.899 88.0845,-231.723\"/>\r\n",
       "</g>\r\n",
       "<!-- About&#45;&gt;Home -->\r\n",
       "<g id=\"edge4\" class=\"edge\"><title>About&#45;&gt;Home</title>\r\n",
       "<path fill=\"none\" stroke=\"black\" d=\"M94.4499,-383.296C93.256,-382.044 92.0992,-380.773 91,-379.5 70.6918,-355.986 51.5668,-325.545 39.9482,-303.637\"/>\r\n",
       "<polygon fill=\"black\" stroke=\"black\" points=\"42.9622,-301.843 35.3038,-294.522 36.7252,-305.021 42.9622,-301.843\"/>\r\n",
       "</g>\r\n",
       "<!-- Product&#45;&gt;Home -->\r\n",
       "<g id=\"edge5\" class=\"edge\"><title>Product&#45;&gt;Home</title>\r\n",
       "<path fill=\"none\" stroke=\"black\" d=\"M90.84,-327.353C79.0015,-319.483 65.5562,-309.805 54.1906,-300.949\"/>\r\n",
       "<polygon fill=\"black\" stroke=\"black\" points=\"56.3353,-298.183 46.3349,-294.683 51.9705,-303.655 56.3353,-298.183\"/>\r\n",
       "</g>\r\n",
       "<!-- Links&#45;&gt;Home -->\r\n",
       "<g id=\"edge6\" class=\"edge\"><title>Links&#45;&gt;Home</title>\r\n",
       "<path fill=\"none\" stroke=\"black\" d=\"M103.365,-228.52C92.2091,-237.668 77.3942,-248.621 63.889,-257.831\"/>\r\n",
       "<polygon fill=\"black\" stroke=\"black\" points=\"61.628,-255.132 55.2548,-263.596 65.515,-260.954 61.628,-255.132\"/>\r\n",
       "</g>\r\n",
       "<!-- Review_A -->\r\n",
       "<g id=\"node5\" class=\"node\"><title>Review_A</title>\r\n",
       "<polygon fill=\"none\" stroke=\"black\" points=\"207,-385.5 207,-421.5 278,-421.5 278,-385.5 207,-385.5\"/>\r\n",
       "<text text-anchor=\"start\" x=\"215\" y=\"-404.8\" font-family=\"Times New Roman,serif\" font-size=\"14.00\">Review A</text>\r\n",
       "<text text-anchor=\"start\" x=\"223\" y=\"-394.8\" font-family=\"Times New Roman,serif\" font-size=\"9.00\">PR 0.2295</text>\r\n",
       "</g>\r\n",
       "<!-- Links&#45;&gt;Review_A -->\r\n",
       "<g id=\"edge11\" class=\"edge\"><title>Links&#45;&gt;Review_A</title>\r\n",
       "<path fill=\"none\" stroke=\"black\" d=\"M130.833,-228.516C136.999,-242.821 145.735,-263.364 153,-281.5 169.79,-323.414 158.923,-342.824 189,-376.5 191.688,-379.51 194.792,-382.233 198.119,-384.685\"/>\r\n",
       "<polygon fill=\"black\" stroke=\"black\" points=\"196.438,-387.766 206.741,-390.236 200.227,-381.88 196.438,-387.766\"/>\r\n",
       "</g>\r\n",
       "<!-- Review_B -->\r\n",
       "<g id=\"node6\" class=\"node\"><title>Review_B</title>\r\n",
       "<polygon fill=\"none\" stroke=\"black\" points=\"207,-330.5 207,-366.5 278,-366.5 278,-330.5 207,-330.5\"/>\r\n",
       "<text text-anchor=\"start\" x=\"215\" y=\"-349.8\" font-family=\"Times New Roman,serif\" font-size=\"14.00\">Review B</text>\r\n",
       "<text text-anchor=\"start\" x=\"223\" y=\"-339.8\" font-family=\"Times New Roman,serif\" font-size=\"9.00\">PR 0.2295</text>\r\n",
       "</g>\r\n",
       "<!-- Links&#45;&gt;Review_B -->\r\n",
       "<g id=\"edge12\" class=\"edge\"><title>Links&#45;&gt;Review_B</title>\r\n",
       "<path fill=\"none\" stroke=\"black\" d=\"M141.191,-228.524C145.366,-233.177 149.579,-238.336 153,-243.5 174.087,-275.329 162.583,-293.933 189,-321.5 191.753,-324.373 194.879,-326.996 198.201,-329.378\"/>\r\n",
       "<polygon fill=\"black\" stroke=\"black\" points=\"196.444,-332.408 206.763,-334.81 200.194,-326.497 196.444,-332.408\"/>\r\n",
       "</g>\r\n",
       "<!-- Review_C -->\r\n",
       "<g id=\"node7\" class=\"node\"><title>Review_C</title>\r\n",
       "<polygon fill=\"none\" stroke=\"black\" points=\"207,-55.5 207,-91.5 278,-91.5 278,-55.5 207,-55.5\"/>\r\n",
       "<text text-anchor=\"start\" x=\"215\" y=\"-74.8\" font-family=\"Times New Roman,serif\" font-size=\"14.00\">Review C</text>\r\n",
       "<text text-anchor=\"start\" x=\"223\" y=\"-64.8\" font-family=\"Times New Roman,serif\" font-size=\"9.00\">PR 0.2295</text>\r\n",
       "</g>\r\n",
       "<!-- Links&#45;&gt;Review_C -->\r\n",
       "<g id=\"edge13\" class=\"edge\"><title>Links&#45;&gt;Review_C</title>\r\n",
       "<path fill=\"none\" stroke=\"black\" d=\"M130.098,-192.433C140.158,-168.763 160.555,-127.143 189,-100.5 191.864,-97.8178 195.045,-95.3341 198.384,-93.0494\"/>\r\n",
       "<polygon fill=\"black\" stroke=\"black\" points=\"200.25,-96.0108 206.922,-87.7805 196.574,-90.0539 200.25,-96.0108\"/>\r\n",
       "</g>\r\n",
       "<!-- Review_D -->\r\n",
       "<g id=\"node8\" class=\"node\"><title>Review_D</title>\r\n",
       "<polygon fill=\"none\" stroke=\"black\" points=\"207,-0.5 207,-36.5 278,-36.5 278,-0.5 207,-0.5\"/>\r\n",
       "<text text-anchor=\"start\" x=\"215\" y=\"-19.8\" font-family=\"Times New Roman,serif\" font-size=\"14.00\">Review D</text>\r\n",
       "<text text-anchor=\"start\" x=\"223\" y=\"-9.8\" font-family=\"Times New Roman,serif\" font-size=\"9.00\">PR 0.2295</text>\r\n",
       "</g>\r\n",
       "<!-- Links&#45;&gt;Review_D -->\r\n",
       "<g id=\"edge14\" class=\"edge\"><title>Links&#45;&gt;Review_D</title>\r\n",
       "<path fill=\"none\" stroke=\"black\" d=\"M125.935,-192.42C132.124,-159.484 149.346,-89.0903 189,-45.5 191.716,-42.5147 194.838,-39.8091 198.178,-37.3676\"/>\r\n",
       "<polygon fill=\"black\" stroke=\"black\" points=\"200.285,-40.1744 206.819,-31.8341 196.51,-34.2795 200.285,-40.1744\"/>\r\n",
       "</g>\r\n",
       "<!-- External_Site_A -->\r\n",
       "<g id=\"node9\" class=\"node\"><title>External_Site_A</title>\r\n",
       "<polygon fill=\"none\" stroke=\"black\" points=\"189,-275.5 189,-311.5 296,-311.5 296,-275.5 189,-275.5\"/>\r\n",
       "<text text-anchor=\"middle\" x=\"242.5\" y=\"-289.8\" font-family=\"Times New Roman,serif\" font-size=\"14.00\">External_Site_A</text>\r\n",
       "</g>\r\n",
       "<!-- Links&#45;&gt;External_Site_A -->\r\n",
       "<g id=\"edge7\" class=\"edge\"><title>Links&#45;&gt;External_Site_A</title>\r\n",
       "<path fill=\"none\" stroke=\"black\" d=\"M141.993,-228.649C154.704,-240.268 172.135,-255.225 189,-266.5 190.904,-267.773 192.875,-269.029 194.888,-270.262\"/>\r\n",
       "<polygon fill=\"black\" stroke=\"black\" points=\"193.491,-273.498 203.895,-275.498 197.009,-267.446 193.491,-273.498\"/>\r\n",
       "</g>\r\n",
       "<!-- External_Site_B -->\r\n",
       "<g id=\"node10\" class=\"node\"><title>External_Site_B</title>\r\n",
       "<polygon fill=\"none\" stroke=\"black\" points=\"189,-220.5 189,-256.5 296,-256.5 296,-220.5 189,-220.5\"/>\r\n",
       "<text text-anchor=\"middle\" x=\"242.5\" y=\"-234.8\" font-family=\"Times New Roman,serif\" font-size=\"14.00\">External_Site_B</text>\r\n",
       "</g>\r\n",
       "<!-- Links&#45;&gt;External_Site_B -->\r\n",
       "<g id=\"edge8\" class=\"edge\"><title>Links&#45;&gt;External_Site_B</title>\r\n",
       "<path fill=\"none\" stroke=\"black\" d=\"M149.594,-216.784C158.385,-218.861 168.57,-221.268 178.892,-223.707\"/>\r\n",
       "<polygon fill=\"black\" stroke=\"black\" points=\"178.253,-227.152 188.79,-226.045 179.862,-220.339 178.253,-227.152\"/>\r\n",
       "</g>\r\n",
       "<!-- External_Site_C -->\r\n",
       "<g id=\"node11\" class=\"node\"><title>External_Site_C</title>\r\n",
       "<polygon fill=\"none\" stroke=\"black\" points=\"189,-165.5 189,-201.5 296,-201.5 296,-165.5 189,-165.5\"/>\r\n",
       "<text text-anchor=\"middle\" x=\"242.5\" y=\"-179.8\" font-family=\"Times New Roman,serif\" font-size=\"14.00\">External_Site_C</text>\r\n",
       "</g>\r\n",
       "<!-- Links&#45;&gt;External_Site_C -->\r\n",
       "<g id=\"edge9\" class=\"edge\"><title>Links&#45;&gt;External_Site_C</title>\r\n",
       "<path fill=\"none\" stroke=\"black\" d=\"M149.594,-204.441C158.385,-202.438 168.57,-200.117 178.892,-197.765\"/>\r\n",
       "<polygon fill=\"black\" stroke=\"black\" points=\"179.817,-201.144 188.79,-195.51 178.262,-194.319 179.817,-201.144\"/>\r\n",
       "</g>\r\n",
       "<!-- External_Site_D -->\r\n",
       "<g id=\"node12\" class=\"node\"><title>External_Site_D</title>\r\n",
       "<polygon fill=\"none\" stroke=\"black\" points=\"189,-110.5 189,-146.5 296,-146.5 296,-110.5 189,-110.5\"/>\r\n",
       "<text text-anchor=\"middle\" x=\"242.5\" y=\"-124.8\" font-family=\"Times New Roman,serif\" font-size=\"14.00\">External_Site_D</text>\r\n",
       "</g>\r\n",
       "<!-- Links&#45;&gt;External_Site_D -->\r\n",
       "<g id=\"edge10\" class=\"edge\"><title>Links&#45;&gt;External_Site_D</title>\r\n",
       "<path fill=\"none\" stroke=\"black\" d=\"M142.327,-192.45C155.034,-181.087 172.336,-166.535 189,-155.5 190.909,-154.236 192.885,-152.986 194.902,-151.759\"/>\r\n",
       "<polygon fill=\"black\" stroke=\"black\" points=\"197.018,-154.578 203.921,-146.541 193.513,-148.519 197.018,-154.578\"/>\r\n",
       "</g>\r\n",
       "<!-- Review_A&#45;&gt;Home -->\r\n",
       "<g id=\"edge15\" class=\"edge\"><title>Review_A&#45;&gt;Home</title>\r\n",
       "<path fill=\"none\" stroke=\"black\" d=\"M206.894,-389.25C200.508,-385.673 194.218,-381.424 189,-376.5 166.102,-354.896 177.663,-335.064 153,-315.5 127.7,-295.431 91.9642,-285.619 65.2641,-280.865\"/>\r\n",
       "<polygon fill=\"black\" stroke=\"black\" points=\"65.5857,-277.371 55.1545,-279.226 64.4658,-284.281 65.5857,-277.371\"/>\r\n",
       "</g>\r\n",
       "<!-- Review_B&#45;&gt;Home -->\r\n",
       "<g id=\"edge16\" class=\"edge\"><title>Review_B&#45;&gt;Home</title>\r\n",
       "<path fill=\"none\" stroke=\"black\" d=\"M206.801,-332.934C200.628,-329.538 194.44,-325.691 189,-321.5 170.054,-306.902 174.649,-291.667 153,-281.5 125.637,-268.65 91.0488,-268.339 65.277,-270.707\"/>\r\n",
       "<polygon fill=\"black\" stroke=\"black\" points=\"64.729,-267.246 55.1688,-271.812 65.49,-274.204 64.729,-267.246\"/>\r\n",
       "</g>\r\n",
       "<!-- Review_C&#45;&gt;Home -->\r\n",
       "<g id=\"edge17\" class=\"edge\"><title>Review_C&#45;&gt;Home</title>\r\n",
       "<path fill=\"none\" stroke=\"black\" d=\"M206.984,-89.8605C200.856,-93.1533 194.636,-96.7597 189,-100.5 141.68,-131.902 128.89,-140.196 91,-182.5 72.3758,-203.294 55.1274,-230.05 43.4897,-249.695\"/>\r\n",
       "<polygon fill=\"black\" stroke=\"black\" points=\"40.4043,-248.039 38.3995,-258.442 46.4544,-251.559 40.4043,-248.039\"/>\r\n",
       "</g>\r\n",
       "<!-- Review_D&#45;&gt;Home -->\r\n",
       "<g id=\"edge18\" class=\"edge\"><title>Review_D&#45;&gt;Home</title>\r\n",
       "<path fill=\"none\" stroke=\"black\" d=\"M206.767,-34.0404C172.699,-50.9555 121.546,-81.0866 91,-121.5 61.4787,-160.558 43.7208,-215.468 35.0447,-248.364\"/>\r\n",
       "<polygon fill=\"black\" stroke=\"black\" points=\"31.6101,-247.669 32.5435,-258.223 38.3952,-249.39 31.6101,-247.669\"/>\r\n",
       "</g>\r\n",
       "</g>\r\n",
       "</svg>\r\n"
      ],
      "text/plain": [
       "<graphviz.files.Source at 0x2a5107d34e0>"
      ]
     },
     "execution_count": 29,
     "metadata": {},
     "output_type": "execute_result"
    }
   ],
   "source": [
    "pages = {\n",
    "    \"Home\": [\"About\", \"Product\", \"Links\"],\n",
    "    \"About\": [\"Home\"],\n",
    "    \"Product\": [\"Home\"],\n",
    "    \"Links\": [\"Home\",\n",
    "              \"External Site A\", \"External Site B\", \n",
    "              \"External Site C\", \"External Site D\",\n",
    "              \"Review A\", \"Review B\", \"Review C\", \"Review D\"],\n",
    "    \"Review A\": [\"Home\"],\n",
    "    \"Review B\": [\"Home\"],\n",
    "    \"Review C\": [\"Home\"],\n",
    "    \"Review D\": [\"Home\"]\n",
    "}\n",
    "\n",
    "pr = PageRank(pages, initial_guess=1)\n",
    "pr.calculate(20, report=True, report_every=20, rep_function=report)\n",
    "print(\"Average PR: %.3f\" % pr.get_avg())\n",
    "pr.get_digraph(show_pr=True)"
   ]
  },
  {
   "cell_type": "markdown",
   "metadata": {},
   "source": [
    "### Example 5  \n",
    "A simple hierarchy  "
   ]
  },
  {
   "cell_type": "code",
   "execution_count": 30,
   "metadata": {},
   "outputs": [
    {
     "name": "stdout",
     "output_type": "stream",
     "text": [
      "Iteration 20\n",
      "\tAbout: 0.693152\n",
      "\tMore: 0.693152\n",
      "\tProduct: 0.693152\n",
      "\tHome: 1.917538\n",
      "Average PR: 0.999\n"
     ]
    },
    {
     "data": {
      "image/svg+xml": [
       "<?xml version=\"1.0\" encoding=\"UTF-8\" standalone=\"no\"?>\r\n",
       "<!DOCTYPE svg PUBLIC \"-//W3C//DTD SVG 1.1//EN\"\r\n",
       " \"http://www.w3.org/Graphics/SVG/1.1/DTD/svg11.dtd\">\r\n",
       "<!-- Generated by graphviz version 2.38.0 (20140413.2041)\r\n",
       " -->\r\n",
       "<!-- Title: G Pages: 1 -->\r\n",
       "<svg width=\"161pt\" height=\"155pt\"\r\n",
       " viewBox=\"0.00 0.00 161.00 155.00\" xmlns=\"http://www.w3.org/2000/svg\" xmlns:xlink=\"http://www.w3.org/1999/xlink\">\r\n",
       "<g id=\"graph0\" class=\"graph\" transform=\"scale(1 1) rotate(0) translate(4 151)\">\r\n",
       "<title>G</title>\r\n",
       "<polygon fill=\"white\" stroke=\"none\" points=\"-4,4 -4,-151 157,-151 157,4 -4,4\"/>\r\n",
       "<!-- Home -->\r\n",
       "<g id=\"node1\" class=\"node\"><title>Home</title>\r\n",
       "<polygon fill=\"none\" stroke=\"black\" points=\"0,-55.5 0,-91.5 55,-91.5 55,-55.5 0,-55.5\"/>\r\n",
       "<text text-anchor=\"start\" x=\"10.5\" y=\"-74.8\" font-family=\"Times New Roman,serif\" font-size=\"14.00\">Home</text>\r\n",
       "<text text-anchor=\"start\" x=\"8\" y=\"-64.8\" font-family=\"Times New Roman,serif\" font-size=\"9.00\">PR 1.9175</text>\r\n",
       "</g>\r\n",
       "<!-- About -->\r\n",
       "<g id=\"node2\" class=\"node\"><title>About</title>\r\n",
       "<polygon fill=\"none\" stroke=\"black\" points=\"94.5,-110.5 94.5,-146.5 149.5,-146.5 149.5,-110.5 94.5,-110.5\"/>\r\n",
       "<text text-anchor=\"start\" x=\"104\" y=\"-129.8\" font-family=\"Times New Roman,serif\" font-size=\"14.00\">About</text>\r\n",
       "<text text-anchor=\"start\" x=\"102.5\" y=\"-119.8\" font-family=\"Times New Roman,serif\" font-size=\"9.00\">PR 0.6932</text>\r\n",
       "</g>\r\n",
       "<!-- Home&#45;&gt;About -->\r\n",
       "<g id=\"edge1\" class=\"edge\"><title>Home&#45;&gt;About</title>\r\n",
       "<path fill=\"none\" stroke=\"black\" d=\"M55.2548,-83.2223C66.6499,-89.2983 79.9775,-97.1739 91.6429,-104.712\"/>\r\n",
       "<polygon fill=\"black\" stroke=\"black\" points=\"89.9119,-107.763 100.18,-110.375 93.7814,-101.93 89.9119,-107.763\"/>\r\n",
       "</g>\r\n",
       "<!-- Product -->\r\n",
       "<g id=\"node3\" class=\"node\"><title>Product</title>\r\n",
       "<polygon fill=\"none\" stroke=\"black\" points=\"91,-55.5 91,-91.5 153,-91.5 153,-55.5 91,-55.5\"/>\r\n",
       "<text text-anchor=\"start\" x=\"99\" y=\"-74.8\" font-family=\"Times New Roman,serif\" font-size=\"14.00\">Product</text>\r\n",
       "<text text-anchor=\"start\" x=\"102.5\" y=\"-64.8\" font-family=\"Times New Roman,serif\" font-size=\"9.00\">PR 0.6932</text>\r\n",
       "</g>\r\n",
       "<!-- Home&#45;&gt;Product -->\r\n",
       "<g id=\"edge2\" class=\"edge\"><title>Home&#45;&gt;Product</title>\r\n",
       "<path fill=\"none\" stroke=\"black\" d=\"M55.2548,-67.314C63.145,-66.8297 71.9617,-66.6573 80.5116,-66.7968\"/>\r\n",
       "<polygon fill=\"black\" stroke=\"black\" points=\"80.6219,-70.302 90.728,-67.1216 80.8443,-63.3055 80.6219,-70.302\"/>\r\n",
       "</g>\r\n",
       "<!-- More -->\r\n",
       "<g id=\"node4\" class=\"node\"><title>More</title>\r\n",
       "<polygon fill=\"none\" stroke=\"black\" points=\"94.5,-0.5 94.5,-36.5 149.5,-36.5 149.5,-0.5 94.5,-0.5\"/>\r\n",
       "<text text-anchor=\"start\" x=\"106.5\" y=\"-19.8\" font-family=\"Times New Roman,serif\" font-size=\"14.00\">More</text>\r\n",
       "<text text-anchor=\"start\" x=\"102.5\" y=\"-9.8\" font-family=\"Times New Roman,serif\" font-size=\"9.00\">PR 0.6932</text>\r\n",
       "</g>\r\n",
       "<!-- Home&#45;&gt;More -->\r\n",
       "<g id=\"edge3\" class=\"edge\"><title>Home&#45;&gt;More</title>\r\n",
       "<path fill=\"none\" stroke=\"black\" d=\"M49.4897,-55.2588C60.1087,-48.0179 73.2906,-39.9046 85.4332,-33.0605\"/>\r\n",
       "<polygon fill=\"black\" stroke=\"black\" points=\"87.3729,-35.9885 94.4564,-28.1097 84.0057,-29.8515 87.3729,-35.9885\"/>\r\n",
       "</g>\r\n",
       "<!-- About&#45;&gt;Home -->\r\n",
       "<g id=\"edge4\" class=\"edge\"><title>About&#45;&gt;Home</title>\r\n",
       "<path fill=\"none\" stroke=\"black\" d=\"M94.4564,-118.89C83.0777,-112.832 69.7416,-104.959 58.05,-97.4129\"/>\r\n",
       "<polygon fill=\"black\" stroke=\"black\" points=\"59.7591,-94.3468 49.4897,-91.7412 55.8928,-100.182 59.7591,-94.3468\"/>\r\n",
       "</g>\r\n",
       "<!-- Product&#45;&gt;Home -->\r\n",
       "<g id=\"edge5\" class=\"edge\"><title>Product&#45;&gt;Home</title>\r\n",
       "<path fill=\"none\" stroke=\"black\" d=\"M90.728,-79.8784C82.5924,-80.2715 73.7047,-80.3527 65.2584,-80.122\"/>\r\n",
       "<polygon fill=\"black\" stroke=\"black\" points=\"65.3978,-76.6249 55.2548,-79.686 65.0929,-83.6182 65.3978,-76.6249\"/>\r\n",
       "</g>\r\n",
       "<!-- More&#45;&gt;Home -->\r\n",
       "<g id=\"edge6\" class=\"edge\"><title>More&#45;&gt;Home</title>\r\n",
       "<path fill=\"none\" stroke=\"black\" d=\"M100.18,-36.6254C89.5955,-43.8521 76.4326,-51.9614 64.2859,-58.816\"/>\r\n",
       "<polygon fill=\"black\" stroke=\"black\" points=\"62.3338,-55.8949 55.2548,-63.7777 65.7045,-62.03 62.3338,-55.8949\"/>\r\n",
       "</g>\r\n",
       "</g>\r\n",
       "</svg>\r\n"
      ],
      "text/plain": [
       "<graphviz.files.Source at 0x2a5107b77f0>"
      ]
     },
     "execution_count": 30,
     "metadata": {},
     "output_type": "execute_result"
    }
   ],
   "source": [
    "pages = {\n",
    "    \"Home\": [\"About\", \"Product\", \"More\"],\n",
    "    \"About\": [\"Home\"],\n",
    "    \"Product\": [\"Home\"],\n",
    "    \"More\": [\"Home\"]\n",
    "}\n",
    "\n",
    "pr = PageRank(pages, initial_guess=1)\n",
    "pr.calculate(20, report=True, report_every=20, rep_function=report)\n",
    "print(\"Average PR: %.3f\" % pr.get_avg())\n",
    "pr.get_digraph(show_pr=True)"
   ]
  },
  {
   "cell_type": "markdown",
   "metadata": {},
   "source": [
    "Our home page has 2 and a half times as much PR as the child pages! Excellent!\n",
    "\n",
    " - **Observation**: a hierarchy concentrates votes and PR into one page"
   ]
  },
  {
   "cell_type": "markdown",
   "metadata": {},
   "source": [
    "### Example 6  \n",
    "Looping"
   ]
  },
  {
   "cell_type": "code",
   "execution_count": 31,
   "metadata": {},
   "outputs": [
    {
     "name": "stdout",
     "output_type": "stream",
     "text": [
      "Iteration 20\n",
      "\tAbout: 1.000000\n",
      "\tMore: 1.000000\n",
      "\tProduct: 1.000000\n",
      "\tHome: 1.000000\n",
      "Average PR: 1.000\n"
     ]
    },
    {
     "data": {
      "image/svg+xml": [
       "<?xml version=\"1.0\" encoding=\"UTF-8\" standalone=\"no\"?>\r\n",
       "<!DOCTYPE svg PUBLIC \"-//W3C//DTD SVG 1.1//EN\"\r\n",
       " \"http://www.w3.org/Graphics/SVG/1.1/DTD/svg11.dtd\">\r\n",
       "<!-- Generated by graphviz version 2.38.0 (20140413.2041)\r\n",
       " -->\r\n",
       "<!-- Title: G Pages: 1 -->\r\n",
       "<svg width=\"343pt\" height=\"69pt\"\r\n",
       " viewBox=\"0.00 0.00 343.00 69.00\" xmlns=\"http://www.w3.org/2000/svg\" xmlns:xlink=\"http://www.w3.org/1999/xlink\">\r\n",
       "<g id=\"graph0\" class=\"graph\" transform=\"scale(1 1) rotate(0) translate(4 65)\">\r\n",
       "<title>G</title>\r\n",
       "<polygon fill=\"white\" stroke=\"none\" points=\"-4,4 -4,-65 339,-65 339,4 -4,4\"/>\r\n",
       "<!-- Home -->\r\n",
       "<g id=\"node1\" class=\"node\"><title>Home</title>\r\n",
       "<polygon fill=\"none\" stroke=\"black\" points=\"0,-0.5 0,-36.5 55,-36.5 55,-0.5 0,-0.5\"/>\r\n",
       "<text text-anchor=\"start\" x=\"10.5\" y=\"-19.8\" font-family=\"Times New Roman,serif\" font-size=\"14.00\">Home</text>\r\n",
       "<text text-anchor=\"start\" x=\"8\" y=\"-9.8\" font-family=\"Times New Roman,serif\" font-size=\"9.00\">PR 1.0000</text>\r\n",
       "</g>\r\n",
       "<!-- About -->\r\n",
       "<g id=\"node2\" class=\"node\"><title>About</title>\r\n",
       "<polygon fill=\"none\" stroke=\"black\" points=\"91,-24.5 91,-60.5 146,-60.5 146,-24.5 91,-24.5\"/>\r\n",
       "<text text-anchor=\"start\" x=\"100.5\" y=\"-43.8\" font-family=\"Times New Roman,serif\" font-size=\"14.00\">About</text>\r\n",
       "<text text-anchor=\"start\" x=\"99\" y=\"-33.8\" font-family=\"Times New Roman,serif\" font-size=\"9.00\">PR 1.0000</text>\r\n",
       "</g>\r\n",
       "<!-- Home&#45;&gt;About -->\r\n",
       "<g id=\"edge1\" class=\"edge\"><title>Home&#45;&gt;About</title>\r\n",
       "<path fill=\"none\" stroke=\"black\" d=\"M55.2029,-25.7008C63.2993,-27.8841 72.3367,-30.3211 80.9616,-32.6469\"/>\r\n",
       "<polygon fill=\"black\" stroke=\"black\" points=\"80.2495,-36.0799 90.8159,-35.3043 82.0721,-29.3213 80.2495,-36.0799\"/>\r\n",
       "</g>\r\n",
       "<!-- Product -->\r\n",
       "<g id=\"node3\" class=\"node\"><title>Product</title>\r\n",
       "<polygon fill=\"none\" stroke=\"black\" points=\"182,-24.5 182,-60.5 244,-60.5 244,-24.5 182,-24.5\"/>\r\n",
       "<text text-anchor=\"start\" x=\"190\" y=\"-43.8\" font-family=\"Times New Roman,serif\" font-size=\"14.00\">Product</text>\r\n",
       "<text text-anchor=\"start\" x=\"193.5\" y=\"-33.8\" font-family=\"Times New Roman,serif\" font-size=\"9.00\">PR 1.0000</text>\r\n",
       "</g>\r\n",
       "<!-- About&#45;&gt;Product -->\r\n",
       "<g id=\"edge2\" class=\"edge\"><title>About&#45;&gt;Product</title>\r\n",
       "<path fill=\"none\" stroke=\"black\" d=\"M146.255,-42.5C154.145,-42.5 162.962,-42.5 171.512,-42.5\"/>\r\n",
       "<polygon fill=\"black\" stroke=\"black\" points=\"171.728,-46.0001 181.728,-42.5 171.728,-39.0001 171.728,-46.0001\"/>\r\n",
       "</g>\r\n",
       "<!-- More -->\r\n",
       "<g id=\"node4\" class=\"node\"><title>More</title>\r\n",
       "<polygon fill=\"none\" stroke=\"black\" points=\"280,-0.5 280,-36.5 335,-36.5 335,-0.5 280,-0.5\"/>\r\n",
       "<text text-anchor=\"start\" x=\"292\" y=\"-19.8\" font-family=\"Times New Roman,serif\" font-size=\"14.00\">More</text>\r\n",
       "<text text-anchor=\"start\" x=\"288\" y=\"-9.8\" font-family=\"Times New Roman,serif\" font-size=\"9.00\">PR 1.0000</text>\r\n",
       "</g>\r\n",
       "<!-- Product&#45;&gt;More -->\r\n",
       "<g id=\"edge3\" class=\"edge\"><title>Product&#45;&gt;More</title>\r\n",
       "<path fill=\"none\" stroke=\"black\" d=\"M244.032,-34.7079C252.298,-32.5633 261.355,-30.2134 269.945,-27.9846\"/>\r\n",
       "<polygon fill=\"black\" stroke=\"black\" points=\"270.938,-31.3429 279.738,-25.4436 269.18,-24.5672 270.938,-31.3429\"/>\r\n",
       "</g>\r\n",
       "<!-- More&#45;&gt;Home -->\r\n",
       "<g id=\"edge4\" class=\"edge\"><title>More&#45;&gt;Home</title>\r\n",
       "<path fill=\"none\" stroke=\"black\" d=\"M279.754,-16.4113C268.694,-15.6457 255.737,-14.8752 244,-14.5 176.035,-12.3273 158.965,-12.3273 91,-14.5 82.6559,-14.7667 73.6948,-15.2333 65.2374,-15.7558\"/>\r\n",
       "<polygon fill=\"black\" stroke=\"black\" points=\"64.9958,-12.2641 55.2464,-16.4113 65.4541,-19.249 64.9958,-12.2641\"/>\r\n",
       "</g>\r\n",
       "</g>\r\n",
       "</svg>\r\n"
      ],
      "text/plain": [
       "<graphviz.files.Source at 0x2a5107b7a58>"
      ]
     },
     "execution_count": 31,
     "metadata": {},
     "output_type": "execute_result"
    }
   ],
   "source": [
    "pages = {\n",
    "    \"Home\": [\"About\"],\n",
    "    \"About\": [\"Product\"],\n",
    "    \"Product\": [\"More\"],\n",
    "    \"More\": [\"Home\"]\n",
    "}\n",
    "\n",
    "pr = PageRank(pages, initial_guess=1)\n",
    "pr.calculate(20, report=True, report_every=20, rep_function=report)\n",
    "print(\"Average PR: %.3f\" % pr.get_avg())\n",
    "pr.get_digraph(show_pr=True)"
   ]
  },
  {
   "cell_type": "markdown",
   "metadata": {},
   "source": [
    "This is what we’d expect. All the pages have the same number of incoming links, all pages are of equal importance to each other, all pages get the same PR of 1.0 (i.e. the “average” probability)."
   ]
  },
  {
   "cell_type": "markdown",
   "metadata": {},
   "source": [
    "### Example 7  \n",
    "Extensive Interlinking – or Fully Meshed"
   ]
  },
  {
   "cell_type": "code",
   "execution_count": 32,
   "metadata": {},
   "outputs": [
    {
     "name": "stdout",
     "output_type": "stream",
     "text": [
      "Iteration 20\n",
      "\tAbout: 1.000000\n",
      "\tMore: 1.000000\n",
      "\tProduct: 1.000000\n",
      "\tHome: 1.000000\n",
      "Average PR: 1.000\n"
     ]
    },
    {
     "data": {
      "image/svg+xml": [
       "<?xml version=\"1.0\" encoding=\"UTF-8\" standalone=\"no\"?>\r\n",
       "<!DOCTYPE svg PUBLIC \"-//W3C//DTD SVG 1.1//EN\"\r\n",
       " \"http://www.w3.org/Graphics/SVG/1.1/DTD/svg11.dtd\">\r\n",
       "<!-- Generated by graphviz version 2.38.0 (20140413.2041)\r\n",
       " -->\r\n",
       "<!-- Title: G Pages: 1 -->\r\n",
       "<svg width=\"343pt\" height=\"124pt\"\r\n",
       " viewBox=\"0.00 0.00 343.00 124.05\" xmlns=\"http://www.w3.org/2000/svg\" xmlns:xlink=\"http://www.w3.org/1999/xlink\">\r\n",
       "<g id=\"graph0\" class=\"graph\" transform=\"scale(1 1) rotate(0) translate(4 120.048)\">\r\n",
       "<title>G</title>\r\n",
       "<polygon fill=\"white\" stroke=\"none\" points=\"-4,4 -4,-120.048 339,-120.048 339,4 -4,4\"/>\r\n",
       "<!-- Home -->\r\n",
       "<g id=\"node1\" class=\"node\"><title>Home</title>\r\n",
       "<polygon fill=\"none\" stroke=\"black\" points=\"0,-23.5475 0,-59.5475 55,-59.5475 55,-23.5475 0,-23.5475\"/>\r\n",
       "<text text-anchor=\"start\" x=\"10.5\" y=\"-42.8475\" font-family=\"Times New Roman,serif\" font-size=\"14.00\">Home</text>\r\n",
       "<text text-anchor=\"start\" x=\"8\" y=\"-32.8475\" font-family=\"Times New Roman,serif\" font-size=\"9.00\">PR 1.0000</text>\r\n",
       "</g>\r\n",
       "<!-- About -->\r\n",
       "<g id=\"node2\" class=\"node\"><title>About</title>\r\n",
       "<polygon fill=\"none\" stroke=\"black\" points=\"91,-79.5475 91,-115.548 146,-115.548 146,-79.5475 91,-79.5475\"/>\r\n",
       "<text text-anchor=\"start\" x=\"100.5\" y=\"-98.8475\" font-family=\"Times New Roman,serif\" font-size=\"14.00\">About</text>\r\n",
       "<text text-anchor=\"start\" x=\"99\" y=\"-88.8475\" font-family=\"Times New Roman,serif\" font-size=\"9.00\">PR 1.0000</text>\r\n",
       "</g>\r\n",
       "<!-- Home&#45;&gt;About -->\r\n",
       "<g id=\"edge1\" class=\"edge\"><title>Home&#45;&gt;About</title>\r\n",
       "<path fill=\"none\" stroke=\"black\" d=\"M55.2029,-52.104C66.0306,-58.2698 78.5413,-66.1169 89.4977,-73.6085\"/>\r\n",
       "<polygon fill=\"black\" stroke=\"black\" points=\"87.6942,-76.6189 97.8894,-79.5015 91.7171,-70.8902 87.6942,-76.6189\"/>\r\n",
       "</g>\r\n",
       "<!-- Product -->\r\n",
       "<g id=\"node3\" class=\"node\"><title>Product</title>\r\n",
       "<polygon fill=\"none\" stroke=\"black\" points=\"273,-23.5475 273,-59.5475 335,-59.5475 335,-23.5475 273,-23.5475\"/>\r\n",
       "<text text-anchor=\"start\" x=\"281\" y=\"-42.8475\" font-family=\"Times New Roman,serif\" font-size=\"14.00\">Product</text>\r\n",
       "<text text-anchor=\"start\" x=\"284.5\" y=\"-32.8475\" font-family=\"Times New Roman,serif\" font-size=\"9.00\">PR 1.0000</text>\r\n",
       "</g>\r\n",
       "<!-- Home&#45;&gt;Product -->\r\n",
       "<g id=\"edge2\" class=\"edge\"><title>Home&#45;&gt;Product</title>\r\n",
       "<path fill=\"none\" stroke=\"black\" d=\"M55.0209,-26.5349C94.8149,-10.8259 172.219,8.6256 237,-4.54752 249.96,-7.18284 263.531,-12.4538 274.973,-18.3622\"/>\r\n",
       "<polygon fill=\"black\" stroke=\"black\" points=\"273.589,-21.5985 284.024,-23.4313 277.01,-15.4911 273.589,-21.5985\"/>\r\n",
       "</g>\r\n",
       "<!-- More -->\r\n",
       "<g id=\"node4\" class=\"node\"><title>More</title>\r\n",
       "<polygon fill=\"none\" stroke=\"black\" points=\"182,-23.5475 182,-59.5475 237,-59.5475 237,-23.5475 182,-23.5475\"/>\r\n",
       "<text text-anchor=\"start\" x=\"194\" y=\"-42.8475\" font-family=\"Times New Roman,serif\" font-size=\"14.00\">More</text>\r\n",
       "<text text-anchor=\"start\" x=\"190\" y=\"-32.8475\" font-family=\"Times New Roman,serif\" font-size=\"9.00\">PR 1.0000</text>\r\n",
       "</g>\r\n",
       "<!-- Home&#45;&gt;More -->\r\n",
       "<g id=\"edge3\" class=\"edge\"><title>Home&#45;&gt;More</title>\r\n",
       "<path fill=\"none\" stroke=\"black\" d=\"M55.0596,-36.5921C85.9011,-34.426 136.966,-34.2208 171.638,-35.9766\"/>\r\n",
       "<polygon fill=\"black\" stroke=\"black\" points=\"171.641,-39.4829 181.831,-36.5845 172.058,-32.4953 171.641,-39.4829\"/>\r\n",
       "</g>\r\n",
       "<!-- About&#45;&gt;Home -->\r\n",
       "<g id=\"edge5\" class=\"edge\"><title>About&#45;&gt;Home</title>\r\n",
       "<path fill=\"none\" stroke=\"black\" d=\"M90.7141,-86.9437C79.9404,-80.805 67.5112,-73.0094 56.6081,-65.5588\"/>\r\n",
       "<polygon fill=\"black\" stroke=\"black\" points=\"58.4483,-62.5744 48.252,-59.6958 54.4277,-68.3046 58.4483,-62.5744\"/>\r\n",
       "</g>\r\n",
       "<!-- About&#45;&gt;Product -->\r\n",
       "<g id=\"edge4\" class=\"edge\"><title>About&#45;&gt;Product</title>\r\n",
       "<path fill=\"none\" stroke=\"black\" d=\"M146.414,-85.0019C170.435,-77.9242 206.436,-69.5118 237,-59.5475 245.637,-56.7316 254.746,-53.3115 263.346,-50.077\"/>\r\n",
       "<polygon fill=\"black\" stroke=\"black\" points=\"264.647,-53.3272 272.788,-46.546 262.195,-46.7707 264.647,-53.3272\"/>\r\n",
       "</g>\r\n",
       "<!-- About&#45;&gt;More -->\r\n",
       "<g id=\"edge6\" class=\"edge\"><title>About&#45;&gt;More</title>\r\n",
       "<path fill=\"none\" stroke=\"black\" d=\"M139.252,-79.3993C149.112,-72.2762 161.348,-64.2729 172.78,-57.3914\"/>\r\n",
       "<polygon fill=\"black\" stroke=\"black\" points=\"174.859,-60.2295 181.714,-52.1513 171.318,-54.1914 174.859,-60.2295\"/>\r\n",
       "</g>\r\n",
       "<!-- Product&#45;&gt;Home -->\r\n",
       "<g id=\"edge8\" class=\"edge\"><title>Product&#45;&gt;Home</title>\r\n",
       "<path fill=\"none\" stroke=\"black\" d=\"M272.932,-34.2537C261.936,-29.8428 249.197,-25.0278 237,-22.5475 177.28,-10.4036 106.832,-25.9857 65.0123,-35.8176\"/>\r\n",
       "<polygon fill=\"black\" stroke=\"black\" points=\"63.951,-32.4718 55.0209,-38.173 65.5572,-39.285 63.951,-32.4718\"/>\r\n",
       "</g>\r\n",
       "<!-- Product&#45;&gt;About -->\r\n",
       "<g id=\"edge9\" class=\"edge\"><title>Product&#45;&gt;About</title>\r\n",
       "<path fill=\"none\" stroke=\"black\" d=\"M280.7,-59.5504C268.051,-66.0963 251.831,-72.7126 237,-77.5475 210.495,-86.1884 179.902,-93.6623 156.578,-97.6049\"/>\r\n",
       "<polygon fill=\"black\" stroke=\"black\" points=\"155.77,-94.1877 146.414,-99.1593 156.828,-101.107 155.77,-94.1877\"/>\r\n",
       "</g>\r\n",
       "<!-- Product&#45;&gt;More -->\r\n",
       "<g id=\"edge7\" class=\"edge\"><title>Product&#45;&gt;More</title>\r\n",
       "<path fill=\"none\" stroke=\"black\" d=\"M272.728,-47.926C264.592,-48.319 255.705,-48.4002 247.258,-48.1696\"/>\r\n",
       "<polygon fill=\"black\" stroke=\"black\" points=\"247.398,-44.6724 237.255,-47.7335 247.093,-51.6658 247.398,-44.6724\"/>\r\n",
       "</g>\r\n",
       "<!-- More&#45;&gt;Home -->\r\n",
       "<g id=\"edge10\" class=\"edge\"><title>More&#45;&gt;Home</title>\r\n",
       "<path fill=\"none\" stroke=\"black\" d=\"M181.831,-46.5105C150.942,-48.6721 99.8735,-48.8727 65.2398,-47.1122\"/>\r\n",
       "<polygon fill=\"black\" stroke=\"black\" points=\"65.2509,-43.6067 55.0596,-46.5029 64.8326,-50.5942 65.2509,-43.6067\"/>\r\n",
       "</g>\r\n",
       "<!-- More&#45;&gt;About -->\r\n",
       "<g id=\"edge12\" class=\"edge\"><title>More&#45;&gt;About</title>\r\n",
       "<path fill=\"none\" stroke=\"black\" d=\"M188.889,-59.5936C178.897,-66.8203 166.438,-74.9651 154.844,-81.9298\"/>\r\n",
       "<polygon fill=\"black\" stroke=\"black\" points=\"153.063,-78.9169 146.203,-86.991 156.601,-84.9572 153.063,-78.9169\"/>\r\n",
       "</g>\r\n",
       "<!-- More&#45;&gt;Product -->\r\n",
       "<g id=\"edge11\" class=\"edge\"><title>More&#45;&gt;Product</title>\r\n",
       "<path fill=\"none\" stroke=\"black\" d=\"M237.255,-35.3615C245.145,-34.8772 253.962,-34.7048 262.512,-34.8443\"/>\r\n",
       "<polygon fill=\"black\" stroke=\"black\" points=\"262.622,-38.3495 272.728,-35.1691 262.844,-31.353 262.622,-38.3495\"/>\r\n",
       "</g>\r\n",
       "</g>\r\n",
       "</svg>\r\n"
      ],
      "text/plain": [
       "<graphviz.files.Source at 0x2a5107d36a0>"
      ]
     },
     "execution_count": 32,
     "metadata": {},
     "output_type": "execute_result"
    }
   ],
   "source": [
    "pages = {\n",
    "    \"Home\": [\"About\",\"Product\",\"More\"],\n",
    "    \"About\": [\"Product\",\"Home\",\"More\"],\n",
    "    \"Product\": [\"More\",\"Home\",\"About\"],\n",
    "    \"More\": [\"Home\",\"Product\",\"About\"]\n",
    "}\n",
    "\n",
    "pr = PageRank(pages, initial_guess=1)\n",
    "pr.calculate(20, report=True, report_every=20, rep_function=report)\n",
    "print(\"Average PR: %.3f\" % pr.get_avg())\n",
    "pr.get_digraph(show_pr=True)"
   ]
  },
  {
   "cell_type": "markdown",
   "metadata": {},
   "source": [
    "Yes, the results are the same as the Looping example above and for the same reasons."
   ]
  },
  {
   "cell_type": "markdown",
   "metadata": {},
   "source": [
    "### Example 8 \n",
    "Hierarchical – but with a link in and one out.\n",
    "\n",
    "We’ll assume there’s an external site that has lots of pages and links with the result that one of the pages has the average PR of 1.0. We’ll also assume the webmaster really likes us – there’s just one link from that page and it’s pointing at our home page."
   ]
  },
  {
   "cell_type": "code",
   "execution_count": 38,
   "metadata": {},
   "outputs": [],
   "source": [
    "# Missing"
   ]
  },
  {
   "cell_type": "markdown",
   "metadata": {},
   "source": [
    "In example 5 the home page only had a PR of 1.92 but now it is 3.31! Excellent! Not only has site A contributed 0.85 PR to us, but the raised PR in the “About”, “Product” and “More” pages has had a lovely “feedback” effect, pushing up the home page’s PR even further!\n",
    "\n",
    " - Priciple: a well structured site will amplify the effect of any contributed PR"
   ]
  },
  {
   "cell_type": "markdown",
   "metadata": {},
   "source": [
    "### Example 9 \n",
    "Looping – but with a link in and a link out"
   ]
  },
  {
   "cell_type": "code",
   "execution_count": null,
   "metadata": {
    "collapsed": true
   },
   "outputs": [],
   "source": [
    "# Missing"
   ]
  },
  {
   "cell_type": "markdown",
   "metadata": {},
   "source": [
    "Well, the PR of our home page has gone up a little, but what’s happened to the “More” page?\n",
    "\n",
    "The vote of the “Product” page has been split evenly between it and the external site. We now value the external Site B equally with our “More” page. The “More” page is getting only half the vote it had before – this is good for Site B but very bad for us!"
   ]
  },
  {
   "cell_type": "markdown",
   "metadata": {},
   "source": [
    "### Example 10   \n",
    "Fully meshed – but with one vote in and one vote out  "
   ]
  },
  {
   "cell_type": "code",
   "execution_count": null,
   "metadata": {
    "collapsed": true
   },
   "outputs": [],
   "source": [
    "# Missing"
   ]
  },
  {
   "cell_type": "markdown",
   "metadata": {},
   "source": [
    "That’s much better. The “More” page is still getting less share of the vote than in example 7 of course, but now the “Product” page has kept three quarters of its vote within our site - unlike example 10 where it was giving away fully half of it’s vote to the external site!\n",
    "\n",
    "Keeping just this small extra fraction of the vote within our site has had a very nice effect on the Home Page too – PR of 2.28 compared with just 1.66 in example 10.\n",
    "\n",
    " - **Observation**: increasing the internal links in your site can minimise the damage to your PR when you give away votes by linking to external sites. \n",
    " - **Principle**: \n",
    "     - If a particular page is highly important – use a hierarchical structure with the important page at the “top”.\n",
    "     - Where a group of pages may contain outward links – increase the number of internal links to retain as much PR as possible.\n",
    "     - Where a group of pages do not contain outward links – the number of internal links in the site has no effect on the site’s average PR. You might as well use a link structure that gives the user the best navigational experience."
   ]
  },
  {
   "cell_type": "markdown",
   "metadata": {},
   "source": [
    "## Site Maps  \n",
    "Site maps are useful in at least two ways:\n",
    "\n",
    " - If a user types in a bad URL most websites return a really unhelpful “404 – page not found” error page. This can be discouraging. Why not configure your server to return a page that shows an error has been made, but also gives the site map? This can help the user enormously  \n",
    " - Linking to a site map on each page increases the number of internal links in the site, spreading the PR out and protecting you against your vote “donations”\n",
    " "
   ]
  },
  {
   "cell_type": "markdown",
   "metadata": {},
   "source": [
    "### Example 11  \n",
    "Lets try to fix our site to artificially concentrate the PR into the home page."
   ]
  },
  {
   "cell_type": "code",
   "execution_count": null,
   "metadata": {
    "collapsed": true
   },
   "outputs": [],
   "source": []
  },
  {
   "cell_type": "markdown",
   "metadata": {},
   "source": [
    "That looks good, most of the links seem to be pointing up to page A so we should get a nice PR.\n",
    "\n",
    "Try to guess what the PR of A will be before you scroll down or run the code."
   ]
  },
  {
   "cell_type": "code",
   "execution_count": null,
   "metadata": {
    "collapsed": true
   },
   "outputs": [],
   "source": []
  },
  {
   "cell_type": "markdown",
   "metadata": {},
   "source": [
    "Oh dear, that didn’t work at all well – it’s much worse than just an ordinary hierarchy! What’s going on is that pages C and D have such weak incoming links that they’re no help to page A at all!\n",
    "\n",
    " - **Principle**: trying to abuse the PR calculation is harder than you think."
   ]
  },
  {
   "cell_type": "markdown",
   "metadata": {},
   "source": [
    "### Example 12  \n",
    "A common web layout for long documentation is to split the document into many pages with a “Previous” and “Next” link on each plus a link back to the home page. The home page then only needs to point to the first page of the document."
   ]
  },
  {
   "cell_type": "code",
   "execution_count": null,
   "metadata": {
    "collapsed": true
   },
   "outputs": [],
   "source": []
  },
  {
   "cell_type": "markdown",
   "metadata": {},
   "source": [
    "In this simple example, where there’s only one document, the first page of the document has a higher PR than the Home Page! This is because page B is getting all the vote from page A, but page A is only getting fractions of pages B, C and D.\n",
    "\n",
    " - **Principle**: in order to give users of your site a good experience, you may have to take a hit against your PR. There’s nothing you can do about this - and neither should you try to or worry about it! If your site is a pleasure to use lots of other webmasters will link to it and you’ll get back much more PR than you lost.  \n",
    " \n",
    "Can you also see the trend between this and the previous example? As you add more internal links to a site it gets closer to the Fully Meshed example where every page gets the average PR for the mesh.\n",
    "\n",
    " - **Observation**: as you add more internal links in your site, the PR will be spread out more evenly between the pages."
   ]
  },
  {
   "cell_type": "markdown",
   "metadata": {},
   "source": [
    "### Example 13  \n",
    "Getting high PR the wrong way and the right way.\n",
    "\n",
    "Just as an experiment, let’s see if we can get 1,000 pages pointing to our home page, but only have one link leaving it…"
   ]
  },
  {
   "cell_type": "code",
   "execution_count": null,
   "metadata": {
    "collapsed": true
   },
   "outputs": [],
   "source": []
  },
  {
   "cell_type": "markdown",
   "metadata": {},
   "source": [
    "Yup, those spam pages are pretty worthless but they sure add up!\n",
    "\n",
    " - **Observation**: it doesn’t matter how many pages you have in your site, your average PR will always be 1.0 at best. But a hierarchical layout can strongly concentrate votes, and therefore the PR, into the home page!  \n",
    "\n",
    "This is a technique used by some disreputable sites (mostly adult content sites). But I can’t advise this - if Google’s robots decide you’re doing this there’s a good chance you’ll be banned from Google! Disaster!\n",
    "\n",
    "On the other hand there are at least two right ways to do this:"
   ]
  },
  {
   "cell_type": "markdown",
   "metadata": {},
   "source": [
    "## 1. Be a Mega-site\n",
    "\n",
    "Mega-sites, like [http://news.bbc.co.uk](http://news.bbc.co.uk) have tens or hundreds of editors writing new content – i.e. new pages - all day long! Each one of those pages has rich, worthwile content of its own and a link back to its parent or the home page! That’s why the Home page Toolbar PR of these sites is 9/10 and the rest of us just get pushed lower and lower by comparison…\n",
    "\n",
    " - **Principle**: Content Is King! There really is no substitute for lots of good content…"
   ]
  },
  {
   "cell_type": "markdown",
   "metadata": {},
   "source": [
    "## 2. Give away something useful\n",
    "\n",
    "[www.phpbb.com](www.phpbb.com) has a Toolbar PR of 8/10 (at the time of writing) and it has no big money or marketing behind it! How can this be?\n",
    "\n",
    "What the group has done is write a very useful bulletin board system that is becoming very popular on many websites. And at the bottom of every page, in every installation, is this HTML code:  \n",
    "\n",
    "````\n",
    "Powered by <a href=\"http://www.phpbb.com/\" target=\"_blank\">phpBB</a>\n",
    "```\n",
    "\n",
    "The administrator of each installation can remove that link, but most don’t because they want to return the favour…\n",
    "\n",
    "Can you imagine all those millions of pages giving a fraction of a vote to [www.phpbb.com](www.phpbb.com)? Wow!\n",
    "\n",
    " - **Principle**: Make it worth other people’s while to use your content or tools. If your give-away is good enough other site admins will gladly give you a link back. \n",
    " \n",
    " - **Principle**: it’s probably better to get lots (perhaps thousands) of links from sites with small PR than to spend any time or money desperately trying to get just the one link from a high PR page."
   ]
  },
  {
   "cell_type": "markdown",
   "metadata": {},
   "source": [
    "### A Discussion on Averages\n",
    "\n",
    "From the Brin and Page paper, the average Actual PR of all pages in the index is 1.0!\n",
    "\n",
    "So if you add pages to a site you’re building the total PR will go up by 1.0 for each page (but only if you link the pages together so the equation can work), but the average will remain the same.\n",
    "\n",
    "If you want to concentrate the PR into one, or a few, pages then hierarchical linking will do that. If you want to average out the PR amongst the pages then \"fully meshing\" the site (lots of evenly distributed links) will do that - examples 5, 6, and 7 in my above. (NB. this is where Ridings’ goes wrong, in his MiniRank model feedback loops will increase PR - indefinitely!)\n",
    "\n",
    "Getting inbound links to your site is the only way to increase your site's average PR. How that PR is distributed amongst the pages on your site depends on the details of your internal linking and which of your pages are linked to.\n",
    "\n",
    "If you give outbound links to other sites then your site's average PR will decrease (you're not keeping your vote \"in house\" as it were). Again the details of the decrease will depend on the details of the linking.\n",
    "\n",
    "Given that the average of every page is 1.0 we can see that for every site that has an actual ranking in the millions (and there are some!) there must be lots and lots of sites who's Actual PR is below 1.0 (particularly because the absolute lowest Actual PR available is (1 - d)).\n",
    "\n",
    "It may be that the Toolbar PR 1,2 correspond to Actual PR's lower than 1.0! E.g. the logbase for the Toolbar may be 10 but the Actual PR sequence could start quite low: 0.01, 0.1, 1, 10, 100, 1,000 etc..."
   ]
  },
  {
   "cell_type": "markdown",
   "metadata": {},
   "source": [
    "## Finally\n",
    "\n",
    "PageRank is, in fact, very simple (apart from one scary looking formula). But when a simple calculation is applied hundreds (or billions) of times over the results can seem complicated.\n",
    "\n",
    "PageRank is also only part of the story about what results get displayed high up in a Google listing. For example there’s some evidence to suggest that Google is paying a lot of attention these days to the text in a link’s anchor when deciding the relevance of a target page – perhaps more so than the page’s PR…\n",
    "\n",
    "PageRank is still part of the listings story though, so it’s worth your while as a good designer to make sure you understand it correctly."
   ]
  },
  {
   "cell_type": "markdown",
   "metadata": {},
   "source": [
    "## Links\n",
    "\n",
    "- The original PageRank paper by Google’s founders Sergey Brin and Lawrence Page - [http://www-db.stanford.edu/~backrub/google.html](http://www-db.stanford.edu/~backrub/google.html)\n",
    "- Chris Ridings’ “PageRank Explained” paper which, as of April 2002 [http://web.archive.org/web/*/http://www.goodlookingcooking.co.uk/PageRank.pdf](http://web.archive.org/web/*/http://www.goodlookingcooking.co.uk/PageRank.pdf) , contains one major mistake/misunderstanding - http://www.goodlookingcooking.co.uk/PageRank.pdf\n",
    "- Phil Craven’s [PageRank Calculator](http://webworkshop.net/pagerank_calculator.html) (fortunately his figures agree with mine)\n",
    "- A detailed explanation of how easy it is to [alter the PageRank equation by mistake](http://www.iprcom.com/papers/pagerank/altered_equation.html)\n",
    " - An excellent discussion on chad-jams (including “pregnant chad”) by Douglas W. Jones - [http://www.cs.uiowa.edu/~jones/cards/chad.html](http://www.cs.uiowa.edu/~jones/cards/chad.html) - I don’t think many people know the United States’ voting system is this flawed!!!\n",
    "- Discussion forums on this topic:\n",
    "    - [MarketPositionTalk - PageRank updates](http://www.marketpositiontalk.com/forums/index.cfm?cfapp=11)\n",
    "    - [SearchEngineForums - PR documents and calculator](http://searchengineforums.com/Forum28/HTML/002922.html)\n",
    "    - [WebmasterWorld - PR document and calculator](http://www.webmasterworld.com/forum3/3199.htm)"
   ]
  },
  {
   "cell_type": "markdown",
   "metadata": {},
   "source": [
    "## About the Author\n",
    "\n",
    "[Ian Rogers](http://www.ianrogers.net/) first used the Internet in 1986 sending email on a University VAX machine! He first installed a webserver in 1990, taught himself HTML and perl CGI scripting. Since then he has been a Senior Research Fellow in User Interface Design and a consultant in Network Security and Database Backed Websites. He has had an informal interest in topology and the mathematics and behaviour of networks for years and has also been known to do a little Jive dancing.\n",
    "\n",
    "This paper was sponsored by [IPR Computing Ltd – specialists in Secure Networks and Database Backed Websites](http://www.iprcom.com/index.html)"
   ]
  }
 ],
 "metadata": {
  "kernelspec": {
   "display_name": "Python 3",
   "language": "python",
   "name": "python3"
  },
  "language_info": {
   "codemirror_mode": {
    "name": "ipython",
    "version": 3
   },
   "file_extension": ".py",
   "mimetype": "text/x-python",
   "name": "python",
   "nbconvert_exporter": "python",
   "pygments_lexer": "ipython3",
   "version": "3.6.1"
  }
 },
 "nbformat": 4,
 "nbformat_minor": 2
}
